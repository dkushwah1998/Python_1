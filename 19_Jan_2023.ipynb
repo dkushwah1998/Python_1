{
 "cells": [
  {
   "cell_type": "code",
   "execution_count": 1,
   "id": "1a493943",
   "metadata": {},
   "outputs": [],
   "source": [
    "import numpy as np\n",
    "a = np.array([[[[4,5,6,4]],[[5,6,5,4]],[[4,5,6,8]]],\n",
    "             [[[0,0,0,0]],[[4,5,6,7]],[[1,1,1,1]]]])"
   ]
  },
  {
   "cell_type": "code",
   "execution_count": 2,
   "id": "3ac08530",
   "metadata": {},
   "outputs": [
    {
     "data": {
      "text/plain": [
       "(2, 3, 1, 4)"
      ]
     },
     "execution_count": 2,
     "metadata": {},
     "output_type": "execute_result"
    }
   ],
   "source": [
    "a.shape"
   ]
  },
  {
   "cell_type": "code",
   "execution_count": 5,
   "id": "aaca58fd",
   "metadata": {},
   "outputs": [
    {
     "data": {
      "text/plain": [
       "array([[[[4, 5, 6, 4]],\n",
       "\n",
       "        [[5, 6, 5, 4]],\n",
       "\n",
       "        [[4, 5, 6, 8]]],\n",
       "\n",
       "\n",
       "       [[[0, 0, 0, 0]],\n",
       "\n",
       "        [[4, 5, 6, 7]],\n",
       "\n",
       "        [[1, 1, 1, 1]]]])"
      ]
     },
     "execution_count": 5,
     "metadata": {},
     "output_type": "execute_result"
    }
   ],
   "source": [
    "a"
   ]
  },
  {
   "cell_type": "code",
   "execution_count": 5,
   "id": "480295b8",
   "metadata": {},
   "outputs": [],
   "source": [
    "##3,2,1,4,8\n",
    "a = np.array([[[[[1,2,3,4,5,6,7,8],[2,3,4,5,6,7,8,9],\n",
    "                [3,4,5,6,7,8,9,0],[4,5,6,7,8,9,0,1]]],\n",
    "              [[[1,2,3,4,5,6,7,8],[2,3,4,5,6,7,8,9],[3,4,5,6,7,8,9,0],[0,1,2,3,4,5,6,7]]]],\n",
    "             [[[[1,2,3,4,5,6,7,8],[2,3,4,5,6,7,8,9],\n",
    "                [3,4,5,6,7,8,9,0],[4,5,6,7,8,9,0,1]]],\n",
    "              [[[1,2,3,4,5,6,7,8],[2,3,4,5,6,7,8,9],[3,4,5,6,7,8,9,0],[0,1,2,3,4,5,6,7]]]],[[[[1,2,3,4,5,6,7,8],[2,3,4,5,6,7,8,9],\n",
    "                [3,4,5,6,7,8,9,0],[4,5,6,7,8,9,0,1]]],\n",
    "              [[[1,2,3,4,5,6,7,8],[2,3,4,5,6,7,8,9],[3,4,5,6,7,8,9,0],[0,1,2,3,4,5,6,7]]]]])"
   ]
  },
  {
   "cell_type": "code",
   "execution_count": 6,
   "id": "27bd3909",
   "metadata": {},
   "outputs": [
    {
     "data": {
      "text/plain": [
       "(3, 2, 1, 4, 8)"
      ]
     },
     "execution_count": 6,
     "metadata": {},
     "output_type": "execute_result"
    }
   ],
   "source": [
    "a.shape"
   ]
  },
  {
   "cell_type": "code",
   "execution_count": 7,
   "id": "b259c109",
   "metadata": {},
   "outputs": [
    {
     "data": {
      "text/plain": [
       "array([[[[[1, 2, 3, 4, 5, 6, 7, 8],\n",
       "          [2, 3, 4, 5, 6, 7, 8, 9],\n",
       "          [3, 4, 5, 6, 7, 8, 9, 0],\n",
       "          [4, 5, 6, 7, 8, 9, 0, 1]]],\n",
       "\n",
       "\n",
       "        [[[1, 2, 3, 4, 5, 6, 7, 8],\n",
       "          [2, 3, 4, 5, 6, 7, 8, 9],\n",
       "          [3, 4, 5, 6, 7, 8, 9, 0],\n",
       "          [0, 1, 2, 3, 4, 5, 6, 7]]]],\n",
       "\n",
       "\n",
       "\n",
       "       [[[[1, 2, 3, 4, 5, 6, 7, 8],\n",
       "          [2, 3, 4, 5, 6, 7, 8, 9],\n",
       "          [3, 4, 5, 6, 7, 8, 9, 0],\n",
       "          [4, 5, 6, 7, 8, 9, 0, 1]]],\n",
       "\n",
       "\n",
       "        [[[1, 2, 3, 4, 5, 6, 7, 8],\n",
       "          [2, 3, 4, 5, 6, 7, 8, 9],\n",
       "          [3, 4, 5, 6, 7, 8, 9, 0],\n",
       "          [0, 1, 2, 3, 4, 5, 6, 7]]]],\n",
       "\n",
       "\n",
       "\n",
       "       [[[[1, 2, 3, 4, 5, 6, 7, 8],\n",
       "          [2, 3, 4, 5, 6, 7, 8, 9],\n",
       "          [3, 4, 5, 6, 7, 8, 9, 0],\n",
       "          [4, 5, 6, 7, 8, 9, 0, 1]]],\n",
       "\n",
       "\n",
       "        [[[1, 2, 3, 4, 5, 6, 7, 8],\n",
       "          [2, 3, 4, 5, 6, 7, 8, 9],\n",
       "          [3, 4, 5, 6, 7, 8, 9, 0],\n",
       "          [0, 1, 2, 3, 4, 5, 6, 7]]]]])"
      ]
     },
     "execution_count": 7,
     "metadata": {},
     "output_type": "execute_result"
    }
   ],
   "source": [
    "a"
   ]
  },
  {
   "cell_type": "code",
   "execution_count": 8,
   "id": "20215348",
   "metadata": {},
   "outputs": [
    {
     "data": {
      "text/plain": [
       "array([0, 1, 2, 3, 4, 5, 6, 7, 8, 9])"
      ]
     },
     "execution_count": 8,
     "metadata": {},
     "output_type": "execute_result"
    }
   ],
   "source": [
    "b = np.arange(10)\n",
    "b"
   ]
  },
  {
   "cell_type": "code",
   "execution_count": 9,
   "id": "15acacfe",
   "metadata": {},
   "outputs": [
    {
     "data": {
      "text/plain": [
       "array([[0, 1, 2, 3, 4],\n",
       "       [5, 6, 7, 8, 9]])"
      ]
     },
     "execution_count": 9,
     "metadata": {},
     "output_type": "execute_result"
    }
   ],
   "source": [
    "b.reshape((2,5))"
   ]
  },
  {
   "cell_type": "code",
   "execution_count": 11,
   "id": "0cb2ae6f",
   "metadata": {},
   "outputs": [
    {
     "data": {
      "text/plain": [
       "array([[0, 1],\n",
       "       [2, 3],\n",
       "       [4, 5],\n",
       "       [6, 7],\n",
       "       [8, 9]])"
      ]
     },
     "execution_count": 11,
     "metadata": {},
     "output_type": "execute_result"
    }
   ],
   "source": [
    "b.reshape((5,2))"
   ]
  },
  {
   "cell_type": "code",
   "execution_count": 12,
   "id": "d786b333",
   "metadata": {},
   "outputs": [
    {
     "data": {
      "text/plain": [
       "array([ 0,  1,  2,  3,  4,  5,  6,  7,  8,  9, 10, 11, 12, 13, 14, 15, 16,\n",
       "       17, 18, 19, 20, 21, 22, 23, 24, 25, 26, 27, 28, 29])"
      ]
     },
     "execution_count": 12,
     "metadata": {},
     "output_type": "execute_result"
    }
   ],
   "source": [
    "c = np.arange(30)\n",
    "c"
   ]
  },
  {
   "cell_type": "code",
   "execution_count": 14,
   "id": "c06dc809",
   "metadata": {},
   "outputs": [],
   "source": [
    "x = c.reshape((3,2,5))"
   ]
  },
  {
   "cell_type": "code",
   "execution_count": 15,
   "id": "78dc63af",
   "metadata": {},
   "outputs": [
    {
     "data": {
      "text/plain": [
       "array([[[ 0,  1,  2,  3,  4],\n",
       "        [ 5,  6,  7,  8,  9]],\n",
       "\n",
       "       [[10, 11, 12, 13, 14],\n",
       "        [15, 16, 17, 18, 19]],\n",
       "\n",
       "       [[20, 21, 22, 23, 24],\n",
       "        [25, 26, 27, 28, 29]]])"
      ]
     },
     "execution_count": 15,
     "metadata": {},
     "output_type": "execute_result"
    }
   ],
   "source": [
    "x"
   ]
  },
  {
   "cell_type": "code",
   "execution_count": 16,
   "id": "e697f613",
   "metadata": {},
   "outputs": [
    {
     "data": {
      "text/plain": [
       "array([[ 0,  1,  2,  3,  4,  5,  6,  7,  8,  9],\n",
       "       [10, 11, 12, 13, 14, 15, 16, 17, 18, 19],\n",
       "       [20, 21, 22, 23, 24, 25, 26, 27, 28, 29]])"
      ]
     },
     "execution_count": 16,
     "metadata": {},
     "output_type": "execute_result"
    }
   ],
   "source": [
    "x.reshape((3,10))"
   ]
  },
  {
   "cell_type": "code",
   "execution_count": 17,
   "id": "f1ae1619",
   "metadata": {},
   "outputs": [
    {
     "data": {
      "text/plain": [
       "array([[ 0,  1,  2],\n",
       "       [ 3,  4,  5],\n",
       "       [ 6,  7,  8],\n",
       "       [ 9, 10, 11],\n",
       "       [12, 13, 14],\n",
       "       [15, 16, 17],\n",
       "       [18, 19, 20],\n",
       "       [21, 22, 23],\n",
       "       [24, 25, 26],\n",
       "       [27, 28, 29]])"
      ]
     },
     "execution_count": 17,
     "metadata": {},
     "output_type": "execute_result"
    }
   ],
   "source": [
    "x.reshape((10,3))"
   ]
  },
  {
   "cell_type": "code",
   "execution_count": 19,
   "id": "42209e9a",
   "metadata": {},
   "outputs": [
    {
     "data": {
      "text/plain": [
       "array([[ 0,  1,  2,  3,  4],\n",
       "       [ 5,  6,  7,  8,  9],\n",
       "       [10, 11, 12, 13, 14],\n",
       "       [15, 16, 17, 18, 19],\n",
       "       [20, 21, 22, 23, 24],\n",
       "       [25, 26, 27, 28, 29]])"
      ]
     },
     "execution_count": 19,
     "metadata": {},
     "output_type": "execute_result"
    }
   ],
   "source": [
    "y=x.reshape((6,5))\n",
    "y"
   ]
  },
  {
   "cell_type": "code",
   "execution_count": 20,
   "id": "d3a05660",
   "metadata": {},
   "outputs": [
    {
     "data": {
      "text/plain": [
       "array([[ 0,  5, 10, 15, 20, 25],\n",
       "       [ 1,  6, 11, 16, 21, 26],\n",
       "       [ 2,  7, 12, 17, 22, 27],\n",
       "       [ 3,  8, 13, 18, 23, 28],\n",
       "       [ 4,  9, 14, 19, 24, 29]])"
      ]
     },
     "execution_count": 20,
     "metadata": {},
     "output_type": "execute_result"
    }
   ],
   "source": [
    "y.transpose()"
   ]
  },
  {
   "cell_type": "code",
   "execution_count": 24,
   "id": "90d0fba6",
   "metadata": {},
   "outputs": [
    {
     "data": {
      "text/plain": [
       "array([[ 0,  1,  2,  3,  4],\n",
       "       [ 5,  6,  7,  8,  9],\n",
       "       [10, 11, 12, 13, 14],\n",
       "       [15, 16, 17, 18, 19],\n",
       "       [20, 21, 22, 23, 24],\n",
       "       [25, 26, 27, 28, 29],\n",
       "       [ 1,  2,  3,  4,  5]])"
      ]
     },
     "execution_count": 24,
     "metadata": {},
     "output_type": "execute_result"
    }
   ],
   "source": [
    "v = np.array([[1,2,3,4,5]])\n",
    "np.concatenate((y,v),axis = 0)"
   ]
  },
  {
   "cell_type": "code",
   "execution_count": 26,
   "id": "31069757",
   "metadata": {},
   "outputs": [
    {
     "data": {
      "text/plain": [
       "array([[ 0,  1,  2,  3,  4,  1],\n",
       "       [ 5,  6,  7,  8,  9,  2],\n",
       "       [10, 11, 12, 13, 14,  3],\n",
       "       [15, 16, 17, 18, 19,  4],\n",
       "       [20, 21, 22, 23, 24,  5],\n",
       "       [25, 26, 27, 28, 29,  6]])"
      ]
     },
     "execution_count": 26,
     "metadata": {},
     "output_type": "execute_result"
    }
   ],
   "source": [
    "q = np.array([[1,2,3,4,5,6]])\n",
    "np.concatenate((y,q.T),axis = 1)"
   ]
  },
  {
   "cell_type": "code",
   "execution_count": 40,
   "id": "ec4a4ce5",
   "metadata": {},
   "outputs": [
    {
     "data": {
      "text/plain": [
       "array([[ 0,  1,  2,  3,  4,  1],\n",
       "       [ 5,  6,  7,  8,  9,  2],\n",
       "       [10, 11, 12, 13, 14,  3],\n",
       "       [15, 16, 17, 18, 19,  4],\n",
       "       [20, 21, 22, 23, 24,  5],\n",
       "       [25, 26, 27, 28, 29,  6]])"
      ]
     },
     "execution_count": 40,
     "metadata": {},
     "output_type": "execute_result"
    }
   ],
   "source": [
    "d = np.concatenate((y,q.T),axis = 1)\n",
    "d"
   ]
  },
  {
   "cell_type": "code",
   "execution_count": 41,
   "id": "6a4086f0",
   "metadata": {},
   "outputs": [
    {
     "data": {
      "text/plain": [
       "array([[ 0,  1,  2,  3,  4],\n",
       "       [ 5,  6,  7,  8,  9],\n",
       "       [10, 11, 12, 13, 14],\n",
       "       [15, 16, 17, 18, 19],\n",
       "       [20, 21, 22, 23, 24],\n",
       "       [25, 26, 27, 28, 29]])"
      ]
     },
     "execution_count": 41,
     "metadata": {},
     "output_type": "execute_result"
    }
   ],
   "source": [
    "y"
   ]
  },
  {
   "cell_type": "code",
   "execution_count": 42,
   "id": "07f265fb",
   "metadata": {},
   "outputs": [
    {
     "data": {
      "text/plain": [
       "array([ 0,  1,  2,  3,  4,  5,  6,  7,  8,  9, 10, 11, 12, 13, 14, 15, 16,\n",
       "       17, 18, 19, 20, 21, 22, 23, 24, 25, 26, 27, 28, 29])"
      ]
     },
     "execution_count": 42,
     "metadata": {},
     "output_type": "execute_result"
    }
   ],
   "source": [
    "y.flatten()"
   ]
  },
  {
   "cell_type": "code",
   "execution_count": 43,
   "id": "bbcfc801",
   "metadata": {},
   "outputs": [
    {
     "data": {
      "text/plain": [
       "array([ 0,  1,  2,  3,  4,  5,  6,  7,  8,  9, 10, 11, 12, 13, 14, 15, 16,\n",
       "       17, 18, 19, 20, 21, 22, 23, 24, 25, 26, 27, 28, 29])"
      ]
     },
     "execution_count": 43,
     "metadata": {},
     "output_type": "execute_result"
    }
   ],
   "source": [
    "y.reshape(30)"
   ]
  },
  {
   "cell_type": "code",
   "execution_count": 44,
   "id": "8e7c0def",
   "metadata": {},
   "outputs": [
    {
     "data": {
      "text/plain": [
       "array([[ 0,  1,  2,  3,  4],\n",
       "       [ 5,  6,  7,  8,  9],\n",
       "       [10, 11, 12, 13, 14],\n",
       "       [15, 16, 17, 18, 19],\n",
       "       [20, 21, 22, 23, 24],\n",
       "       [25, 26, 27, 28, 29]])"
      ]
     },
     "execution_count": 44,
     "metadata": {},
     "output_type": "execute_result"
    }
   ],
   "source": [
    "y"
   ]
  },
  {
   "cell_type": "code",
   "execution_count": 45,
   "id": "fb281d52",
   "metadata": {},
   "outputs": [
    {
     "data": {
      "text/plain": [
       "array([[ 0,  1,  2,  3,  4],\n",
       "       [ 5,  6,  7,  8,  9],\n",
       "       [10, 11, 12, 13, 14],\n",
       "       [15, 16, 17, 18, 19],\n",
       "       [20, 21, 22, 23, 24],\n",
       "       [25, 26, 27, 28, 29]])"
      ]
     },
     "execution_count": 45,
     "metadata": {},
     "output_type": "execute_result"
    }
   ],
   "source": [
    "np.squeeze(y)"
   ]
  },
  {
   "cell_type": "code",
   "execution_count": 46,
   "id": "f3b40f8b",
   "metadata": {},
   "outputs": [
    {
     "data": {
      "text/plain": [
       "array([ 0,  1,  2,  3,  4,  5,  6,  7,  8,  9, 10, 11, 12, 13, 14, 15, 16,\n",
       "       17, 18, 19, 20, 21, 22, 23, 24, 25, 26, 27, 28, 29])"
      ]
     },
     "execution_count": 46,
     "metadata": {},
     "output_type": "execute_result"
    }
   ],
   "source": [
    "np.unique(y)"
   ]
  },
  {
   "cell_type": "code",
   "execution_count": 48,
   "id": "97f79d7d",
   "metadata": {},
   "outputs": [
    {
     "data": {
      "text/plain": [
       "array([[ 0,  1,  2,  3,  4,  1],\n",
       "       [ 5,  6,  7,  8,  9,  2],\n",
       "       [10, 11, 12, 13, 14,  3],\n",
       "       [15, 16, 17, 18, 19,  4],\n",
       "       [20, 21, 22, 23, 24,  5],\n",
       "       [25, 26, 27, 28, 29,  6]])"
      ]
     },
     "execution_count": 48,
     "metadata": {},
     "output_type": "execute_result"
    }
   ],
   "source": [
    "d"
   ]
  },
  {
   "cell_type": "code",
   "execution_count": 49,
   "id": "4f3a5c63",
   "metadata": {},
   "outputs": [
    {
     "data": {
      "text/plain": [
       "array([ 0,  1,  2,  3,  4,  5,  6,  7,  8,  9, 10, 11, 12, 13, 14, 15, 16,\n",
       "       17, 18, 19, 20, 21, 22, 23, 24, 25, 26, 27, 28, 29])"
      ]
     },
     "execution_count": 49,
     "metadata": {},
     "output_type": "execute_result"
    }
   ],
   "source": [
    "np.unique(d)"
   ]
  },
  {
   "cell_type": "code",
   "execution_count": 50,
   "id": "473adc64",
   "metadata": {},
   "outputs": [
    {
     "data": {
      "text/plain": [
       "array([[ 0,  1,  1,  2,  3,  4],\n",
       "       [ 5,  2,  6,  7,  8,  9],\n",
       "       [10,  3, 11, 12, 13, 14],\n",
       "       [15,  4, 16, 17, 18, 19],\n",
       "       [20,  5, 21, 22, 23, 24],\n",
       "       [25,  6, 26, 27, 28, 29]])"
      ]
     },
     "execution_count": 50,
     "metadata": {},
     "output_type": "execute_result"
    }
   ],
   "source": [
    "np.unique(d,axis = 1)"
   ]
  },
  {
   "cell_type": "code",
   "execution_count": 51,
   "id": "20c42eb1",
   "metadata": {},
   "outputs": [
    {
     "data": {
      "text/plain": [
       "array([[ 0,  1,  2,  3,  4,  1],\n",
       "       [ 5,  6,  7,  8,  9,  2],\n",
       "       [10, 11, 12, 13, 14,  3],\n",
       "       [15, 16, 17, 18, 19,  4],\n",
       "       [20, 21, 22, 23, 24,  5],\n",
       "       [25, 26, 27, 28, 29,  6]])"
      ]
     },
     "execution_count": 51,
     "metadata": {},
     "output_type": "execute_result"
    }
   ],
   "source": [
    "np.unique(d,axis = 0)"
   ]
  },
  {
   "cell_type": "code",
   "execution_count": 60,
   "id": "9c216787",
   "metadata": {},
   "outputs": [],
   "source": [
    "d1 = np.array([[0,1,2,3,4,1]])\n",
    "d2 = np.concatenate((d,d1),axis =0)"
   ]
  },
  {
   "cell_type": "code",
   "execution_count": 61,
   "id": "daa5687d",
   "metadata": {},
   "outputs": [
    {
     "data": {
      "text/plain": [
       "array([[ 0,  1,  2,  3,  4,  1],\n",
       "       [ 5,  6,  7,  8,  9,  2],\n",
       "       [10, 11, 12, 13, 14,  3],\n",
       "       [15, 16, 17, 18, 19,  4],\n",
       "       [20, 21, 22, 23, 24,  5],\n",
       "       [25, 26, 27, 28, 29,  6],\n",
       "       [ 0,  1,  2,  3,  4,  1]])"
      ]
     },
     "execution_count": 61,
     "metadata": {},
     "output_type": "execute_result"
    }
   ],
   "source": [
    "d2"
   ]
  },
  {
   "cell_type": "code",
   "execution_count": 62,
   "id": "749a5f99",
   "metadata": {},
   "outputs": [
    {
     "data": {
      "text/plain": [
       "array([[ 0,  1,  2,  3,  4,  1],\n",
       "       [ 5,  6,  7,  8,  9,  2],\n",
       "       [10, 11, 12, 13, 14,  3],\n",
       "       [15, 16, 17, 18, 19,  4],\n",
       "       [20, 21, 22, 23, 24,  5],\n",
       "       [25, 26, 27, 28, 29,  6]])"
      ]
     },
     "execution_count": 62,
     "metadata": {},
     "output_type": "execute_result"
    }
   ],
   "source": [
    "np.unique(d2,axis = 0)"
   ]
  },
  {
   "cell_type": "code",
   "execution_count": null,
   "id": "52f2956f",
   "metadata": {},
   "outputs": [],
   "source": []
  }
 ],
 "metadata": {
  "kernelspec": {
   "display_name": "Python 3 (ipykernel)",
   "language": "python",
   "name": "python3"
  },
  "language_info": {
   "codemirror_mode": {
    "name": "ipython",
    "version": 3
   },
   "file_extension": ".py",
   "mimetype": "text/x-python",
   "name": "python",
   "nbconvert_exporter": "python",
   "pygments_lexer": "ipython3",
   "version": "3.9.12"
  }
 },
 "nbformat": 4,
 "nbformat_minor": 5
}
