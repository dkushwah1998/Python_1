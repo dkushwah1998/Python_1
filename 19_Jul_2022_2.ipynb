{
 "cells": [
  {
   "cell_type": "code",
   "execution_count": 45,
   "id": "2451ae97",
   "metadata": {},
   "outputs": [
    {
     "name": "stdout",
     "output_type": "stream",
     "text": [
      "90\n",
      "Both object must be integer\n"
     ]
    }
   ],
   "source": [
    "def sum_two(x,y):\n",
    "    if type(x)==int and type(y)==int:\n",
    "        return x+y\n",
    "    else:\n",
    "        print(\"Both object must be integer\")\n",
    "print(sum_two(25,65))\n",
    "sum_two(26, 'D')"
   ]
  },
  {
   "cell_type": "code",
   "execution_count": 46,
   "id": "a1f1b88e",
   "metadata": {},
   "outputs": [
    {
     "name": "stdout",
     "output_type": "stream",
     "text": [
      "5\n",
      "6\n",
      "(5+6)^2 = 121\n"
     ]
    }
   ],
   "source": [
    "x = int(input())\n",
    "y = int(input())\n",
    "result = pow((x+y),2)\n",
    "print(\"({0}+{1})^2 = {2}\".format(x,y,result))"
   ]
  },
  {
   "cell_type": "code",
   "execution_count": 47,
   "id": "4ac1e733",
   "metadata": {},
   "outputs": [
    {
     "name": "stdout",
     "output_type": "stream",
     "text": [
      "enter first point:\n",
      "4,5\n",
      "Enter second Point:\n",
      "5,6\n",
      "Distance between two point:\n",
      " 1.4142135623730951\n"
     ]
    }
   ],
   "source": [
    "import math\n",
    "x1, y1 = input(\"enter first point:\\n\").split(',')\n",
    "x2, y2 = input(\"Enter second Point:\\n\").split(',')\n",
    "x1 = int(x1)\n",
    "x2 = int(x2)\n",
    "y1 = int(y1)\n",
    "y2 = int(y2)\n",
    "distance = math.sqrt(pow((x1-x2),2) + pow((y1-y2),2))\n",
    "print(\"Distance between two point:\\n\",distance)"
   ]
  },
  {
   "cell_type": "code",
   "execution_count": 48,
   "id": "9600b355",
   "metadata": {},
   "outputs": [
    {
     "name": "stdout",
     "output_type": "stream",
     "text": [
      "\n",
      " 2.0\n"
     ]
    }
   ],
   "source": [
    "p1 = [4,6]\n",
    "p2 = [2,8]\n",
    "distance = math.sqrt(pow((p1[0]-p1[0]),2) + pow((p1[1]-p2[1]),2))\n",
    "print(\"\\n\",distance)"
   ]
  },
  {
   "cell_type": "code",
   "execution_count": 49,
   "id": "f633c1e5",
   "metadata": {},
   "outputs": [
    {
     "name": "stdout",
     "output_type": "stream",
     "text": [
      "True\n",
      "False\n",
      "False\n",
      "True\n"
     ]
    }
   ],
   "source": [
    "import os.path\n",
    "print(os.path.isfile('1.ipynb'))\n",
    "print(os.path.isfile('aefhru8.jpg'))\n",
    "print(os.path.isfile('IMG_20220719_205133.pdf'))\n",
    "print(os.path.isfile('C:/Users/HP/Downloads/IMG_20220719_205133.pdf'))"
   ]
  },
  {
   "cell_type": "code",
   "execution_count": 50,
   "id": "98cb2d0b",
   "metadata": {},
   "outputs": [
    {
     "name": "stdout",
     "output_type": "stream",
     "text": [
      "64bit\n",
      "64\n"
     ]
    }
   ],
   "source": [
    "import platform, struct\n",
    "print(platform.architecture()[0])\n",
    "print(struct.calcsize(\"P\") * 8)"
   ]
  },
  {
   "cell_type": "code",
   "execution_count": 51,
   "id": "ba4c45e0",
   "metadata": {},
   "outputs": [
    {
     "name": "stdout",
     "output_type": "stream",
     "text": [
      "Number are diffrent\n",
      "All Numbers are not different\n",
      "None\n"
     ]
    }
   ],
   "source": [
    "def test_data(data):\n",
    "    if len(data)==len(set(data)):\n",
    "        return \"Number are diffrent\"\n",
    "    else:\n",
    "        print(\"All Numbers are not different\")\n",
    "print(test_data([2,3,5,6,8,9]))\n",
    "print(test_data([3,5,6,6,4,4]))"
   ]
  },
  {
   "cell_type": "code",
   "execution_count": 52,
   "id": "4bfa0d1f",
   "metadata": {},
   "outputs": [
    {
     "name": "stdout",
     "output_type": "stream",
     "text": [
      "aueio\n"
     ]
    }
   ],
   "source": [
    "import random\n",
    "char_list = ['a','e','i','o','u']\n",
    "random.shuffle(char_list)\n",
    "print(''.join(char_list))\n"
   ]
  },
  {
   "cell_type": "code",
   "execution_count": null,
   "id": "9921cce5",
   "metadata": {},
   "outputs": [],
   "source": []
  },
  {
   "cell_type": "code",
   "execution_count": null,
   "id": "8b48f159",
   "metadata": {},
   "outputs": [],
   "source": []
  },
  {
   "cell_type": "code",
   "execution_count": null,
   "id": "9220db13",
   "metadata": {},
   "outputs": [],
   "source": []
  }
 ],
 "metadata": {
  "kernelspec": {
   "display_name": "Python 3 (ipykernel)",
   "language": "python",
   "name": "python3"
  },
  "language_info": {
   "codemirror_mode": {
    "name": "ipython",
    "version": 3
   },
   "file_extension": ".py",
   "mimetype": "text/x-python",
   "name": "python",
   "nbconvert_exporter": "python",
   "pygments_lexer": "ipython3",
   "version": "3.9.12"
  }
 },
 "nbformat": 4,
 "nbformat_minor": 5
}
