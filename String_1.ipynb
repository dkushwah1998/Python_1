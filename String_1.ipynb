{
 "cells": [
  {
   "cell_type": "code",
   "execution_count": null,
   "id": "39c01f3d",
   "metadata": {},
   "outputs": [],
   "source": [
    "str_1 = \"Dharmendra Kuswah\"\n",
    "len(str_1)"
   ]
  },
  {
   "cell_type": "code",
   "execution_count": null,
   "id": "d1498785",
   "metadata": {},
   "outputs": [],
   "source": [
    "def char_frequency(str1):\n",
    "    dict = {}\n",
    "    for n in str1:\n",
    "        keys = dict.keys()\n",
    "        if n in keys:\n",
    "            dict[n] += 1\n",
    "        else:\n",
    "            dict[n] = 1\n",
    "    return dict\n",
    "print(char_frequency('google.com'))\n"
   ]
  },
  {
   "cell_type": "code",
   "execution_count": null,
   "id": "73e3961c",
   "metadata": {},
   "outputs": [],
   "source": [
    "str2 = input()\n",
    "n = len(str2)\n",
    "if n >= 2:\n",
    "    print(str2[0:2]+str2[-2:])\n",
    "else:\n",
    "    print(\"Empty String\")"
   ]
  },
  {
   "cell_type": "code",
   "execution_count": null,
   "id": "4bb2498d",
   "metadata": {},
   "outputs": [],
   "source": [
    "str3 = input()\n",
    "char = str3[0]\n",
    "str3 = str3.replace(char,'$')\n",
    "str_3 = char+str3[1:]\n",
    "print(str_3)"
   ]
  },
  {
   "cell_type": "code",
   "execution_count": null,
   "id": "37580e92",
   "metadata": {},
   "outputs": [],
   "source": [
    "def char_swap(a,b):\n",
    "    new_a = b[:2] + a[2:]\n",
    "    new_b = a[:2] + b[2:]\n",
    "    return new_a+\" \"+new_b\n",
    "print(char_swap('dharmendra','Kushwah'))"
   ]
  },
  {
   "cell_type": "code",
   "execution_count": 1,
   "id": "382fb828",
   "metadata": {},
   "outputs": [
    {
     "name": "stdout",
     "output_type": "stream",
     "text": [
      "25\n",
      "23.221\n",
      "\"Dharmendra\"\n",
      "\"Kushwah\"\n",
      "Kushwah <class 'str'>\n",
      "25 <class 'int'>\n",
      "23.221 <class 'float'>\n",
      "Dharmendra <class 'str'>\n"
     ]
    }
   ],
   "source": [
    "a = eval(input())\n",
    "b = eval(input())\n",
    "c = eval(input())\n",
    "d = eval(input())\n",
    "print(d,type(d))\n",
    "print(a,type(a))\n",
    "print(b,type(b))\n",
    "print(c,type(c))"
   ]
  },
  {
   "cell_type": "code",
   "execution_count": null,
   "id": "fb2b71c3",
   "metadata": {},
   "outputs": [],
   "source": []
  },
  {
   "cell_type": "code",
   "execution_count": null,
   "id": "9511034e",
   "metadata": {},
   "outputs": [],
   "source": []
  }
 ],
 "metadata": {
  "kernelspec": {
   "display_name": "Python 3 (ipykernel)",
   "language": "python",
   "name": "python3"
  },
  "language_info": {
   "codemirror_mode": {
    "name": "ipython",
    "version": 3
   },
   "file_extension": ".py",
   "mimetype": "text/x-python",
   "name": "python",
   "nbconvert_exporter": "python",
   "pygments_lexer": "ipython3",
   "version": "3.9.12"
  }
 },
 "nbformat": 4,
 "nbformat_minor": 5
}
