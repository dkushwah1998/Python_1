{
 "cells": [
  {
   "cell_type": "code",
   "execution_count": 8,
   "id": "3a1afdb0",
   "metadata": {},
   "outputs": [
    {
     "name": "stdout",
     "output_type": "stream",
     "text": [
      "Enetr first number: 100\n",
      "Enter second number: 25\n",
      "sum of two numbers is  125\n",
      "Difference of two numbers is  75\n",
      "Product of two numbers is  2500\n",
      "Division of two numbers  4.0\n",
      "Mean of two numbers  62.5\n"
     ]
    }
   ],
   "source": [
    "#Basc Calculator\n",
    "num1 = int(input(\"Enetr first number: \"))\n",
    "num2 = int(input(\"Enter second number: \"))\n",
    "sum = num1+num2\n",
    "diff = num1-num2\n",
    "prod = num1*num2\n",
    "div = num1/num2\n",
    "mean = (num1+num2)/2\n",
    "print(\"sum of two numbers is \", sum)\n",
    "print(\"Difference of two numbers is \", diff)\n",
    "print(\"Product of two numbers is \", prod)\n",
    "print(\"Division of two numbers \", div)\n",
    "print(\"Mean of two numbers \", mean)"
   ]
  },
  {
   "cell_type": "code",
   "execution_count": 7,
   "id": "8eaa283e",
   "metadata": {},
   "outputs": [
    {
     "name": "stdout",
     "output_type": "stream",
     "text": [
      "Enetr first number: 100\n",
      "Enter second number: 50\n",
      "Sum of 100 and 50 is 150\n",
      "Difference of 100 and 50 is 50\n",
      "Product of 100 and 50 is 5000\n",
      "Division of 100 and 50 is 2.0\n",
      "Mean of 100 and 50 is 75.0\n"
     ]
    }
   ],
   "source": [
    "num1 = int(input(\"Enetr first number: \"))\n",
    "num2 = int(input(\"Enter second number: \"))\n",
    "sum = num1+num2\n",
    "diff = num1-num2\n",
    "prod = num1*num2\n",
    "div = num1/num2\n",
    "mean = (num1+num2)/2\n",
    "print(\"Sum of {0} and {1} is {2}\".format(num1, num2,sum))\n",
    "print(\"Difference of {0} and {1} is {2}\".format(num1, num2,diff))\n",
    "print(\"Product of {0} and {1} is {2}\".format(num1, num2,prod))\n",
    "print(\"Division of {0} and {1} is {2}\".format(num1, num2,div))\n",
    "print(\"Mean of {0} and {1} is {2}\".format(num1, num2,mean))"
   ]
  },
  {
   "cell_type": "code",
   "execution_count": 1,
   "id": "da5cbc8a",
   "metadata": {},
   "outputs": [
    {
     "name": "stdout",
     "output_type": "stream",
     "text": [
      "{'A': 2, 'B': 5, 0: 3}\n"
     ]
    }
   ],
   "source": [
    "a = {'A':2,'B':5}\n",
    "a[0] = 3\n",
    "print(a)"
   ]
  },
  {
   "cell_type": "code",
   "execution_count": null,
   "id": "3f553b17",
   "metadata": {},
   "outputs": [],
   "source": []
  }
 ],
 "metadata": {
  "kernelspec": {
   "display_name": "Python 3 (ipykernel)",
   "language": "python",
   "name": "python3"
  },
  "language_info": {
   "codemirror_mode": {
    "name": "ipython",
    "version": 3
   },
   "file_extension": ".py",
   "mimetype": "text/x-python",
   "name": "python",
   "nbconvert_exporter": "python",
   "pygments_lexer": "ipython3",
   "version": "3.9.7"
  }
 },
 "nbformat": 4,
 "nbformat_minor": 5
}
