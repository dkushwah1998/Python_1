{
 "cells": [
  {
   "cell_type": "code",
   "execution_count": 2,
   "id": "fb4a8c2d",
   "metadata": {},
   "outputs": [
    {
     "name": "stdout",
     "output_type": "stream",
     "text": [
      "[60, 10, 875, 1.4]\n"
     ]
    }
   ],
   "source": [
    "a = 25\n",
    "b = 35\n",
    "s = a+b\n",
    "s1 = b-a\n",
    "p = a*b\n",
    "d = b/a\n",
    "print([s,s1,p,d])"
   ]
  },
  {
   "cell_type": "code",
   "execution_count": 3,
   "id": "d2114ef0",
   "metadata": {},
   "outputs": [
    {
     "data": {
      "text/plain": [
       "[5, 25, 4, 7, 8, 36]"
      ]
     },
     "execution_count": 3,
     "metadata": {},
     "output_type": "execute_result"
    }
   ],
   "source": [
    "l = [5,6,4,7,8,36]\n",
    "l[1] = 25\n",
    "l"
   ]
  },
  {
   "cell_type": "code",
   "execution_count": 4,
   "id": "0efbe4af",
   "metadata": {},
   "outputs": [
    {
     "data": {
      "text/plain": [
       "[4, 7, 8, 36]"
      ]
     },
     "execution_count": 4,
     "metadata": {},
     "output_type": "execute_result"
    }
   ],
   "source": [
    "l[2:]"
   ]
  },
  {
   "cell_type": "code",
   "execution_count": 7,
   "id": "9391fd31",
   "metadata": {},
   "outputs": [
    {
     "data": {
      "text/plain": [
       "{'Apple': 50, 'Mango': 40, 'Banana': 60, 'papaya': 40}"
      ]
     },
     "execution_count": 7,
     "metadata": {},
     "output_type": "execute_result"
    }
   ],
   "source": [
    "a = {\"Apple\":50, \"Mango\":40, \"Banana\":60, \"papaya\":40}\n",
    "a\n"
   ]
  },
  {
   "cell_type": "code",
   "execution_count": 11,
   "id": "d80c766b",
   "metadata": {},
   "outputs": [
    {
     "name": "stdout",
     "output_type": "stream",
     "text": [
      "Enter binary number: 1\n",
      "Circuit is on\n"
     ]
    }
   ],
   "source": [
    "a = int(input(\"Enter binary number: \"))\n",
    "if a==1:\n",
    "    print(\"Circuit is on\")\n",
    "else:\n",
    "    print(\"circuit is off\")"
   ]
  },
  {
   "cell_type": "code",
   "execution_count": null,
   "id": "f8526b60",
   "metadata": {},
   "outputs": [],
   "source": [
    "i = 1\n",
    "while i<25:\n",
    "    print(25)"
   ]
  },
  {
   "cell_type": "code",
   "execution_count": null,
   "id": "37fc077b",
   "metadata": {},
   "outputs": [],
   "source": []
  }
 ],
 "metadata": {
  "kernelspec": {
   "display_name": "Python 3 (ipykernel)",
   "language": "python",
   "name": "python3"
  },
  "language_info": {
   "codemirror_mode": {
    "name": "ipython",
    "version": 3
   },
   "file_extension": ".py",
   "mimetype": "text/x-python",
   "name": "python",
   "nbconvert_exporter": "python",
   "pygments_lexer": "ipython3",
   "version": "3.9.12"
  }
 },
 "nbformat": 4,
 "nbformat_minor": 5
}
