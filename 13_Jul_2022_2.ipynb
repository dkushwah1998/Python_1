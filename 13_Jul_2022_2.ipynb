{
 "cells": [
  {
   "cell_type": "code",
   "execution_count": 1,
   "id": "e9430f99",
   "metadata": {},
   "outputs": [
    {
     "name": "stdout",
     "output_type": "stream",
     "text": [
      "5.0\n"
     ]
    }
   ],
   "source": [
    "a = 4+3j\n",
    "print(abs(a))"
   ]
  },
  {
   "cell_type": "code",
   "execution_count": 2,
   "id": "74e41934",
   "metadata": {},
   "outputs": [
    {
     "name": "stdout",
     "output_type": "stream",
     "text": [
      "5.0\n"
     ]
    }
   ],
   "source": [
    "a=complex('3+4j')\n",
    "print(abs(a))"
   ]
  },
  {
   "cell_type": "code",
   "execution_count": 3,
   "id": "f2763213",
   "metadata": {},
   "outputs": [
    {
     "name": "stdout",
     "output_type": "stream",
     "text": [
      "(4, 2)\n"
     ]
    }
   ],
   "source": [
    "a = 14\n",
    "b = 3\n",
    "print(divmod(a,b))"
   ]
  },
  {
   "cell_type": "code",
   "execution_count": 4,
   "id": "4ba3602b",
   "metadata": {},
   "outputs": [
    {
     "name": "stdout",
     "output_type": "stream",
     "text": [
      "Enter first number: 45\n",
      "Enter second number: 12\n",
      "sum of 45 & 12 is:\n",
      " 57\n",
      "prod of 45 & 12 is:\n",
      " 540\n",
      "sub of 45 & 12 is:\n",
      " 33\n",
      "div of 45 & 12 is:\n",
      " 3.75\n",
      "div1 of 45 & 12 is:\n",
      " 3\n",
      "rem of 45 & 12 is:\n",
      " 9\n"
     ]
    }
   ],
   "source": [
    "num1 = int(input(\"Enter first number: \"))\n",
    "num2 = int(input(\"Enter second number: \"))\n",
    "sum = num1 + num2\n",
    "prod = num1*num2\n",
    "sub = num1-num2\n",
    "div = num1/num2\n",
    "div1 = num1//num2\n",
    "rem = num1%num2\n",
    "print('sum of {0} & {1} is:\\n {2}'.format(num1, num2, sum))\n",
    "print('prod of {0} & {1} is:\\n {2}'.format(num1, num2, prod))\n",
    "print('sub of {0} & {1} is:\\n {2}'.format(num1, num2, sub))\n",
    "print('div of {0} & {1} is:\\n {2}'.format(num1, num2, div))\n",
    "print('div1 of {0} & {1} is:\\n {2}'.format(num1, num2, div1))\n",
    "print('rem of {0} & {1} is:\\n {2}'.format(num1, num2, rem))"
   ]
  },
  {
   "cell_type": "code",
   "execution_count": 5,
   "id": "15014a56",
   "metadata": {},
   "outputs": [
    {
     "name": "stdout",
     "output_type": "stream",
     "text": [
      "12,15,36,45,85\n",
      "List:  ['12', '15', '36', '45', '85']\n",
      "Tuple:  ('12', '15', '36', '45', '85')\n"
     ]
    }
   ],
   "source": [
    "num = input().split(',')\n",
    "print('List: ',list(num))\n",
    "print('Tuple: ',tuple(num))"
   ]
  },
  {
   "cell_type": "code",
   "execution_count": 6,
   "id": "dd3489a7",
   "metadata": {},
   "outputs": [
    {
     "name": "stdout",
     "output_type": "stream",
     "text": [
      "askjdjk.png\n",
      "png\n"
     ]
    }
   ],
   "source": [
    "file_name = input().split('.')\n",
    "print(file_name[-1])"
   ]
  },
  {
   "cell_type": "code",
   "execution_count": 7,
   "id": "a7fd2e8d",
   "metadata": {},
   "outputs": [
    {
     "name": "stdout",
     "output_type": "stream",
     "text": [
      "Red Black\n"
     ]
    }
   ],
   "source": [
    "color_list = [\"Red\",\"Green\",\"White\" ,\"Black\"]\n",
    "print(color_list[0],color_list[-1])"
   ]
  },
  {
   "cell_type": "code",
   "execution_count": 8,
   "id": "3ba0f01c",
   "metadata": {},
   "outputs": [
    {
     "name": "stdout",
     "output_type": "stream",
     "text": [
      "55\n"
     ]
    }
   ],
   "source": [
    "def max(a,b,c):\n",
    "    if a>=b & b>=c:\n",
    "        print(a)\n",
    "    elif b>=a & b>=c:\n",
    "        print(b)\n",
    "    else:\n",
    "        print(c)\n",
    "max(25,45,55)"
   ]
  },
  {
   "cell_type": "code",
   "execution_count": 9,
   "id": "3d253751",
   "metadata": {},
   "outputs": [
    {
     "name": "stdout",
     "output_type": "stream",
     "text": [
      "182\n"
     ]
    }
   ],
   "source": [
    "def sum(numbers):\n",
    "    total = 0\n",
    "    for x in numbers:\n",
    "        total += x\n",
    "    return total\n",
    "print(sum([12,25,35,65,45]))"
   ]
  },
  {
   "cell_type": "code",
   "execution_count": 10,
   "id": "6872151c",
   "metadata": {},
   "outputs": [
    {
     "name": "stdout",
     "output_type": "stream",
     "text": [
      "20\n"
     ]
    }
   ],
   "source": [
    "def sum(numbers):\n",
    "    total = 0\n",
    "    for x in numbers:\n",
    "        total += x\n",
    "    return total\n",
    "print(sum((8, 2, 3, 0, 7)))"
   ]
  },
  {
   "cell_type": "code",
   "execution_count": 11,
   "id": "52dc5fef",
   "metadata": {},
   "outputs": [
    {
     "name": "stdout",
     "output_type": "stream",
     "text": [
      "ardnemrahD\n"
     ]
    }
   ],
   "source": [
    "def rvrs_str(str1):\n",
    "    rstr1 = ''\n",
    "    index = len(str1)\n",
    "    while index>0:\n",
    "        rstr1 += str1[index-1]\n",
    "        index = index -1\n",
    "    return rstr1\n",
    "print(rvrs_str(\"Dharmendra\"))"
   ]
  },
  {
   "cell_type": "code",
   "execution_count": 12,
   "id": "554a7601",
   "metadata": {},
   "outputs": [
    {
     "name": "stdout",
     "output_type": "stream",
     "text": [
      "240\n"
     ]
    }
   ],
   "source": [
    "def mul(numbers):\n",
    "    total =1\n",
    "    for x in numbers:\n",
    "        total *= x\n",
    "    return total\n",
    "print(mul((2,3,5,8)))\n",
    "    "
   ]
  },
  {
   "cell_type": "code",
   "execution_count": 13,
   "id": "17306327",
   "metadata": {},
   "outputs": [
    {
     "name": "stdout",
     "output_type": "stream",
     "text": [
      "3628800\n"
     ]
    }
   ],
   "source": [
    "def fact(n):\n",
    "    fact1 = 1\n",
    "    while n>0:\n",
    "        fact1 *= n\n",
    "        n = n-1\n",
    "    return fact1\n",
    "print(fact(10))"
   ]
  },
  {
   "cell_type": "code",
   "execution_count": 14,
   "id": "59da5f1c",
   "metadata": {},
   "outputs": [],
   "source": [
    "import numpy as np"
   ]
  },
  {
   "cell_type": "code",
   "execution_count": 17,
   "id": "58ad67b1",
   "metadata": {},
   "outputs": [
    {
     "name": "stdout",
     "output_type": "stream",
     "text": [
      "Enter no of years:\n",
      "1\n",
      "Enter Sip Amount:\n",
      "500\n",
      "Enter rate of interest Yearly:\n",
      "15\n",
      "6477.094057781784\n"
     ]
    }
   ],
   "source": [
    "n = float(input(\"Enter no of years:\\n\"))\n",
    "P = float(input(\"Enter Sip Amount:\\n\"))\n",
    "r = float(input(\"Enter rate of interest Yearly:\\n\"))\n",
    "arr = np.arange(n,0,-1/12)\n",
    "A = 0\n",
    "for i in arr:\n",
    "    A += P*(pow((1+r/100),i))\n",
    "print(A)\n",
    "    \n",
    "\n",
    "\n",
    "    "
   ]
  },
  {
   "cell_type": "code",
   "execution_count": 18,
   "id": "c97247cb",
   "metadata": {},
   "outputs": [
    {
     "name": "stdout",
     "output_type": "stream",
     "text": [
      "[1.  1.1 1.2 1.3 1.4 1.5 1.6 1.7 1.8 1.9 2.  2.1 2.2 2.3 2.4 2.5 2.6 2.7\n",
      " 2.8 2.9 3.  3.1 3.2 3.3 3.4 3.5 3.6 3.7 3.8 3.9 4.  4.1 4.2 4.3 4.4 4.5\n",
      " 4.6 4.7 4.8 4.9]\n",
      "1.6762617505353843e+17\n"
     ]
    }
   ],
   "source": [
    "arr = np.arange(1,5,0.1)\n",
    "print(arr)\n",
    "\n",
    "mul = 1\n",
    "\n",
    "for i in arr:\n",
    "    mul *= i\n",
    "print(mul)\n",
    "    \n",
    "    "
   ]
  },
  {
   "cell_type": "code",
   "execution_count": 19,
   "id": "cb981f01",
   "metadata": {},
   "outputs": [
    {
     "name": "stdout",
     "output_type": "stream",
     "text": [
      "6.381407812500002\n"
     ]
    }
   ],
   "source": [
    "a = 5*(pow((1+5/100),5))\n",
    "print(a)"
   ]
  },
  {
   "cell_type": "code",
   "execution_count": 20,
   "id": "f7f5d7f1",
   "metadata": {},
   "outputs": [
    {
     "name": "stdout",
     "output_type": "stream",
     "text": [
      "[10  9  8  7  6  5  4  3  2]\n"
     ]
    }
   ],
   "source": [
    "a = np.arange(10,1,-1)\n",
    "print(a)"
   ]
  },
  {
   "cell_type": "code",
   "execution_count": null,
   "id": "d84d00bd",
   "metadata": {},
   "outputs": [],
   "source": []
  }
 ],
 "metadata": {
  "kernelspec": {
   "display_name": "Python 3 (ipykernel)",
   "language": "python",
   "name": "python3"
  },
  "language_info": {
   "codemirror_mode": {
    "name": "ipython",
    "version": 3
   },
   "file_extension": ".py",
   "mimetype": "text/x-python",
   "name": "python",
   "nbconvert_exporter": "python",
   "pygments_lexer": "ipython3",
   "version": "3.9.12"
  }
 },
 "nbformat": 4,
 "nbformat_minor": 5
}
