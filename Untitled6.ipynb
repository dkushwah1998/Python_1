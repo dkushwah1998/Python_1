{
 "cells": [
  {
   "cell_type": "code",
   "execution_count": 1,
   "id": "7b00360f",
   "metadata": {},
   "outputs": [],
   "source": [
    "import numpy as np \n",
    "import pandas as pd\n",
    "import matplotlib.pyplot as plt"
   ]
  },
  {
   "cell_type": "code",
   "execution_count": 11,
   "id": "aed6ec69",
   "metadata": {},
   "outputs": [
    {
     "name": "stdout",
     "output_type": "stream",
     "text": [
      "(157, 15)\n"
     ]
    },
    {
     "data": {
      "text/html": [
       "<div>\n",
       "<style scoped>\n",
       "    .dataframe tbody tr th:only-of-type {\n",
       "        vertical-align: middle;\n",
       "    }\n",
       "\n",
       "    .dataframe tbody tr th {\n",
       "        vertical-align: top;\n",
       "    }\n",
       "\n",
       "    .dataframe thead th {\n",
       "        text-align: right;\n",
       "    }\n",
       "</style>\n",
       "<table border=\"1\" class=\"dataframe\">\n",
       "  <thead>\n",
       "    <tr style=\"text-align: right;\">\n",
       "      <th></th>\n",
       "      <th>Manufacturer</th>\n",
       "      <th>Model</th>\n",
       "      <th>Sales in thousands</th>\n",
       "      <th>4-year resale value</th>\n",
       "      <th>Vehicle type</th>\n",
       "      <th>Price in thousands</th>\n",
       "      <th>Engine size</th>\n",
       "      <th>Horsepower</th>\n",
       "      <th>Wheelbase</th>\n",
       "      <th>Width</th>\n",
       "      <th>Length</th>\n",
       "      <th>Curb weight</th>\n",
       "      <th>Fuel capacity</th>\n",
       "      <th>Fuel efficiency</th>\n",
       "      <th>Latest Launch</th>\n",
       "    </tr>\n",
       "  </thead>\n",
       "  <tbody>\n",
       "    <tr>\n",
       "      <th>0</th>\n",
       "      <td>Mitsubishi</td>\n",
       "      <td>3000GT</td>\n",
       "      <td>0.110</td>\n",
       "      <td>20.940000</td>\n",
       "      <td>Passenger</td>\n",
       "      <td>25.450</td>\n",
       "      <td>3.0</td>\n",
       "      <td>161.0</td>\n",
       "      <td>97.2</td>\n",
       "      <td>72.4</td>\n",
       "      <td>180.3</td>\n",
       "      <td>3.131</td>\n",
       "      <td>19.8</td>\n",
       "      <td>21.0</td>\n",
       "      <td>29-Jun-14</td>\n",
       "    </tr>\n",
       "    <tr>\n",
       "      <th>1</th>\n",
       "      <td>Dodge</td>\n",
       "      <td>Viper</td>\n",
       "      <td>0.916</td>\n",
       "      <td>58.470000</td>\n",
       "      <td>Passenger</td>\n",
       "      <td>69.725</td>\n",
       "      <td>8.0</td>\n",
       "      <td>450.0</td>\n",
       "      <td>96.2</td>\n",
       "      <td>75.7</td>\n",
       "      <td>176.7</td>\n",
       "      <td>3.375</td>\n",
       "      <td>19.0</td>\n",
       "      <td>16.0</td>\n",
       "      <td>08-Jul-15</td>\n",
       "    </tr>\n",
       "    <tr>\n",
       "      <th>2</th>\n",
       "      <td>Mercedes-Benz</td>\n",
       "      <td>CL500</td>\n",
       "      <td>0.954</td>\n",
       "      <td>18.072975</td>\n",
       "      <td>Passenger</td>\n",
       "      <td>85.500</td>\n",
       "      <td>5.0</td>\n",
       "      <td>302.0</td>\n",
       "      <td>113.6</td>\n",
       "      <td>73.1</td>\n",
       "      <td>196.6</td>\n",
       "      <td>4.115</td>\n",
       "      <td>23.2</td>\n",
       "      <td>20.0</td>\n",
       "      <td>04-Nov-15</td>\n",
       "    </tr>\n",
       "    <tr>\n",
       "      <th>3</th>\n",
       "      <td>Oldsmobile</td>\n",
       "      <td>Cutlass</td>\n",
       "      <td>1.112</td>\n",
       "      <td>11.240000</td>\n",
       "      <td>Passenger</td>\n",
       "      <td>18.145</td>\n",
       "      <td>3.1</td>\n",
       "      <td>150.0</td>\n",
       "      <td>107.0</td>\n",
       "      <td>69.4</td>\n",
       "      <td>192.0</td>\n",
       "      <td>3.102</td>\n",
       "      <td>15.2</td>\n",
       "      <td>25.0</td>\n",
       "      <td>31-May-15</td>\n",
       "    </tr>\n",
       "    <tr>\n",
       "      <th>4</th>\n",
       "      <td>Porsche</td>\n",
       "      <td>Carrera Coupe</td>\n",
       "      <td>1.280</td>\n",
       "      <td>60.625000</td>\n",
       "      <td>Passenger</td>\n",
       "      <td>71.020</td>\n",
       "      <td>3.4</td>\n",
       "      <td>300.0</td>\n",
       "      <td>92.6</td>\n",
       "      <td>69.5</td>\n",
       "      <td>174.5</td>\n",
       "      <td>3.032</td>\n",
       "      <td>17.0</td>\n",
       "      <td>21.0</td>\n",
       "      <td>21-Dec-14</td>\n",
       "    </tr>\n",
       "    <tr>\n",
       "      <th>5</th>\n",
       "      <td>Audi</td>\n",
       "      <td>A8</td>\n",
       "      <td>1.380</td>\n",
       "      <td>39.000000</td>\n",
       "      <td>Passenger</td>\n",
       "      <td>62.000</td>\n",
       "      <td>4.2</td>\n",
       "      <td>310.0</td>\n",
       "      <td>113.0</td>\n",
       "      <td>74.0</td>\n",
       "      <td>198.2</td>\n",
       "      <td>3.902</td>\n",
       "      <td>23.7</td>\n",
       "      <td>21.0</td>\n",
       "      <td>27-Feb-14</td>\n",
       "    </tr>\n",
       "    <tr>\n",
       "      <th>6</th>\n",
       "      <td>Mercedes-Benz</td>\n",
       "      <td>SLK230</td>\n",
       "      <td>1.526</td>\n",
       "      <td>18.072975</td>\n",
       "      <td>Passenger</td>\n",
       "      <td>41.000</td>\n",
       "      <td>2.3</td>\n",
       "      <td>185.0</td>\n",
       "      <td>94.5</td>\n",
       "      <td>67.5</td>\n",
       "      <td>157.3</td>\n",
       "      <td>2.975</td>\n",
       "      <td>14.0</td>\n",
       "      <td>27.0</td>\n",
       "      <td>08-Jun-15</td>\n",
       "    </tr>\n",
       "    <tr>\n",
       "      <th>7</th>\n",
       "      <td>Porsche</td>\n",
       "      <td>Carrera Cabriolet</td>\n",
       "      <td>1.866</td>\n",
       "      <td>67.550000</td>\n",
       "      <td>Passenger</td>\n",
       "      <td>74.970</td>\n",
       "      <td>3.4</td>\n",
       "      <td>300.0</td>\n",
       "      <td>92.6</td>\n",
       "      <td>69.5</td>\n",
       "      <td>174.5</td>\n",
       "      <td>3.075</td>\n",
       "      <td>17.0</td>\n",
       "      <td>23.0</td>\n",
       "      <td>07-Nov-15</td>\n",
       "    </tr>\n",
       "    <tr>\n",
       "      <th>8</th>\n",
       "      <td>Plymouth</td>\n",
       "      <td>Prowler</td>\n",
       "      <td>1.872</td>\n",
       "      <td>18.072975</td>\n",
       "      <td>Passenger</td>\n",
       "      <td>43.000</td>\n",
       "      <td>3.5</td>\n",
       "      <td>253.0</td>\n",
       "      <td>113.3</td>\n",
       "      <td>76.3</td>\n",
       "      <td>165.4</td>\n",
       "      <td>2.850</td>\n",
       "      <td>12.0</td>\n",
       "      <td>21.0</td>\n",
       "      <td>27-Jun-14</td>\n",
       "    </tr>\n",
       "    <tr>\n",
       "      <th>9</th>\n",
       "      <td>Mercedes-Benz</td>\n",
       "      <td>SL-Class</td>\n",
       "      <td>3.311</td>\n",
       "      <td>58.600000</td>\n",
       "      <td>Passenger</td>\n",
       "      <td>82.600</td>\n",
       "      <td>5.0</td>\n",
       "      <td>302.0</td>\n",
       "      <td>99.0</td>\n",
       "      <td>71.3</td>\n",
       "      <td>177.1</td>\n",
       "      <td>4.125</td>\n",
       "      <td>21.1</td>\n",
       "      <td>20.0</td>\n",
       "      <td>17-Mar-15</td>\n",
       "    </tr>\n",
       "  </tbody>\n",
       "</table>\n",
       "</div>"
      ],
      "text/plain": [
       "    Manufacturer              Model  Sales in thousands  4-year resale value  \\\n",
       "0     Mitsubishi  3000GT                          0.110            20.940000   \n",
       "1          Dodge  Viper                           0.916            58.470000   \n",
       "2  Mercedes-Benz  CL500                           0.954            18.072975   \n",
       "3     Oldsmobile  Cutlass                         1.112            11.240000   \n",
       "4        Porsche  Carrera Coupe                   1.280            60.625000   \n",
       "5           Audi  A8                              1.380            39.000000   \n",
       "6  Mercedes-Benz  SLK230                          1.526            18.072975   \n",
       "7        Porsche  Carrera Cabriolet               1.866            67.550000   \n",
       "8       Plymouth  Prowler                         1.872            18.072975   \n",
       "9  Mercedes-Benz  SL-Class                        3.311            58.600000   \n",
       "\n",
       "  Vehicle type  Price in thousands  Engine size  Horsepower  Wheelbase  Width  \\\n",
       "0    Passenger              25.450          3.0       161.0       97.2   72.4   \n",
       "1    Passenger              69.725          8.0       450.0       96.2   75.7   \n",
       "2    Passenger              85.500          5.0       302.0      113.6   73.1   \n",
       "3    Passenger              18.145          3.1       150.0      107.0   69.4   \n",
       "4    Passenger              71.020          3.4       300.0       92.6   69.5   \n",
       "5    Passenger              62.000          4.2       310.0      113.0   74.0   \n",
       "6    Passenger              41.000          2.3       185.0       94.5   67.5   \n",
       "7    Passenger              74.970          3.4       300.0       92.6   69.5   \n",
       "8    Passenger              43.000          3.5       253.0      113.3   76.3   \n",
       "9    Passenger              82.600          5.0       302.0       99.0   71.3   \n",
       "\n",
       "   Length  Curb weight  Fuel capacity  Fuel efficiency Latest Launch  \n",
       "0   180.3        3.131           19.8             21.0     29-Jun-14  \n",
       "1   176.7        3.375           19.0             16.0     08-Jul-15  \n",
       "2   196.6        4.115           23.2             20.0     04-Nov-15  \n",
       "3   192.0        3.102           15.2             25.0     31-May-15  \n",
       "4   174.5        3.032           17.0             21.0     21-Dec-14  \n",
       "5   198.2        3.902           23.7             21.0     27-Feb-14  \n",
       "6   157.3        2.975           14.0             27.0     08-Jun-15  \n",
       "7   174.5        3.075           17.0             23.0     07-Nov-15  \n",
       "8   165.4        2.850           12.0             21.0     27-Jun-14  \n",
       "9   177.1        4.125           21.1             20.0     17-Mar-15  "
      ]
     },
     "execution_count": 11,
     "metadata": {},
     "output_type": "execute_result"
    }
   ],
   "source": [
    "car = pd.read_csv(\"C:/Users/HP/Desktop/Python 1/Day 7 - Demos/Car_sales.csv\")\n",
    "print(np.shape(car))\n",
    "\n",
    "car.head(10)"
   ]
  },
  {
   "cell_type": "code",
   "execution_count": 5,
   "id": "f0ce27e1",
   "metadata": {},
   "outputs": [
    {
     "data": {
      "text/html": [
       "<div>\n",
       "<style scoped>\n",
       "    .dataframe tbody tr th:only-of-type {\n",
       "        vertical-align: middle;\n",
       "    }\n",
       "\n",
       "    .dataframe tbody tr th {\n",
       "        vertical-align: top;\n",
       "    }\n",
       "\n",
       "    .dataframe thead th {\n",
       "        text-align: right;\n",
       "    }\n",
       "</style>\n",
       "<table border=\"1\" class=\"dataframe\">\n",
       "  <thead>\n",
       "    <tr style=\"text-align: right;\">\n",
       "      <th></th>\n",
       "      <th>Manufacturer</th>\n",
       "      <th>Model</th>\n",
       "      <th>Sales in thousands</th>\n",
       "      <th>4-year resale value</th>\n",
       "      <th>Vehicle type</th>\n",
       "      <th>Price in thousands</th>\n",
       "      <th>Engine size</th>\n",
       "      <th>Horsepower</th>\n",
       "      <th>Wheelbase</th>\n",
       "      <th>Width</th>\n",
       "      <th>Length</th>\n",
       "      <th>Curb weight</th>\n",
       "      <th>Fuel capacity</th>\n",
       "      <th>Fuel efficiency</th>\n",
       "      <th>Latest Launch</th>\n",
       "    </tr>\n",
       "  </thead>\n",
       "  <tbody>\n",
       "    <tr>\n",
       "      <th>0</th>\n",
       "      <td>Mitsubishi</td>\n",
       "      <td>3000GT</td>\n",
       "      <td>0.110</td>\n",
       "      <td>20.940000</td>\n",
       "      <td>Passenger</td>\n",
       "      <td>25.450</td>\n",
       "      <td>3.0</td>\n",
       "      <td>161.0</td>\n",
       "      <td>97.2</td>\n",
       "      <td>72.4</td>\n",
       "      <td>180.3</td>\n",
       "      <td>3.131</td>\n",
       "      <td>19.8</td>\n",
       "      <td>21.0</td>\n",
       "      <td>29-Jun-14</td>\n",
       "    </tr>\n",
       "    <tr>\n",
       "      <th>1</th>\n",
       "      <td>Dodge</td>\n",
       "      <td>Viper</td>\n",
       "      <td>0.916</td>\n",
       "      <td>58.470000</td>\n",
       "      <td>Passenger</td>\n",
       "      <td>69.725</td>\n",
       "      <td>8.0</td>\n",
       "      <td>450.0</td>\n",
       "      <td>96.2</td>\n",
       "      <td>75.7</td>\n",
       "      <td>176.7</td>\n",
       "      <td>3.375</td>\n",
       "      <td>19.0</td>\n",
       "      <td>16.0</td>\n",
       "      <td>08-Jul-15</td>\n",
       "    </tr>\n",
       "    <tr>\n",
       "      <th>2</th>\n",
       "      <td>Mercedes-Benz</td>\n",
       "      <td>CL500</td>\n",
       "      <td>0.954</td>\n",
       "      <td>18.072975</td>\n",
       "      <td>Passenger</td>\n",
       "      <td>85.500</td>\n",
       "      <td>5.0</td>\n",
       "      <td>302.0</td>\n",
       "      <td>113.6</td>\n",
       "      <td>73.1</td>\n",
       "      <td>196.6</td>\n",
       "      <td>4.115</td>\n",
       "      <td>23.2</td>\n",
       "      <td>20.0</td>\n",
       "      <td>04-Nov-15</td>\n",
       "    </tr>\n",
       "    <tr>\n",
       "      <th>3</th>\n",
       "      <td>Oldsmobile</td>\n",
       "      <td>Cutlass</td>\n",
       "      <td>1.112</td>\n",
       "      <td>11.240000</td>\n",
       "      <td>Passenger</td>\n",
       "      <td>18.145</td>\n",
       "      <td>3.1</td>\n",
       "      <td>150.0</td>\n",
       "      <td>107.0</td>\n",
       "      <td>69.4</td>\n",
       "      <td>192.0</td>\n",
       "      <td>3.102</td>\n",
       "      <td>15.2</td>\n",
       "      <td>25.0</td>\n",
       "      <td>31-May-15</td>\n",
       "    </tr>\n",
       "    <tr>\n",
       "      <th>4</th>\n",
       "      <td>Porsche</td>\n",
       "      <td>Carrera Coupe</td>\n",
       "      <td>1.280</td>\n",
       "      <td>60.625000</td>\n",
       "      <td>Passenger</td>\n",
       "      <td>71.020</td>\n",
       "      <td>3.4</td>\n",
       "      <td>300.0</td>\n",
       "      <td>92.6</td>\n",
       "      <td>69.5</td>\n",
       "      <td>174.5</td>\n",
       "      <td>3.032</td>\n",
       "      <td>17.0</td>\n",
       "      <td>21.0</td>\n",
       "      <td>21-Dec-14</td>\n",
       "    </tr>\n",
       "    <tr>\n",
       "      <th>5</th>\n",
       "      <td>Audi</td>\n",
       "      <td>A8</td>\n",
       "      <td>1.380</td>\n",
       "      <td>39.000000</td>\n",
       "      <td>Passenger</td>\n",
       "      <td>62.000</td>\n",
       "      <td>4.2</td>\n",
       "      <td>310.0</td>\n",
       "      <td>113.0</td>\n",
       "      <td>74.0</td>\n",
       "      <td>198.2</td>\n",
       "      <td>3.902</td>\n",
       "      <td>23.7</td>\n",
       "      <td>21.0</td>\n",
       "      <td>27-Feb-14</td>\n",
       "    </tr>\n",
       "    <tr>\n",
       "      <th>6</th>\n",
       "      <td>Mercedes-Benz</td>\n",
       "      <td>SLK230</td>\n",
       "      <td>1.526</td>\n",
       "      <td>18.072975</td>\n",
       "      <td>Passenger</td>\n",
       "      <td>41.000</td>\n",
       "      <td>2.3</td>\n",
       "      <td>185.0</td>\n",
       "      <td>94.5</td>\n",
       "      <td>67.5</td>\n",
       "      <td>157.3</td>\n",
       "      <td>2.975</td>\n",
       "      <td>14.0</td>\n",
       "      <td>27.0</td>\n",
       "      <td>08-Jun-15</td>\n",
       "    </tr>\n",
       "    <tr>\n",
       "      <th>7</th>\n",
       "      <td>Porsche</td>\n",
       "      <td>Carrera Cabriolet</td>\n",
       "      <td>1.866</td>\n",
       "      <td>67.550000</td>\n",
       "      <td>Passenger</td>\n",
       "      <td>74.970</td>\n",
       "      <td>3.4</td>\n",
       "      <td>300.0</td>\n",
       "      <td>92.6</td>\n",
       "      <td>69.5</td>\n",
       "      <td>174.5</td>\n",
       "      <td>3.075</td>\n",
       "      <td>17.0</td>\n",
       "      <td>23.0</td>\n",
       "      <td>07-Nov-15</td>\n",
       "    </tr>\n",
       "    <tr>\n",
       "      <th>8</th>\n",
       "      <td>Plymouth</td>\n",
       "      <td>Prowler</td>\n",
       "      <td>1.872</td>\n",
       "      <td>18.072975</td>\n",
       "      <td>Passenger</td>\n",
       "      <td>43.000</td>\n",
       "      <td>3.5</td>\n",
       "      <td>253.0</td>\n",
       "      <td>113.3</td>\n",
       "      <td>76.3</td>\n",
       "      <td>165.4</td>\n",
       "      <td>2.850</td>\n",
       "      <td>12.0</td>\n",
       "      <td>21.0</td>\n",
       "      <td>27-Jun-14</td>\n",
       "    </tr>\n",
       "    <tr>\n",
       "      <th>9</th>\n",
       "      <td>Mercedes-Benz</td>\n",
       "      <td>SL-Class</td>\n",
       "      <td>3.311</td>\n",
       "      <td>58.600000</td>\n",
       "      <td>Passenger</td>\n",
       "      <td>82.600</td>\n",
       "      <td>5.0</td>\n",
       "      <td>302.0</td>\n",
       "      <td>99.0</td>\n",
       "      <td>71.3</td>\n",
       "      <td>177.1</td>\n",
       "      <td>4.125</td>\n",
       "      <td>21.1</td>\n",
       "      <td>20.0</td>\n",
       "      <td>17-Mar-15</td>\n",
       "    </tr>\n",
       "  </tbody>\n",
       "</table>\n",
       "</div>"
      ],
      "text/plain": [
       "    Manufacturer              Model  Sales in thousands  4-year resale value  \\\n",
       "0     Mitsubishi  3000GT                          0.110            20.940000   \n",
       "1          Dodge  Viper                           0.916            58.470000   \n",
       "2  Mercedes-Benz  CL500                           0.954            18.072975   \n",
       "3     Oldsmobile  Cutlass                         1.112            11.240000   \n",
       "4        Porsche  Carrera Coupe                   1.280            60.625000   \n",
       "5           Audi  A8                              1.380            39.000000   \n",
       "6  Mercedes-Benz  SLK230                          1.526            18.072975   \n",
       "7        Porsche  Carrera Cabriolet               1.866            67.550000   \n",
       "8       Plymouth  Prowler                         1.872            18.072975   \n",
       "9  Mercedes-Benz  SL-Class                        3.311            58.600000   \n",
       "\n",
       "  Vehicle type  Price in thousands  Engine size  Horsepower  Wheelbase  Width  \\\n",
       "0    Passenger              25.450          3.0       161.0       97.2   72.4   \n",
       "1    Passenger              69.725          8.0       450.0       96.2   75.7   \n",
       "2    Passenger              85.500          5.0       302.0      113.6   73.1   \n",
       "3    Passenger              18.145          3.1       150.0      107.0   69.4   \n",
       "4    Passenger              71.020          3.4       300.0       92.6   69.5   \n",
       "5    Passenger              62.000          4.2       310.0      113.0   74.0   \n",
       "6    Passenger              41.000          2.3       185.0       94.5   67.5   \n",
       "7    Passenger              74.970          3.4       300.0       92.6   69.5   \n",
       "8    Passenger              43.000          3.5       253.0      113.3   76.3   \n",
       "9    Passenger              82.600          5.0       302.0       99.0   71.3   \n",
       "\n",
       "   Length  Curb weight  Fuel capacity  Fuel efficiency Latest Launch  \n",
       "0   180.3        3.131           19.8             21.0     29-Jun-14  \n",
       "1   176.7        3.375           19.0             16.0     08-Jul-15  \n",
       "2   196.6        4.115           23.2             20.0     04-Nov-15  \n",
       "3   192.0        3.102           15.2             25.0     31-May-15  \n",
       "4   174.5        3.032           17.0             21.0     21-Dec-14  \n",
       "5   198.2        3.902           23.7             21.0     27-Feb-14  \n",
       "6   157.3        2.975           14.0             27.0     08-Jun-15  \n",
       "7   174.5        3.075           17.0             23.0     07-Nov-15  \n",
       "8   165.4        2.850           12.0             21.0     27-Jun-14  \n",
       "9   177.1        4.125           21.1             20.0     17-Mar-15  "
      ]
     },
     "execution_count": 5,
     "metadata": {},
     "output_type": "execute_result"
    }
   ],
   "source": [
    "car = car.sort_values(\"Sales in thousands\")\n",
    "car.head(10)"
   ]
  },
  {
   "cell_type": "code",
   "execution_count": 6,
   "id": "4020b8bb",
   "metadata": {},
   "outputs": [
    {
     "data": {
      "text/plain": [
       "[<matplotlib.lines.Line2D at 0x294947d2cd0>]"
      ]
     },
     "execution_count": 6,
     "metadata": {},
     "output_type": "execute_result"
    },
    {
     "data": {
      "image/png": "[encoded data removed]",
      "text/plain": [
       "<Figure size 432x288 with 1 Axes>"
      ]
     },
     "metadata": {
      "needs_background": "light"
     },
     "output_type": "display_data"
    }
   ],
   "source": [
    "plt.plot(car[\"Sales in thousands\"])"
   ]
  },
  {
   "cell_type": "code",
   "execution_count": 19,
   "id": "027f01d0",
   "metadata": {},
   "outputs": [
    {
     "data": {
      "image/png": "[encoded data removed]",
      "text/plain": [
       "<Figure size 864x720 with 1 Axes>"
      ]
     },
     "metadata": {
      "needs_background": "light"
     },
     "output_type": "display_data"
    }
   ],
   "source": [
    "plt.figure(figsize=(12,10))\n",
    "for group, data in car.groupby(\"Manufacturer\"):\n",
    "    plt.barh(group, data[\"4-year resale value\"].mean())"
   ]
  },
  {
   "cell_type": "code",
   "execution_count": 20,
   "id": "53bcd253",
   "metadata": {},
   "outputs": [
    {
     "data": {
      "text/html": [
       "<div>\n",
       "<style scoped>\n",
       "    .dataframe tbody tr th:only-of-type {\n",
       "        vertical-align: middle;\n",
       "    }\n",
       "\n",
       "    .dataframe tbody tr th {\n",
       "        vertical-align: top;\n",
       "    }\n",
       "\n",
       "    .dataframe thead th {\n",
       "        text-align: right;\n",
       "    }\n",
       "</style>\n",
       "<table border=\"1\" class=\"dataframe\">\n",
       "  <thead>\n",
       "    <tr style=\"text-align: right;\">\n",
       "      <th></th>\n",
       "      <th>Manufacturer</th>\n",
       "      <th>Model</th>\n",
       "      <th>Sales in thousands</th>\n",
       "      <th>4-year resale value</th>\n",
       "      <th>Vehicle type</th>\n",
       "      <th>Price in thousands</th>\n",
       "      <th>Engine size</th>\n",
       "      <th>Horsepower</th>\n",
       "      <th>Wheelbase</th>\n",
       "      <th>Width</th>\n",
       "      <th>Length</th>\n",
       "      <th>Curb weight</th>\n",
       "      <th>Fuel capacity</th>\n",
       "      <th>Fuel efficiency</th>\n",
       "      <th>Latest Launch</th>\n",
       "    </tr>\n",
       "  </thead>\n",
       "  <tbody>\n",
       "    <tr>\n",
       "      <th>0</th>\n",
       "      <td>Mitsubishi</td>\n",
       "      <td>3000GT</td>\n",
       "      <td>0.110</td>\n",
       "      <td>20.94</td>\n",
       "      <td>Passenger</td>\n",
       "      <td>25.450</td>\n",
       "      <td>3.0</td>\n",
       "      <td>161.0</td>\n",
       "      <td>97.2</td>\n",
       "      <td>72.4</td>\n",
       "      <td>180.3</td>\n",
       "      <td>3.131</td>\n",
       "      <td>19.8</td>\n",
       "      <td>21.0</td>\n",
       "      <td>29-Jun-14</td>\n",
       "    </tr>\n",
       "    <tr>\n",
       "      <th>1</th>\n",
       "      <td>Dodge</td>\n",
       "      <td>Viper</td>\n",
       "      <td>0.916</td>\n",
       "      <td>58.47</td>\n",
       "      <td>Passenger</td>\n",
       "      <td>69.725</td>\n",
       "      <td>8.0</td>\n",
       "      <td>450.0</td>\n",
       "      <td>96.2</td>\n",
       "      <td>75.7</td>\n",
       "      <td>176.7</td>\n",
       "      <td>3.375</td>\n",
       "      <td>19.0</td>\n",
       "      <td>16.0</td>\n",
       "      <td>08-Jul-15</td>\n",
       "    </tr>\n",
       "  </tbody>\n",
       "</table>\n",
       "</div>"
      ],
      "text/plain": [
       "  Manufacturer              Model  Sales in thousands  4-year resale value  \\\n",
       "0   Mitsubishi  3000GT                          0.110                20.94   \n",
       "1        Dodge  Viper                           0.916                58.47   \n",
       "\n",
       "  Vehicle type  Price in thousands  Engine size  Horsepower  Wheelbase  Width  \\\n",
       "0    Passenger              25.450          3.0       161.0       97.2   72.4   \n",
       "1    Passenger              69.725          8.0       450.0       96.2   75.7   \n",
       "\n",
       "   Length  Curb weight  Fuel capacity  Fuel efficiency Latest Launch  \n",
       "0   180.3        3.131           19.8             21.0     29-Jun-14  \n",
       "1   176.7        3.375           19.0             16.0     08-Jul-15  "
      ]
     },
     "execution_count": 20,
     "metadata": {},
     "output_type": "execute_result"
    }
   ],
   "source": [
    "car.head(2)"
   ]
  },
  {
   "cell_type": "code",
   "execution_count": 23,
   "id": "d6d7589d",
   "metadata": {},
   "outputs": [
    {
     "data": {
      "image/png": "[encoded data removed]",
      "text/plain": [
       "<Figure size 432x288 with 1 Axes>"
      ]
     },
     "metadata": {
      "needs_background": "light"
     },
     "output_type": "display_data"
    }
   ],
   "source": [
    "vt_dict = dict()\n",
    "for i in set(car[\"Vehicle type\"]):\n",
    "    vt_dict[i]=car[car[\"Vehicle type\"]==i].Manufacturer.count()\n",
    "plt.bar(vt_dict.keys(),vt_dict.values())\n",
    "plt.show()"
   ]
  },
  {
   "cell_type": "code",
   "execution_count": 26,
   "id": "859dd72e",
   "metadata": {},
   "outputs": [
    {
     "data": {
      "image/png": "[encoded data removed]",
      "text/plain": [
       "<Figure size 864x720 with 1 Axes>"
      ]
     },
     "metadata": {
      "needs_background": "light"
     },
     "output_type": "display_data"
    }
   ],
   "source": [
    "plt.figure(figsize=(12,10))\n",
    "for group, data in car.groupby(\"Manufacturer\"):\n",
    "    plt.barh(group, data[\"4-year resale value\"].mean())\n",
    "    plt.barh(group, data[\"Price in thousands\"].mean(), left=data[\"4-year resale value\"].mean())\n",
    "plt.show()"
   ]
  },
  {
   "cell_type": "code",
   "execution_count": 27,
   "id": "c2bddf6f",
   "metadata": {},
   "outputs": [
    {
     "data": {
      "text/html": [
       "<div>\n",
       "<style scoped>\n",
       "    .dataframe tbody tr th:only-of-type {\n",
       "        vertical-align: middle;\n",
       "    }\n",
       "\n",
       "    .dataframe tbody tr th {\n",
       "        vertical-align: top;\n",
       "    }\n",
       "\n",
       "    .dataframe thead th {\n",
       "        text-align: right;\n",
       "    }\n",
       "</style>\n",
       "<table border=\"1\" class=\"dataframe\">\n",
       "  <thead>\n",
       "    <tr style=\"text-align: right;\">\n",
       "      <th></th>\n",
       "      <th>Manufacturer</th>\n",
       "      <th>Model</th>\n",
       "      <th>Sales in thousands</th>\n",
       "      <th>4-year resale value</th>\n",
       "      <th>Vehicle type</th>\n",
       "      <th>Price in thousands</th>\n",
       "      <th>Engine size</th>\n",
       "      <th>Horsepower</th>\n",
       "      <th>Wheelbase</th>\n",
       "      <th>Width</th>\n",
       "      <th>Length</th>\n",
       "      <th>Curb weight</th>\n",
       "      <th>Fuel capacity</th>\n",
       "      <th>Fuel efficiency</th>\n",
       "      <th>Latest Launch</th>\n",
       "    </tr>\n",
       "  </thead>\n",
       "  <tbody>\n",
       "    <tr>\n",
       "      <th>0</th>\n",
       "      <td>Mitsubishi</td>\n",
       "      <td>3000GT</td>\n",
       "      <td>0.110</td>\n",
       "      <td>20.94</td>\n",
       "      <td>Passenger</td>\n",
       "      <td>25.450</td>\n",
       "      <td>3.0</td>\n",
       "      <td>161.0</td>\n",
       "      <td>97.2</td>\n",
       "      <td>72.4</td>\n",
       "      <td>180.3</td>\n",
       "      <td>3.131</td>\n",
       "      <td>19.8</td>\n",
       "      <td>21.0</td>\n",
       "      <td>29-Jun-14</td>\n",
       "    </tr>\n",
       "    <tr>\n",
       "      <th>1</th>\n",
       "      <td>Dodge</td>\n",
       "      <td>Viper</td>\n",
       "      <td>0.916</td>\n",
       "      <td>58.47</td>\n",
       "      <td>Passenger</td>\n",
       "      <td>69.725</td>\n",
       "      <td>8.0</td>\n",
       "      <td>450.0</td>\n",
       "      <td>96.2</td>\n",
       "      <td>75.7</td>\n",
       "      <td>176.7</td>\n",
       "      <td>3.375</td>\n",
       "      <td>19.0</td>\n",
       "      <td>16.0</td>\n",
       "      <td>08-Jul-15</td>\n",
       "    </tr>\n",
       "  </tbody>\n",
       "</table>\n",
       "</div>"
      ],
      "text/plain": [
       "  Manufacturer              Model  Sales in thousands  4-year resale value  \\\n",
       "0   Mitsubishi  3000GT                          0.110                20.94   \n",
       "1        Dodge  Viper                           0.916                58.47   \n",
       "\n",
       "  Vehicle type  Price in thousands  Engine size  Horsepower  Wheelbase  Width  \\\n",
       "0    Passenger              25.450          3.0       161.0       97.2   72.4   \n",
       "1    Passenger              69.725          8.0       450.0       96.2   75.7   \n",
       "\n",
       "   Length  Curb weight  Fuel capacity  Fuel efficiency Latest Launch  \n",
       "0   180.3        3.131           19.8             21.0     29-Jun-14  \n",
       "1   176.7        3.375           19.0             16.0     08-Jul-15  "
      ]
     },
     "execution_count": 27,
     "metadata": {},
     "output_type": "execute_result"
    }
   ],
   "source": [
    "car.head(2)"
   ]
  },
  {
   "cell_type": "code",
   "execution_count": 30,
   "id": "584e3044",
   "metadata": {},
   "outputs": [
    {
     "data": {
      "image/png": "[encoded data removed]",
      "text/plain": [
       "<Figure size 432x288 with 1 Axes>"
      ]
     },
     "metadata": {
      "needs_background": "light"
     },
     "output_type": "display_data"
    }
   ],
   "source": [
    "\n",
    "car.Horsepower=car.Horsepower.fillna(car.Horsepower.mean())\n",
    "plt.hist(car.Horsepower, bins = 10)\n",
    "plt.show()"
   ]
  },
  {
   "cell_type": "code",
   "execution_count": 31,
   "id": "5958ccda",
   "metadata": {},
   "outputs": [
    {
     "data": {
      "image/png": "[encoded data removed]",
      "text/plain": [
       "<Figure size 432x288 with 1 Axes>"
      ]
     },
     "metadata": {
      "needs_background": "light"
     },
     "output_type": "display_data"
    }
   ],
   "source": [
    "plt.hist(car.Horsepower, bins = 10)\n",
    "plt.show()"
   ]
  },
  {
   "cell_type": "code",
   "execution_count": 32,
   "id": "788bb114",
   "metadata": {},
   "outputs": [
    {
     "data": {
      "text/html": [
       "<div>\n",
       "<style scoped>\n",
       "    .dataframe tbody tr th:only-of-type {\n",
       "        vertical-align: middle;\n",
       "    }\n",
       "\n",
       "    .dataframe tbody tr th {\n",
       "        vertical-align: top;\n",
       "    }\n",
       "\n",
       "    .dataframe thead th {\n",
       "        text-align: right;\n",
       "    }\n",
       "</style>\n",
       "<table border=\"1\" class=\"dataframe\">\n",
       "  <thead>\n",
       "    <tr style=\"text-align: right;\">\n",
       "      <th></th>\n",
       "      <th>Manufacturer</th>\n",
       "      <th>Model</th>\n",
       "      <th>Sales in thousands</th>\n",
       "      <th>4-year resale value</th>\n",
       "      <th>Vehicle type</th>\n",
       "      <th>Price in thousands</th>\n",
       "      <th>Engine size</th>\n",
       "      <th>Horsepower</th>\n",
       "      <th>Wheelbase</th>\n",
       "      <th>Width</th>\n",
       "      <th>Length</th>\n",
       "      <th>Curb weight</th>\n",
       "      <th>Fuel capacity</th>\n",
       "      <th>Fuel efficiency</th>\n",
       "      <th>Latest Launch</th>\n",
       "    </tr>\n",
       "  </thead>\n",
       "  <tbody>\n",
       "    <tr>\n",
       "      <th>0</th>\n",
       "      <td>Mitsubishi</td>\n",
       "      <td>3000GT</td>\n",
       "      <td>0.110</td>\n",
       "      <td>20.94</td>\n",
       "      <td>Passenger</td>\n",
       "      <td>25.450</td>\n",
       "      <td>3.0</td>\n",
       "      <td>161.0</td>\n",
       "      <td>97.2</td>\n",
       "      <td>72.4</td>\n",
       "      <td>180.3</td>\n",
       "      <td>3.131</td>\n",
       "      <td>19.8</td>\n",
       "      <td>21.0</td>\n",
       "      <td>29-Jun-14</td>\n",
       "    </tr>\n",
       "    <tr>\n",
       "      <th>1</th>\n",
       "      <td>Dodge</td>\n",
       "      <td>Viper</td>\n",
       "      <td>0.916</td>\n",
       "      <td>58.47</td>\n",
       "      <td>Passenger</td>\n",
       "      <td>69.725</td>\n",
       "      <td>8.0</td>\n",
       "      <td>450.0</td>\n",
       "      <td>96.2</td>\n",
       "      <td>75.7</td>\n",
       "      <td>176.7</td>\n",
       "      <td>3.375</td>\n",
       "      <td>19.0</td>\n",
       "      <td>16.0</td>\n",
       "      <td>08-Jul-15</td>\n",
       "    </tr>\n",
       "  </tbody>\n",
       "</table>\n",
       "</div>"
      ],
      "text/plain": [
       "  Manufacturer              Model  Sales in thousands  4-year resale value  \\\n",
       "0   Mitsubishi  3000GT                          0.110                20.94   \n",
       "1        Dodge  Viper                           0.916                58.47   \n",
       "\n",
       "  Vehicle type  Price in thousands  Engine size  Horsepower  Wheelbase  Width  \\\n",
       "0    Passenger              25.450          3.0       161.0       97.2   72.4   \n",
       "1    Passenger              69.725          8.0       450.0       96.2   75.7   \n",
       "\n",
       "   Length  Curb weight  Fuel capacity  Fuel efficiency Latest Launch  \n",
       "0   180.3        3.131           19.8             21.0     29-Jun-14  \n",
       "1   176.7        3.375           19.0             16.0     08-Jul-15  "
      ]
     },
     "execution_count": 32,
     "metadata": {},
     "output_type": "execute_result"
    }
   ],
   "source": [
    "car.head(2)"
   ]
  },
  {
   "cell_type": "code",
   "execution_count": 37,
   "id": "8f24bf7b",
   "metadata": {},
   "outputs": [
    {
     "data": {
      "image/png": "[encoded data removed]",
      "text/plain": [
       "<Figure size 864x864 with 1 Axes>"
      ]
     },
     "metadata": {},
     "output_type": "display_data"
    },
    {
     "name": "stdout",
     "output_type": "stream",
     "text": [
      "{'Nissan': 7, 'Plymouth': 4, 'Saturn': 5, 'Hyundai': 3, 'Dodge': 11, 'Lincoln': 3, 'Oldsmobile': 6, 'BMW': 3, 'Pontiac': 6, 'Buick': 4, 'Saab': 2, 'Mercedes-Benz': 9, 'Honda': 5, 'Lexus': 6, 'Volvo': 6, 'Jeep': 3, 'Acura': 4, 'Chevrolet': 9, 'Subaru': 2, 'Volkswagen': 6, 'Mercury': 6, 'Toyota': 9, 'Mitsubishi': 7, 'Infiniti': 1, 'Chrysler': 7, 'Jaguar': 1, 'Porsche': 3, 'Cadillac': 5, 'Ford': 11, 'Audi': 3}\n"
     ]
    }
   ],
   "source": [
    "m_dict = dict()\n",
    "plt.figure(figsize = (12,12))\n",
    "for i in set(car.Manufacturer):\n",
    "    m_dict[i]=car[car.Manufacturer==i].Manufacturer.count()\n",
    "plt.pie(m_dict.values(), labels = m_dict.keys())\n",
    "plt.show()\n",
    "print(m_dict)"
   ]
  },
  {
   "cell_type": "code",
   "execution_count": 38,
   "id": "2b08b5c8",
   "metadata": {},
   "outputs": [
    {
     "data": {
      "text/plain": [
       "<matplotlib.collections.PathCollection at 0x2949838f310>"
      ]
     },
     "execution_count": 38,
     "metadata": {},
     "output_type": "execute_result"
    },
    {
     "data": {
      "image/png": "[encoded data removed]",
      "text/plain": [
       "<Figure size 432x288 with 1 Axes>"
      ]
     },
     "metadata": {
      "needs_background": "light"
     },
     "output_type": "display_data"
    }
   ],
   "source": [
    "plt.scatter(car['Fuel capacity'],car['Fuel efficiency'])"
   ]
  },
  {
   "cell_type": "code",
   "execution_count": 49,
   "id": "17463d58",
   "metadata": {},
   "outputs": [
    {
     "data": {
      "text/html": [
       "<div>\n",
       "<style scoped>\n",
       "    .dataframe tbody tr th:only-of-type {\n",
       "        vertical-align: middle;\n",
       "    }\n",
       "\n",
       "    .dataframe tbody tr th {\n",
       "        vertical-align: top;\n",
       "    }\n",
       "\n",
       "    .dataframe thead th {\n",
       "        text-align: right;\n",
       "    }\n",
       "</style>\n",
       "<table border=\"1\" class=\"dataframe\">\n",
       "  <thead>\n",
       "    <tr style=\"text-align: right;\">\n",
       "      <th></th>\n",
       "      <th>Manufacturer</th>\n",
       "      <th>Model</th>\n",
       "      <th>Sales in thousands</th>\n",
       "      <th>4-year resale value</th>\n",
       "      <th>Vehicle type</th>\n",
       "      <th>Price in thousands</th>\n",
       "      <th>Engine size</th>\n",
       "      <th>Horsepower</th>\n",
       "      <th>Wheelbase</th>\n",
       "      <th>Width</th>\n",
       "      <th>Length</th>\n",
       "      <th>Curb weight</th>\n",
       "      <th>Fuel capacity</th>\n",
       "      <th>Fuel efficiency</th>\n",
       "      <th>Latest Launch</th>\n",
       "    </tr>\n",
       "  </thead>\n",
       "  <tbody>\n",
       "    <tr>\n",
       "      <th>0</th>\n",
       "      <td>Mitsubishi</td>\n",
       "      <td>3000GT</td>\n",
       "      <td>0.110</td>\n",
       "      <td>20.94</td>\n",
       "      <td>Passenger</td>\n",
       "      <td>25.450</td>\n",
       "      <td>3.0</td>\n",
       "      <td>161.0</td>\n",
       "      <td>97.2</td>\n",
       "      <td>72.4</td>\n",
       "      <td>180.3</td>\n",
       "      <td>3.131</td>\n",
       "      <td>19.8</td>\n",
       "      <td>21.0</td>\n",
       "      <td>29-Jun-14</td>\n",
       "    </tr>\n",
       "    <tr>\n",
       "      <th>1</th>\n",
       "      <td>Dodge</td>\n",
       "      <td>Viper</td>\n",
       "      <td>0.916</td>\n",
       "      <td>58.47</td>\n",
       "      <td>Passenger</td>\n",
       "      <td>69.725</td>\n",
       "      <td>8.0</td>\n",
       "      <td>450.0</td>\n",
       "      <td>96.2</td>\n",
       "      <td>75.7</td>\n",
       "      <td>176.7</td>\n",
       "      <td>3.375</td>\n",
       "      <td>19.0</td>\n",
       "      <td>16.0</td>\n",
       "      <td>08-Jul-15</td>\n",
       "    </tr>\n",
       "  </tbody>\n",
       "</table>\n",
       "</div>"
      ],
      "text/plain": [
       "  Manufacturer              Model  Sales in thousands  4-year resale value  \\\n",
       "0   Mitsubishi  3000GT                          0.110                20.94   \n",
       "1        Dodge  Viper                           0.916                58.47   \n",
       "\n",
       "  Vehicle type  Price in thousands  Engine size  Horsepower  Wheelbase  Width  \\\n",
       "0    Passenger              25.450          3.0       161.0       97.2   72.4   \n",
       "1    Passenger              69.725          8.0       450.0       96.2   75.7   \n",
       "\n",
       "   Length  Curb weight  Fuel capacity  Fuel efficiency Latest Launch  \n",
       "0   180.3        3.131           19.8             21.0     29-Jun-14  \n",
       "1   176.7        3.375           19.0             16.0     08-Jul-15  "
      ]
     },
     "execution_count": 49,
     "metadata": {},
     "output_type": "execute_result"
    }
   ],
   "source": [
    "car.head(2)"
   ]
  },
  {
   "cell_type": "code",
   "execution_count": 50,
   "id": "141eeb2c",
   "metadata": {},
   "outputs": [
    {
     "data": {
      "text/plain": [
       "False"
      ]
     },
     "execution_count": 50,
     "metadata": {},
     "output_type": "execute_result"
    }
   ],
   "source": [
    "car['Curb weight'].isna().any()"
   ]
  },
  {
   "cell_type": "code",
   "execution_count": 51,
   "id": "0adc0375",
   "metadata": {},
   "outputs": [
    {
     "data": {
      "image/png": "[encoded data removed]",
      "text/plain": [
       "<Figure size 432x288 with 1 Axes>"
      ]
     },
     "metadata": {
      "needs_background": "light"
     },
     "output_type": "display_data"
    }
   ],
   "source": [
    "car['Curb weight']=car['Curb weight'].fillna(car['Curb weight'].mean())\n",
    "plt.boxplot(car['Curb weight'])\n",
    "plt.show()"
   ]
  },
  {
   "cell_type": "code",
   "execution_count": 52,
   "id": "b36096a8",
   "metadata": {},
   "outputs": [
    {
     "data": {
      "text/plain": [
       "True"
      ]
     },
     "execution_count": 52,
     "metadata": {},
     "output_type": "execute_result"
    }
   ],
   "source": [
    "car.Wheelbase.isna().any()"
   ]
  },
  {
   "cell_type": "code",
   "execution_count": 54,
   "id": "3a56e9e5",
   "metadata": {},
   "outputs": [
    {
     "data": {
      "image/png": "[encoded data removed]",
      "text/plain": [
       "<Figure size 432x288 with 1 Axes>"
      ]
     },
     "metadata": {
      "needs_background": "light"
     },
     "output_type": "display_data"
    }
   ],
   "source": [
    "car.Wheelbase=car.Wheelbase.fillna(car.Wheelbase.mean())\n",
    "plt.boxplot(car.Wheelbase)\n",
    "plt.show()"
   ]
  },
  {
   "cell_type": "code",
   "execution_count": null,
   "id": "707576ef",
   "metadata": {},
   "outputs": [],
   "source": []
  }
 ],
 "metadata": {
  "kernelspec": {
   "display_name": "Python 3 (ipykernel)",
   "language": "python",
   "name": "python3"
  },
  "language_info": {
   "codemirror_mode": {
    "name": "ipython",
    "version": 3
   },
   "file_extension": ".py",
   "mimetype": "text/x-python",
   "name": "python",
   "nbconvert_exporter": "python",
   "pygments_lexer": "ipython3",
   "version": "3.9.12"
  }
 },
 "nbformat": 4,
 "nbformat_minor": 5
}
