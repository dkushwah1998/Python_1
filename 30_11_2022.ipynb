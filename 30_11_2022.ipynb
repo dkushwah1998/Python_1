{
 "cells": [
  {
   "cell_type": "code",
   "execution_count": 2,
   "id": "591ec2d8",
   "metadata": {},
   "outputs": [
    {
     "name": "stdout",
     "output_type": "stream",
     "text": [
      "Orginal Dictionary:  {1: 6, 4: 90, 0: 34, 3: 12}\n",
      "Ascending order:  [(1, 6), (3, 12), (0, 34), (4, 90)]\n"
     ]
    }
   ],
   "source": [
    "import operator\n",
    "d = {1:6,4:90,0:34,3:12}\n",
    "print(\"Orginal Dictionary: \",d)\n",
    "sorted_d = sorted(d.items(), key=operator.itemgetter(1))\n",
    "print(\"Ascending order: \",sorted_d)"
   ]
  },
  {
   "cell_type": "code",
   "execution_count": 3,
   "id": "9264d491",
   "metadata": {},
   "outputs": [
    {
     "name": "stdout",
     "output_type": "stream",
     "text": [
      "Descending order:  [(4, 90), (0, 34), (3, 12), (1, 6)]\n"
     ]
    }
   ],
   "source": [
    "sorted_d = sorted(d.items(),key = operator.itemgetter(1),reverse=True)\n",
    "print(\"Descending order: \",sorted_d)\n"
   ]
  },
  {
   "cell_type": "code",
   "execution_count": 6,
   "id": "f76f2ae2",
   "metadata": {},
   "outputs": [],
   "source": [
    "d= {0:10,1:30,2:15}\n",
    "d.update({3:35})\n"
   ]
  },
  {
   "cell_type": "code",
   "execution_count": 7,
   "id": "1a57ebb9",
   "metadata": {},
   "outputs": [
    {
     "name": "stdout",
     "output_type": "stream",
     "text": [
      "{0: 10, 1: 30, 2: 15, 3: 35}\n"
     ]
    }
   ],
   "source": [
    "print(d)"
   ]
  },
  {
   "cell_type": "code",
   "execution_count": 13,
   "id": "937f2bcd",
   "metadata": {},
   "outputs": [
    {
     "name": "stdout",
     "output_type": "stream",
     "text": [
      "{0: 10, 1: 20, 3: 25, 4: 35, 5: 65, 6: 58}\n"
     ]
    }
   ],
   "source": [
    "d1 = {0:10,1:20}\n",
    "d2 = {3:25,4:35}\n",
    "d3 = {5:65,6:58}\n",
    "d4 = {}\n",
    "for d in d1, d2, d3:\n",
    "    d4.update(d)\n",
    "print(d4)"
   ]
  },
  {
   "cell_type": "code",
   "execution_count": 14,
   "id": "f88ea9e6",
   "metadata": {},
   "outputs": [
    {
     "name": "stdout",
     "output_type": "stream",
     "text": [
      "{0: 10, 1: 20, 3: 25, 4: 35, 5: 65, 6: 58}\n"
     ]
    }
   ],
   "source": [
    "d = d4\n",
    "print(d)"
   ]
  },
  {
   "cell_type": "code",
   "execution_count": 20,
   "id": "7b2bc631",
   "metadata": {},
   "outputs": [
    {
     "name": "stdout",
     "output_type": "stream",
     "text": [
      "Key is not present\n",
      "Key is present\n"
     ]
    }
   ],
   "source": [
    "def is_key_present(k):\n",
    "    if k in d:\n",
    "        print(\"Key is present\")\n",
    "    else:\n",
    "        print(\"Key is not present\")\n",
    "\n",
    "is_key_present(8)\n",
    "is_key_present(3)"
   ]
  },
  {
   "cell_type": "code",
   "execution_count": 21,
   "id": "42b1f173",
   "metadata": {},
   "outputs": [
    {
     "name": "stdout",
     "output_type": "stream",
     "text": [
      "{0: 10, 1: 20, 3: 25, 4: 35, 5: 65, 6: 58}\n"
     ]
    }
   ],
   "source": [
    "print(d)"
   ]
  },
  {
   "cell_type": "code",
   "execution_count": 24,
   "id": "e0cd2a69",
   "metadata": {},
   "outputs": [
    {
     "name": "stdout",
     "output_type": "stream",
     "text": [
      "0 -> 10\n",
      "1 -> 20\n",
      "3 -> 25\n",
      "4 -> 35\n",
      "5 -> 65\n",
      "6 -> 58\n"
     ]
    }
   ],
   "source": [
    "for dic_key, dic_value in d.items():\n",
    "    print(dic_key,\"->\",dic_value)\n",
    "    "
   ]
  },
  {
   "cell_type": "code",
   "execution_count": 2,
   "id": "126f95c0",
   "metadata": {},
   "outputs": [
    {
     "name": "stdout",
     "output_type": "stream",
     "text": [
      "Enter a number: 5\n",
      "{1: 1, 2: 4, 3: 9, 4: 16, 5: 25}\n"
     ]
    }
   ],
   "source": [
    "n = int(input(\"Enter a number: \"))\n",
    "d = dict()\n",
    "for x in range(1,n+1):\n",
    "    d[x]=x*x\n",
    "print(d)"
   ]
  },
  {
   "cell_type": "code",
   "execution_count": 3,
   "id": "b39cf9b0",
   "metadata": {},
   "outputs": [
    {
     "name": "stdout",
     "output_type": "stream",
     "text": [
      "Enter a number: 10\n",
      "{1: 1, 2: 8, 3: 27, 4: 64, 5: 125, 6: 216, 7: 343, 8: 512, 9: 729, 10: 1000}\n"
     ]
    }
   ],
   "source": [
    "n = int(input(\"Enter a number: \"))\n",
    "d = dict()\n",
    "for x in range(1,n+1):\n",
    "    d[x]=x*x*x\n",
    "print(d)"
   ]
  },
  {
   "cell_type": "code",
   "execution_count": 4,
   "id": "c013a652",
   "metadata": {},
   "outputs": [
    {
     "name": "stdout",
     "output_type": "stream",
     "text": [
      "Enter a number: 10\n",
      "{1: 1, 2: 16, 3: 81, 4: 256, 5: 625, 6: 1296, 7: 2401, 8: 4096, 9: 6561, 10: 10000}\n"
     ]
    }
   ],
   "source": [
    "n = int(input(\"Enter a number: \"))\n",
    "d = dict()\n",
    "for x in range(1,n+1):\n",
    "    d[x]=x*x*x*x\n",
    "print(d)"
   ]
  },
  {
   "cell_type": "code",
   "execution_count": 7,
   "id": "ea054cbf",
   "metadata": {},
   "outputs": [
    {
     "name": "stdout",
     "output_type": "stream",
     "text": [
      "{1: 25, 2: 35, 3: 26, 5: 24, 6: 57, 8: 57}\n"
     ]
    }
   ],
   "source": [
    "d1 = {1:25,2:35,3:26}\n",
    "d2 = {5:24,6:57,8:57}\n",
    "d = d1.copy()\n",
    "d.update(d2)\n",
    "print(d)"
   ]
  },
  {
   "cell_type": "code",
   "execution_count": 9,
   "id": "e09cf54c",
   "metadata": {},
   "outputs": [
    {
     "name": "stdout",
     "output_type": "stream",
     "text": [
      "224\n"
     ]
    }
   ],
   "source": [
    "print(sum(d.values()))"
   ]
  },
  {
   "cell_type": "code",
   "execution_count": 10,
   "id": "9d7fe7bc",
   "metadata": {},
   "outputs": [
    {
     "name": "stdout",
     "output_type": "stream",
     "text": [
      "1440\n"
     ]
    }
   ],
   "source": [
    "result = 1\n",
    "for x in d:\n",
    "    result *= x\n",
    "print(result)"
   ]
  },
  {
   "cell_type": "code",
   "execution_count": 11,
   "id": "408f8765",
   "metadata": {},
   "outputs": [
    {
     "name": "stdout",
     "output_type": "stream",
     "text": [
      "{1: 25, 2: 35, 3: 26, 5: 24, 6: 57, 8: 57}\n"
     ]
    }
   ],
   "source": [
    "if 0 in d:\n",
    "    del d[0]\n",
    "print(d)"
   ]
  },
  {
   "cell_type": "code",
   "execution_count": null,
   "id": "99f71925",
   "metadata": {},
   "outputs": [],
   "source": []
  }
 ],
 "metadata": {
  "kernelspec": {
   "display_name": "Python 3 (ipykernel)",
   "language": "python",
   "name": "python3"
  },
  "language_info": {
   "codemirror_mode": {
    "name": "ipython",
    "version": 3
   },
   "file_extension": ".py",
   "mimetype": "text/x-python",
   "name": "python",
   "nbconvert_exporter": "python",
   "pygments_lexer": "ipython3",
   "version": "3.9.12"
  }
 },
 "nbformat": 4,
 "nbformat_minor": 5
}
