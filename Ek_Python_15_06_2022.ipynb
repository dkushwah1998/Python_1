{
 "cells": [
  {
   "cell_type": "code",
   "execution_count": 6,
   "id": "8dcb646d",
   "metadata": {},
   "outputs": [
    {
     "name": "stdout",
     "output_type": "stream",
     "text": [
      "None\n",
      "[1, 4, 5, 7, 8, 9, 25, 54]\n"
     ]
    }
   ],
   "source": [
    "l = [8,7,4,5,9,54,1,25]\n",
    "a =l.sort()\n",
    "b = sorted(l)\n",
    "print(a)\n",
    "print(b)"
   ]
  },
  {
   "cell_type": "code",
   "execution_count": 5,
   "id": "061864e6",
   "metadata": {},
   "outputs": [
    {
     "name": "stdout",
     "output_type": "stream",
     "text": [
      "15\n",
      "100000.0\n",
      "100835.51556836352\n",
      "101678.0119993768\n",
      "102527.5476192341\n",
      "103384.18124145412\n",
      "104247.97217095163\n",
      "105118.98020814318\n",
      "105997.26565308718\n",
      "106882.88930965836\n",
      "107775.91248975729\n",
      "108676.39701755505\n",
      "109584.40523377326\n",
      "110500.0\n",
      "111423.24470304168\n",
      "112354.20325931135\n",
      "113292.9401192537\n"
     ]
    }
   ],
   "source": [
    "def Amount(p,r,t):\n",
    "    A = p*(pow((1+r/100),t))\n",
    "    print(A)\n",
    "n = int(input())\n",
    "for i in range(0, n+1):\n",
    "    Amount(100000,10.5,i/12) "
   ]
  },
  {
   "cell_type": "code",
   "execution_count": 20,
   "id": "c2de1322",
   "metadata": {},
   "outputs": [
    {
     "data": {
      "text/plain": [
       "'hat'"
      ]
     },
     "execution_count": 20,
     "metadata": {},
     "output_type": "execute_result"
    }
   ],
   "source": [
    "import re\n",
    "def clean(value):\n",
    "    ret = re.sub(r\"^[A-Za-z)-9]\",\"\",value)\n",
    "    return ret\n",
    "clean('what')"
   ]
  },
  {
   "cell_type": "code",
   "execution_count": null,
   "id": "033bc37f",
   "metadata": {},
   "outputs": [],
   "source": []
  },
  {
   "cell_type": "code",
   "execution_count": null,
   "id": "f01a76b3",
   "metadata": {},
   "outputs": [],
   "source": []
  },
  {
   "cell_type": "code",
   "execution_count": null,
   "id": "8ee1082d",
   "metadata": {},
   "outputs": [],
   "source": []
  }
 ],
 "metadata": {
  "kernelspec": {
   "display_name": "Python 3 (ipykernel)",
   "language": "python",
   "name": "python3"
  },
  "language_info": {
   "codemirror_mode": {
    "name": "ipython",
    "version": 3
   },
   "file_extension": ".py",
   "mimetype": "text/x-python",
   "name": "python",
   "nbconvert_exporter": "python",
   "pygments_lexer": "ipython3",
   "version": "3.9.7"
  }
 },
 "nbformat": 4,
 "nbformat_minor": 5
}
