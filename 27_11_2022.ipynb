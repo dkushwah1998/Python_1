{
 "cells": [
  {
   "cell_type": "code",
   "execution_count": 2,
   "id": "caa4c0b2",
   "metadata": {},
   "outputs": [
    {
     "name": "stdout",
     "output_type": "stream",
     "text": [
      "{'j': 1, 'u': 1, 'p': 1, 'y': 1, 't': 2, 'e': 2, 'r': 1, 'n': 1, 'o': 3, 'b': 1, 'k': 1}\n"
     ]
    }
   ],
   "source": [
    "def char_frequency(str1):\n",
    "    dic = {}\n",
    "    for n in str1:\n",
    "        keys = dic.keys()\n",
    "        if n in keys:\n",
    "            dic[n] +=1\n",
    "        else:\n",
    "            dic[n] = 1\n",
    "    return dic\n",
    "print(char_frequency(\"jupyternotebook\"))"
   ]
  },
  {
   "cell_type": "code",
   "execution_count": 3,
   "id": "25cfc459",
   "metadata": {},
   "outputs": [
    {
     "name": "stdout",
     "output_type": "stream",
     "text": [
      "dhra\n"
     ]
    }
   ],
   "source": [
    "str1 = \"dharmendra\"\n",
    "str2 = str1[0:2]+str1[-2:]\n",
    "print(str2)"
   ]
  },
  {
   "cell_type": "code",
   "execution_count": 4,
   "id": "a698f710",
   "metadata": {},
   "outputs": [
    {
     "name": "stdout",
     "output_type": "stream",
     "text": [
      "Kuah\n",
      "Empty string\n"
     ]
    }
   ],
   "source": [
    "def string(str1):\n",
    "    if len(str1)<=2:\n",
    "        return \"Empty string\"\n",
    "    else:\n",
    "        return str1[0:2]+str1[-2:]\n",
    "print(string(\"Kushwah\"))\n",
    "print(string(\"bh\"))"
   ]
  },
  {
   "cell_type": "code",
   "execution_count": 7,
   "id": "bf479ad1",
   "metadata": {},
   "outputs": [
    {
     "name": "stdout",
     "output_type": "stream",
     "text": [
      "dharmen$ra\n"
     ]
    }
   ],
   "source": [
    "def change_char(str1):\n",
    "    char = str1[0]\n",
    "    str1 = str1.replace(char,'$')\n",
    "    str1 = char+str1[1:]\n",
    "    return str1\n",
    "print(change_char(\"dharmendra\"))"
   ]
  },
  {
   "cell_type": "code",
   "execution_count": 8,
   "id": "854c9c98",
   "metadata": {},
   "outputs": [
    {
     "name": "stdout",
     "output_type": "stream",
     "text": [
      "xyc xyz\n"
     ]
    }
   ],
   "source": [
    "str1, str2 = \"abc\", \"xyz\"\n",
    "str_1 = str2[:2]+str1[2:]\n",
    "str_2 = str1[:2]+str2[2:]\n",
    "print(str_1,str2)"
   ]
  },
  {
   "cell_type": "code",
   "execution_count": 10,
   "id": "9fc08c0c",
   "metadata": {},
   "outputs": [
    {
     "name": "stdout",
     "output_type": "stream",
     "text": [
      "sing\n",
      "singly\n"
     ]
    }
   ],
   "source": [
    "str1 = input()\n",
    "if str1[-3:]==\"ing\":\n",
    "    new_str = str1+'ly'\n",
    "    print(new_str)\n",
    "else:\n",
    "    new_str = str1+\"ing\"\n",
    "    print(new_str)\n"
   ]
  },
  {
   "cell_type": "code",
   "execution_count": 11,
   "id": "b3fd06a6",
   "metadata": {},
   "outputs": [
    {
     "name": "stdout",
     "output_type": "stream",
     "text": [
      "play\n",
      "playing\n"
     ]
    }
   ],
   "source": [
    "str1 = input()\n",
    "if str1[-3:]==\"ing\":\n",
    "    new_str = str1+'ly'\n",
    "    print(new_str)\n",
    "else:\n",
    "    new_str = str1+\"ing\"\n",
    "    print(new_str)\n",
    "\n",
    "    "
   ]
  },
  {
   "cell_type": "code",
   "execution_count": 12,
   "id": "95d0a3ab",
   "metadata": {},
   "outputs": [
    {
     "name": "stdout",
     "output_type": "stream",
     "text": [
      "Learning\n",
      "singingly\n"
     ]
    }
   ],
   "source": [
    "def given_str(str1):\n",
    "    if str1[-3:]==\"ing\":\n",
    "        return str1+\"ly\"\n",
    "    else:\n",
    "        return str1+\"ing\"\n",
    "print(given_str(\"Learn\"))\n",
    "print(given_str(\"singing\"))"
   ]
  },
  {
   "cell_type": "code",
   "execution_count": 15,
   "id": "a83f2268",
   "metadata": {},
   "outputs": [
    {
     "name": "stdout",
     "output_type": "stream",
     "text": [
      "Dhrmendra\n",
      "Dharmndra\n",
      "harmendra\n"
     ]
    }
   ],
   "source": [
    "def remove_char(word,n):\n",
    "    first_part = word[:n]\n",
    "    second_part = word[n+1:]\n",
    "    return first_part+second_part\n",
    "print(remove_char(\"Dharmendra\",2))\n",
    "print(remove_char(\"Dharmendra\",5))\n",
    "print(remove_char(\"Dharmendra\",0))"
   ]
  },
  {
   "cell_type": "code",
   "execution_count": 18,
   "id": "027df3df",
   "metadata": {},
   "outputs": [
    {
     "name": "stdout",
     "output_type": "stream",
     "text": [
      "aharmendrD\n"
     ]
    }
   ],
   "source": [
    "str1 = \"Dharmendra\"\n",
    "new_str = str1[-1:]+str1[1:-1]+str1[0:1]\n",
    "print(new_str)"
   ]
  },
  {
   "cell_type": "code",
   "execution_count": 19,
   "id": "1c6c9f99",
   "metadata": {},
   "outputs": [],
   "source": [
    "str1 = \"Dharmendra\"\n",
    "new_str = str1[1::2]"
   ]
  },
  {
   "cell_type": "code",
   "execution_count": 21,
   "id": "c3bf0b8d",
   "metadata": {},
   "outputs": [
    {
     "name": "stdout",
     "output_type": "stream",
     "text": [
      "hreda\n"
     ]
    }
   ],
   "source": [
    "print(new_str)"
   ]
  },
  {
   "cell_type": "code",
   "execution_count": 22,
   "id": "96abbe6c",
   "metadata": {},
   "outputs": [
    {
     "name": "stdout",
     "output_type": "stream",
     "text": [
      "Dharmendra Kushwah\n",
      "lower case:  dharmendra kushwah\n",
      "Upper case:  DHARMENDRA KUSHWAH\n"
     ]
    }
   ],
   "source": [
    "str1 = input()\n",
    "print(\"lower case: \",str1.lower())\n",
    "print(\"Upper case: \",str1.upper())"
   ]
  },
  {
   "cell_type": "code",
   "execution_count": null,
   "id": "81552bb6",
   "metadata": {},
   "outputs": [],
   "source": []
  }
 ],
 "metadata": {
  "kernelspec": {
   "display_name": "Python 3 (ipykernel)",
   "language": "python",
   "name": "python3"
  },
  "language_info": {
   "codemirror_mode": {
    "name": "ipython",
    "version": 3
   },
   "file_extension": ".py",
   "mimetype": "text/x-python",
   "name": "python",
   "nbconvert_exporter": "python",
   "pygments_lexer": "ipython3",
   "version": "3.9.12"
  }
 },
 "nbformat": 4,
 "nbformat_minor": 5
}
