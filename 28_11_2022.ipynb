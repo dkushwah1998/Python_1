{
 "cells": [
  {
   "cell_type": "code",
   "execution_count": 1,
   "id": "74ff0ba1",
   "metadata": {},
   "outputs": [
    {
     "name": "stdout",
     "output_type": "stream",
     "text": [
      "50\n"
     ]
    }
   ],
   "source": [
    "## Sum of all item in list\n",
    "l = [5,4,6,8,7,5,4,5,6]\n",
    "s = sum(l)\n",
    "print(s)"
   ]
  },
  {
   "cell_type": "code",
   "execution_count": 2,
   "id": "cb08dec0",
   "metadata": {},
   "outputs": [
    {
     "name": "stdout",
     "output_type": "stream",
     "text": [
      "138\n",
      "34\n"
     ]
    }
   ],
   "source": [
    "def sum_list(item):\n",
    "    sum_1 = 0\n",
    "    for i in item:\n",
    "        sum_1 += i\n",
    "    return sum_1\n",
    "print(sum_list([4,5,6,45,6,5,8,2,5,52]))\n",
    "print(sum_list((5,6,4,8,5,6)))"
   ]
  },
  {
   "cell_type": "code",
   "execution_count": 3,
   "id": "d02b6135",
   "metadata": {},
   "outputs": [
    {
     "name": "stdout",
     "output_type": "stream",
     "text": [
      "240\n",
      "120\n",
      "120\n"
     ]
    }
   ],
   "source": [
    "def mul(item):\n",
    "    mul_1 = 1\n",
    "    for i in item:\n",
    "        mul_1 *= i\n",
    "    return mul_1\n",
    "print(mul([2,5,6,4]))\n",
    "print(mul((4,5,6)))\n",
    "print(mul({4,5,6}))"
   ]
  },
  {
   "cell_type": "code",
   "execution_count": 6,
   "id": "9bd6f4dc",
   "metadata": {},
   "outputs": [
    {
     "name": "stdout",
     "output_type": "stream",
     "text": [
      "8\n"
     ]
    }
   ],
   "source": [
    "def largest(item):\n",
    "    max = item[0]\n",
    "    for i in item:\n",
    "        if i>max:\n",
    "            max=i\n",
    "    return max\n",
    "print(largest([5,6,4,2,8,1]))"
   ]
  },
  {
   "cell_type": "code",
   "execution_count": 8,
   "id": "5bb1d233",
   "metadata": {},
   "outputs": [
    {
     "name": "stdout",
     "output_type": "stream",
     "text": [
      "98\n",
      "1\n"
     ]
    }
   ],
   "source": [
    "lst = [45,4,98,4,8,21,47,1]\n",
    "print(max(lst))\n",
    "print(min(lst))"
   ]
  },
  {
   "cell_type": "code",
   "execution_count": 11,
   "id": "bc953bf4",
   "metadata": {},
   "outputs": [
    {
     "name": "stdout",
     "output_type": "stream",
     "text": [
      "4\n"
     ]
    }
   ],
   "source": [
    "def small(item):\n",
    "    min = item[0]\n",
    "    for i in item:\n",
    "        if i<min:\n",
    "            min = i\n",
    "    return min\n",
    "print(small([4465,4,56,5,95]))\n"
   ]
  },
  {
   "cell_type": "code",
   "execution_count": 14,
   "id": "8a74a0c0",
   "metadata": {},
   "outputs": [
    {
     "name": "stdout",
     "output_type": "stream",
     "text": [
      "3\n"
     ]
    }
   ],
   "source": [
    "def match_word(words):\n",
    "    n = 0\n",
    "    for i in words:\n",
    "        if len(i) >1 and i[0]==i[-1]:\n",
    "            n += 1\n",
    "    return n\n",
    "print(match_word(['pnp','qnq','dndh','kdhjk']))"
   ]
  },
  {
   "cell_type": "code",
   "execution_count": 22,
   "id": "95114605",
   "metadata": {},
   "outputs": [
    {
     "name": "stdout",
     "output_type": "stream",
     "text": [
      "['name', 'Dharmendra', 'Kushwah']\n"
     ]
    }
   ],
   "source": [
    "def long_word(n, str):\n",
    "    word_len = []\n",
    "    txt = str.split(\" \")\n",
    "    for x in txt:\n",
    "        if len(x)>n:\n",
    "            word_len.append(x)\n",
    "    return word_len\n",
    "print(long_word(2,\"My name is Dharmendra Kushwah\"))\n"
   ]
  },
  {
   "cell_type": "code",
   "execution_count": 23,
   "id": "9dbcc466",
   "metadata": {},
   "outputs": [
    {
     "name": "stdout",
     "output_type": "stream",
     "text": [
      "['Red', 'Blue', 'Yellow']\n"
     ]
    }
   ],
   "source": [
    "lst = ['Black','Red','Blue','Yellow','Pink','White']\n",
    "lst_1 = lst[1:4]\n",
    "print(lst_1)\n",
    "\n",
    "\n",
    "\n"
   ]
  },
  {
   "cell_type": "code",
   "execution_count": 24,
   "id": "59a113e8",
   "metadata": {},
   "outputs": [
    {
     "name": "stdout",
     "output_type": "stream",
     "text": [
      "dharmendra\n"
     ]
    }
   ],
   "source": [
    "lst = ['dh','arm','end','r','a']\n",
    "a = ''.join(lst)\n",
    "print(a)\n"
   ]
  },
  {
   "cell_type": "code",
   "execution_count": null,
   "id": "f3ffb23c",
   "metadata": {},
   "outputs": [],
   "source": []
  },
  {
   "cell_type": "code",
   "execution_count": null,
   "id": "31ed2bef",
   "metadata": {},
   "outputs": [],
   "source": []
  },
  {
   "cell_type": "code",
   "execution_count": null,
   "id": "7696fe0d",
   "metadata": {},
   "outputs": [],
   "source": []
  }
 ],
 "metadata": {
  "kernelspec": {
   "display_name": "Python 3 (ipykernel)",
   "language": "python",
   "name": "python3"
  },
  "language_info": {
   "codemirror_mode": {
    "name": "ipython",
    "version": 3
   },
   "file_extension": ".py",
   "mimetype": "text/x-python",
   "name": "python",
   "nbconvert_exporter": "python",
   "pygments_lexer": "ipython3",
   "version": "3.9.12"
  }
 },
 "nbformat": 4,
 "nbformat_minor": 5
}
