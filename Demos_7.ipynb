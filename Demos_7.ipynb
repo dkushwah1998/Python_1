{
 "cells": [
  {
   "cell_type": "markdown",
   "id": "25c19a68",
   "metadata": {},
   "source": [
    "# Car Sales"
   ]
  },
  {
   "cell_type": "code",
   "execution_count": 4,
   "id": "0cf5b11b",
   "metadata": {},
   "outputs": [],
   "source": [
    "import numpy as np\n",
    "import pandas as pd\n"
   ]
  },
  {
   "cell_type": "code",
   "execution_count": 5,
   "id": "1d6a3c5e",
   "metadata": {},
   "outputs": [
    {
     "data": {
      "text/html": [
       "<div>\n",
       "<style scoped>\n",
       "    .dataframe tbody tr th:only-of-type {\n",
       "        vertical-align: middle;\n",
       "    }\n",
       "\n",
       "    .dataframe tbody tr th {\n",
       "        vertical-align: top;\n",
       "    }\n",
       "\n",
       "    .dataframe thead th {\n",
       "        text-align: right;\n",
       "    }\n",
       "</style>\n",
       "<table border=\"1\" class=\"dataframe\">\n",
       "  <thead>\n",
       "    <tr style=\"text-align: right;\">\n",
       "      <th></th>\n",
       "      <th>Manufacturer</th>\n",
       "      <th>Model</th>\n",
       "      <th>Sales in thousands</th>\n",
       "      <th>4-year resale value</th>\n",
       "      <th>Vehicle type</th>\n",
       "      <th>Price in thousands</th>\n",
       "      <th>Engine size</th>\n",
       "      <th>Horsepower</th>\n",
       "      <th>Wheelbase</th>\n",
       "      <th>Width</th>\n",
       "      <th>Length</th>\n",
       "      <th>Curb weight</th>\n",
       "      <th>Fuel capacity</th>\n",
       "      <th>Fuel efficiency</th>\n",
       "      <th>Latest Launch</th>\n",
       "    </tr>\n",
       "  </thead>\n",
       "  <tbody>\n",
       "    <tr>\n",
       "      <th>0</th>\n",
       "      <td>Mitsubishi</td>\n",
       "      <td>3000GT</td>\n",
       "      <td>0.110</td>\n",
       "      <td>20.940000</td>\n",
       "      <td>Passenger</td>\n",
       "      <td>25.450</td>\n",
       "      <td>3.0</td>\n",
       "      <td>161.0</td>\n",
       "      <td>97.2</td>\n",
       "      <td>72.4</td>\n",
       "      <td>180.3</td>\n",
       "      <td>3.131</td>\n",
       "      <td>19.8</td>\n",
       "      <td>21.0</td>\n",
       "      <td>29-Jun-14</td>\n",
       "    </tr>\n",
       "    <tr>\n",
       "      <th>1</th>\n",
       "      <td>Dodge</td>\n",
       "      <td>Viper</td>\n",
       "      <td>0.916</td>\n",
       "      <td>58.470000</td>\n",
       "      <td>Passenger</td>\n",
       "      <td>69.725</td>\n",
       "      <td>8.0</td>\n",
       "      <td>450.0</td>\n",
       "      <td>96.2</td>\n",
       "      <td>75.7</td>\n",
       "      <td>176.7</td>\n",
       "      <td>3.375</td>\n",
       "      <td>19.0</td>\n",
       "      <td>16.0</td>\n",
       "      <td>08-Jul-15</td>\n",
       "    </tr>\n",
       "    <tr>\n",
       "      <th>2</th>\n",
       "      <td>Mercedes-Benz</td>\n",
       "      <td>CL500</td>\n",
       "      <td>0.954</td>\n",
       "      <td>18.072975</td>\n",
       "      <td>Passenger</td>\n",
       "      <td>85.500</td>\n",
       "      <td>5.0</td>\n",
       "      <td>302.0</td>\n",
       "      <td>113.6</td>\n",
       "      <td>73.1</td>\n",
       "      <td>196.6</td>\n",
       "      <td>4.115</td>\n",
       "      <td>23.2</td>\n",
       "      <td>20.0</td>\n",
       "      <td>04-Nov-15</td>\n",
       "    </tr>\n",
       "    <tr>\n",
       "      <th>3</th>\n",
       "      <td>Oldsmobile</td>\n",
       "      <td>Cutlass</td>\n",
       "      <td>1.112</td>\n",
       "      <td>11.240000</td>\n",
       "      <td>Passenger</td>\n",
       "      <td>18.145</td>\n",
       "      <td>3.1</td>\n",
       "      <td>150.0</td>\n",
       "      <td>107.0</td>\n",
       "      <td>69.4</td>\n",
       "      <td>192.0</td>\n",
       "      <td>3.102</td>\n",
       "      <td>15.2</td>\n",
       "      <td>25.0</td>\n",
       "      <td>31-May-15</td>\n",
       "    </tr>\n",
       "    <tr>\n",
       "      <th>4</th>\n",
       "      <td>Porsche</td>\n",
       "      <td>Carrera Coupe</td>\n",
       "      <td>1.280</td>\n",
       "      <td>60.625000</td>\n",
       "      <td>Passenger</td>\n",
       "      <td>71.020</td>\n",
       "      <td>3.4</td>\n",
       "      <td>300.0</td>\n",
       "      <td>92.6</td>\n",
       "      <td>69.5</td>\n",
       "      <td>174.5</td>\n",
       "      <td>3.032</td>\n",
       "      <td>17.0</td>\n",
       "      <td>21.0</td>\n",
       "      <td>21-Dec-14</td>\n",
       "    </tr>\n",
       "    <tr>\n",
       "      <th>...</th>\n",
       "      <td>...</td>\n",
       "      <td>...</td>\n",
       "      <td>...</td>\n",
       "      <td>...</td>\n",
       "      <td>...</td>\n",
       "      <td>...</td>\n",
       "      <td>...</td>\n",
       "      <td>...</td>\n",
       "      <td>...</td>\n",
       "      <td>...</td>\n",
       "      <td>...</td>\n",
       "      <td>...</td>\n",
       "      <td>...</td>\n",
       "      <td>...</td>\n",
       "      <td>...</td>\n",
       "    </tr>\n",
       "    <tr>\n",
       "      <th>152</th>\n",
       "      <td>Honda</td>\n",
       "      <td>Accord</td>\n",
       "      <td>230.902</td>\n",
       "      <td>13.210000</td>\n",
       "      <td>Passenger</td>\n",
       "      <td>15.350</td>\n",
       "      <td>2.3</td>\n",
       "      <td>135.0</td>\n",
       "      <td>106.9</td>\n",
       "      <td>70.3</td>\n",
       "      <td>188.8</td>\n",
       "      <td>2.932</td>\n",
       "      <td>17.1</td>\n",
       "      <td>27.0</td>\n",
       "      <td>20-May-14</td>\n",
       "    </tr>\n",
       "    <tr>\n",
       "      <th>153</th>\n",
       "      <td>Ford</td>\n",
       "      <td>Taurus</td>\n",
       "      <td>245.815</td>\n",
       "      <td>10.055000</td>\n",
       "      <td>Passenger</td>\n",
       "      <td>17.885</td>\n",
       "      <td>3.0</td>\n",
       "      <td>155.0</td>\n",
       "      <td>108.5</td>\n",
       "      <td>73.0</td>\n",
       "      <td>197.6</td>\n",
       "      <td>3.368</td>\n",
       "      <td>16.0</td>\n",
       "      <td>24.0</td>\n",
       "      <td>20-Dec-15</td>\n",
       "    </tr>\n",
       "    <tr>\n",
       "      <th>154</th>\n",
       "      <td>Toyota</td>\n",
       "      <td>Camry</td>\n",
       "      <td>247.994</td>\n",
       "      <td>13.245000</td>\n",
       "      <td>Passenger</td>\n",
       "      <td>17.518</td>\n",
       "      <td>2.2</td>\n",
       "      <td>133.0</td>\n",
       "      <td>105.2</td>\n",
       "      <td>70.1</td>\n",
       "      <td>188.5</td>\n",
       "      <td>2.998</td>\n",
       "      <td>18.5</td>\n",
       "      <td>27.0</td>\n",
       "      <td>02-Oct-15</td>\n",
       "    </tr>\n",
       "    <tr>\n",
       "      <th>155</th>\n",
       "      <td>Ford</td>\n",
       "      <td>Explorer</td>\n",
       "      <td>276.747</td>\n",
       "      <td>16.640000</td>\n",
       "      <td>Car</td>\n",
       "      <td>31.930</td>\n",
       "      <td>4.0</td>\n",
       "      <td>210.0</td>\n",
       "      <td>111.6</td>\n",
       "      <td>70.2</td>\n",
       "      <td>190.7</td>\n",
       "      <td>3.876</td>\n",
       "      <td>21.0</td>\n",
       "      <td>19.0</td>\n",
       "      <td>25-Apr-14</td>\n",
       "    </tr>\n",
       "    <tr>\n",
       "      <th>156</th>\n",
       "      <td>Ford</td>\n",
       "      <td>F-Series</td>\n",
       "      <td>540.561</td>\n",
       "      <td>15.075000</td>\n",
       "      <td>Car</td>\n",
       "      <td>26.935</td>\n",
       "      <td>4.6</td>\n",
       "      <td>220.0</td>\n",
       "      <td>138.5</td>\n",
       "      <td>79.1</td>\n",
       "      <td>224.5</td>\n",
       "      <td>4.241</td>\n",
       "      <td>25.1</td>\n",
       "      <td>18.0</td>\n",
       "      <td>16-Aug-14</td>\n",
       "    </tr>\n",
       "  </tbody>\n",
       "</table>\n",
       "<p>157 rows × 15 columns</p>\n",
       "</div>"
      ],
      "text/plain": [
       "      Manufacturer              Model  Sales in thousands  \\\n",
       "0       Mitsubishi  3000GT                          0.110   \n",
       "1            Dodge  Viper                           0.916   \n",
       "2    Mercedes-Benz  CL500                           0.954   \n",
       "3       Oldsmobile  Cutlass                         1.112   \n",
       "4          Porsche  Carrera Coupe                   1.280   \n",
       "..             ...                ...                 ...   \n",
       "152          Honda  Accord                        230.902   \n",
       "153           Ford  Taurus                        245.815   \n",
       "154         Toyota  Camry                         247.994   \n",
       "155           Ford  Explorer                      276.747   \n",
       "156           Ford  F-Series                      540.561   \n",
       "\n",
       "     4-year resale value Vehicle type  Price in thousands  Engine size  \\\n",
       "0              20.940000    Passenger              25.450          3.0   \n",
       "1              58.470000    Passenger              69.725          8.0   \n",
       "2              18.072975    Passenger              85.500          5.0   \n",
       "3              11.240000    Passenger              18.145          3.1   \n",
       "4              60.625000    Passenger              71.020          3.4   \n",
       "..                   ...          ...                 ...          ...   \n",
       "152            13.210000    Passenger              15.350          2.3   \n",
       "153            10.055000    Passenger              17.885          3.0   \n",
       "154            13.245000    Passenger              17.518          2.2   \n",
       "155            16.640000          Car              31.930          4.0   \n",
       "156            15.075000          Car              26.935          4.6   \n",
       "\n",
       "     Horsepower  Wheelbase  Width  Length  Curb weight  Fuel capacity  \\\n",
       "0         161.0       97.2   72.4   180.3        3.131           19.8   \n",
       "1         450.0       96.2   75.7   176.7        3.375           19.0   \n",
       "2         302.0      113.6   73.1   196.6        4.115           23.2   \n",
       "3         150.0      107.0   69.4   192.0        3.102           15.2   \n",
       "4         300.0       92.6   69.5   174.5        3.032           17.0   \n",
       "..          ...        ...    ...     ...          ...            ...   \n",
       "152       135.0      106.9   70.3   188.8        2.932           17.1   \n",
       "153       155.0      108.5   73.0   197.6        3.368           16.0   \n",
       "154       133.0      105.2   70.1   188.5        2.998           18.5   \n",
       "155       210.0      111.6   70.2   190.7        3.876           21.0   \n",
       "156       220.0      138.5   79.1   224.5        4.241           25.1   \n",
       "\n",
       "     Fuel efficiency Latest Launch  \n",
       "0               21.0     29-Jun-14  \n",
       "1               16.0     08-Jul-15  \n",
       "2               20.0     04-Nov-15  \n",
       "3               25.0     31-May-15  \n",
       "4               21.0     21-Dec-14  \n",
       "..               ...           ...  \n",
       "152             27.0     20-May-14  \n",
       "153             24.0     20-Dec-15  \n",
       "154             27.0     02-Oct-15  \n",
       "155             19.0     25-Apr-14  \n",
       "156             18.0     16-Aug-14  \n",
       "\n",
       "[157 rows x 15 columns]"
      ]
     },
     "execution_count": 5,
     "metadata": {},
     "output_type": "execute_result"
    }
   ],
   "source": [
    "\n",
    "car = pd.read_csv(\"C:/Users/HP/Desktop/Python 1/Day 7 - Demos/Car_sales.csv\")\n",
    "car"
   ]
  },
  {
   "cell_type": "code",
   "execution_count": 6,
   "id": "ef1956a3",
   "metadata": {},
   "outputs": [
    {
     "data": {
      "text/html": [
       "<div>\n",
       "<style scoped>\n",
       "    .dataframe tbody tr th:only-of-type {\n",
       "        vertical-align: middle;\n",
       "    }\n",
       "\n",
       "    .dataframe tbody tr th {\n",
       "        vertical-align: top;\n",
       "    }\n",
       "\n",
       "    .dataframe thead th {\n",
       "        text-align: right;\n",
       "    }\n",
       "</style>\n",
       "<table border=\"1\" class=\"dataframe\">\n",
       "  <thead>\n",
       "    <tr style=\"text-align: right;\">\n",
       "      <th></th>\n",
       "      <th>Manufacturer</th>\n",
       "      <th>Model</th>\n",
       "      <th>Sales in thousands</th>\n",
       "      <th>4-year resale value</th>\n",
       "      <th>Vehicle type</th>\n",
       "      <th>Price in thousands</th>\n",
       "      <th>Engine size</th>\n",
       "      <th>Horsepower</th>\n",
       "      <th>Wheelbase</th>\n",
       "      <th>Width</th>\n",
       "      <th>Length</th>\n",
       "      <th>Curb weight</th>\n",
       "      <th>Fuel capacity</th>\n",
       "      <th>Fuel efficiency</th>\n",
       "      <th>Latest Launch</th>\n",
       "    </tr>\n",
       "  </thead>\n",
       "  <tbody>\n",
       "    <tr>\n",
       "      <th>0</th>\n",
       "      <td>Mitsubishi</td>\n",
       "      <td>3000GT</td>\n",
       "      <td>0.110</td>\n",
       "      <td>20.940000</td>\n",
       "      <td>Passenger</td>\n",
       "      <td>25.450</td>\n",
       "      <td>3.0</td>\n",
       "      <td>161.0</td>\n",
       "      <td>97.2</td>\n",
       "      <td>72.4</td>\n",
       "      <td>180.3</td>\n",
       "      <td>3.131</td>\n",
       "      <td>19.8</td>\n",
       "      <td>21.0</td>\n",
       "      <td>29-Jun-14</td>\n",
       "    </tr>\n",
       "    <tr>\n",
       "      <th>1</th>\n",
       "      <td>Dodge</td>\n",
       "      <td>Viper</td>\n",
       "      <td>0.916</td>\n",
       "      <td>58.470000</td>\n",
       "      <td>Passenger</td>\n",
       "      <td>69.725</td>\n",
       "      <td>8.0</td>\n",
       "      <td>450.0</td>\n",
       "      <td>96.2</td>\n",
       "      <td>75.7</td>\n",
       "      <td>176.7</td>\n",
       "      <td>3.375</td>\n",
       "      <td>19.0</td>\n",
       "      <td>16.0</td>\n",
       "      <td>08-Jul-15</td>\n",
       "    </tr>\n",
       "    <tr>\n",
       "      <th>2</th>\n",
       "      <td>Mercedes-Benz</td>\n",
       "      <td>CL500</td>\n",
       "      <td>0.954</td>\n",
       "      <td>18.072975</td>\n",
       "      <td>Passenger</td>\n",
       "      <td>85.500</td>\n",
       "      <td>5.0</td>\n",
       "      <td>302.0</td>\n",
       "      <td>113.6</td>\n",
       "      <td>73.1</td>\n",
       "      <td>196.6</td>\n",
       "      <td>4.115</td>\n",
       "      <td>23.2</td>\n",
       "      <td>20.0</td>\n",
       "      <td>04-Nov-15</td>\n",
       "    </tr>\n",
       "    <tr>\n",
       "      <th>3</th>\n",
       "      <td>Oldsmobile</td>\n",
       "      <td>Cutlass</td>\n",
       "      <td>1.112</td>\n",
       "      <td>11.240000</td>\n",
       "      <td>Passenger</td>\n",
       "      <td>18.145</td>\n",
       "      <td>3.1</td>\n",
       "      <td>150.0</td>\n",
       "      <td>107.0</td>\n",
       "      <td>69.4</td>\n",
       "      <td>192.0</td>\n",
       "      <td>3.102</td>\n",
       "      <td>15.2</td>\n",
       "      <td>25.0</td>\n",
       "      <td>31-May-15</td>\n",
       "    </tr>\n",
       "    <tr>\n",
       "      <th>4</th>\n",
       "      <td>Porsche</td>\n",
       "      <td>Carrera Coupe</td>\n",
       "      <td>1.280</td>\n",
       "      <td>60.625000</td>\n",
       "      <td>Passenger</td>\n",
       "      <td>71.020</td>\n",
       "      <td>3.4</td>\n",
       "      <td>300.0</td>\n",
       "      <td>92.6</td>\n",
       "      <td>69.5</td>\n",
       "      <td>174.5</td>\n",
       "      <td>3.032</td>\n",
       "      <td>17.0</td>\n",
       "      <td>21.0</td>\n",
       "      <td>21-Dec-14</td>\n",
       "    </tr>\n",
       "  </tbody>\n",
       "</table>\n",
       "</div>"
      ],
      "text/plain": [
       "    Manufacturer              Model  Sales in thousands  4-year resale value  \\\n",
       "0     Mitsubishi  3000GT                          0.110            20.940000   \n",
       "1          Dodge  Viper                           0.916            58.470000   \n",
       "2  Mercedes-Benz  CL500                           0.954            18.072975   \n",
       "3     Oldsmobile  Cutlass                         1.112            11.240000   \n",
       "4        Porsche  Carrera Coupe                   1.280            60.625000   \n",
       "\n",
       "  Vehicle type  Price in thousands  Engine size  Horsepower  Wheelbase  Width  \\\n",
       "0    Passenger              25.450          3.0       161.0       97.2   72.4   \n",
       "1    Passenger              69.725          8.0       450.0       96.2   75.7   \n",
       "2    Passenger              85.500          5.0       302.0      113.6   73.1   \n",
       "3    Passenger              18.145          3.1       150.0      107.0   69.4   \n",
       "4    Passenger              71.020          3.4       300.0       92.6   69.5   \n",
       "\n",
       "   Length  Curb weight  Fuel capacity  Fuel efficiency Latest Launch  \n",
       "0   180.3        3.131           19.8             21.0     29-Jun-14  \n",
       "1   176.7        3.375           19.0             16.0     08-Jul-15  \n",
       "2   196.6        4.115           23.2             20.0     04-Nov-15  \n",
       "3   192.0        3.102           15.2             25.0     31-May-15  \n",
       "4   174.5        3.032           17.0             21.0     21-Dec-14  "
      ]
     },
     "execution_count": 6,
     "metadata": {},
     "output_type": "execute_result"
    }
   ],
   "source": [
    "car.head()"
   ]
  },
  {
   "cell_type": "markdown",
   "id": "240f7334",
   "metadata": {},
   "source": [
    "# Line chart\n"
   ]
  },
  {
   "cell_type": "code",
   "execution_count": 10,
   "id": "35f8117e",
   "metadata": {},
   "outputs": [
    {
     "data": {
      "text/html": [
       "<div>\n",
       "<style scoped>\n",
       "    .dataframe tbody tr th:only-of-type {\n",
       "        vertical-align: middle;\n",
       "    }\n",
       "\n",
       "    .dataframe tbody tr th {\n",
       "        vertical-align: top;\n",
       "    }\n",
       "\n",
       "    .dataframe thead th {\n",
       "        text-align: right;\n",
       "    }\n",
       "</style>\n",
       "<table border=\"1\" class=\"dataframe\">\n",
       "  <thead>\n",
       "    <tr style=\"text-align: right;\">\n",
       "      <th></th>\n",
       "      <th>Manufacturer</th>\n",
       "      <th>Model</th>\n",
       "      <th>Sales in thousands</th>\n",
       "      <th>4-year resale value</th>\n",
       "      <th>Vehicle type</th>\n",
       "      <th>Price in thousands</th>\n",
       "      <th>Engine size</th>\n",
       "      <th>Horsepower</th>\n",
       "      <th>Wheelbase</th>\n",
       "      <th>Width</th>\n",
       "      <th>Length</th>\n",
       "      <th>Curb weight</th>\n",
       "      <th>Fuel capacity</th>\n",
       "      <th>Fuel efficiency</th>\n",
       "      <th>Latest Launch</th>\n",
       "    </tr>\n",
       "  </thead>\n",
       "  <tbody>\n",
       "    <tr>\n",
       "      <th>0</th>\n",
       "      <td>Mitsubishi</td>\n",
       "      <td>3000GT</td>\n",
       "      <td>0.110</td>\n",
       "      <td>20.940000</td>\n",
       "      <td>Passenger</td>\n",
       "      <td>25.450</td>\n",
       "      <td>3.0</td>\n",
       "      <td>161.0</td>\n",
       "      <td>97.2</td>\n",
       "      <td>72.4</td>\n",
       "      <td>180.3</td>\n",
       "      <td>3.131</td>\n",
       "      <td>19.8</td>\n",
       "      <td>21.0</td>\n",
       "      <td>29-Jun-14</td>\n",
       "    </tr>\n",
       "    <tr>\n",
       "      <th>1</th>\n",
       "      <td>Dodge</td>\n",
       "      <td>Viper</td>\n",
       "      <td>0.916</td>\n",
       "      <td>58.470000</td>\n",
       "      <td>Passenger</td>\n",
       "      <td>69.725</td>\n",
       "      <td>8.0</td>\n",
       "      <td>450.0</td>\n",
       "      <td>96.2</td>\n",
       "      <td>75.7</td>\n",
       "      <td>176.7</td>\n",
       "      <td>3.375</td>\n",
       "      <td>19.0</td>\n",
       "      <td>16.0</td>\n",
       "      <td>08-Jul-15</td>\n",
       "    </tr>\n",
       "    <tr>\n",
       "      <th>2</th>\n",
       "      <td>Mercedes-Benz</td>\n",
       "      <td>CL500</td>\n",
       "      <td>0.954</td>\n",
       "      <td>18.072975</td>\n",
       "      <td>Passenger</td>\n",
       "      <td>85.500</td>\n",
       "      <td>5.0</td>\n",
       "      <td>302.0</td>\n",
       "      <td>113.6</td>\n",
       "      <td>73.1</td>\n",
       "      <td>196.6</td>\n",
       "      <td>4.115</td>\n",
       "      <td>23.2</td>\n",
       "      <td>20.0</td>\n",
       "      <td>04-Nov-15</td>\n",
       "    </tr>\n",
       "    <tr>\n",
       "      <th>3</th>\n",
       "      <td>Oldsmobile</td>\n",
       "      <td>Cutlass</td>\n",
       "      <td>1.112</td>\n",
       "      <td>11.240000</td>\n",
       "      <td>Passenger</td>\n",
       "      <td>18.145</td>\n",
       "      <td>3.1</td>\n",
       "      <td>150.0</td>\n",
       "      <td>107.0</td>\n",
       "      <td>69.4</td>\n",
       "      <td>192.0</td>\n",
       "      <td>3.102</td>\n",
       "      <td>15.2</td>\n",
       "      <td>25.0</td>\n",
       "      <td>31-May-15</td>\n",
       "    </tr>\n",
       "    <tr>\n",
       "      <th>4</th>\n",
       "      <td>Porsche</td>\n",
       "      <td>Carrera Coupe</td>\n",
       "      <td>1.280</td>\n",
       "      <td>60.625000</td>\n",
       "      <td>Passenger</td>\n",
       "      <td>71.020</td>\n",
       "      <td>3.4</td>\n",
       "      <td>300.0</td>\n",
       "      <td>92.6</td>\n",
       "      <td>69.5</td>\n",
       "      <td>174.5</td>\n",
       "      <td>3.032</td>\n",
       "      <td>17.0</td>\n",
       "      <td>21.0</td>\n",
       "      <td>21-Dec-14</td>\n",
       "    </tr>\n",
       "    <tr>\n",
       "      <th>...</th>\n",
       "      <td>...</td>\n",
       "      <td>...</td>\n",
       "      <td>...</td>\n",
       "      <td>...</td>\n",
       "      <td>...</td>\n",
       "      <td>...</td>\n",
       "      <td>...</td>\n",
       "      <td>...</td>\n",
       "      <td>...</td>\n",
       "      <td>...</td>\n",
       "      <td>...</td>\n",
       "      <td>...</td>\n",
       "      <td>...</td>\n",
       "      <td>...</td>\n",
       "      <td>...</td>\n",
       "    </tr>\n",
       "    <tr>\n",
       "      <th>152</th>\n",
       "      <td>Honda</td>\n",
       "      <td>Accord</td>\n",
       "      <td>230.902</td>\n",
       "      <td>13.210000</td>\n",
       "      <td>Passenger</td>\n",
       "      <td>15.350</td>\n",
       "      <td>2.3</td>\n",
       "      <td>135.0</td>\n",
       "      <td>106.9</td>\n",
       "      <td>70.3</td>\n",
       "      <td>188.8</td>\n",
       "      <td>2.932</td>\n",
       "      <td>17.1</td>\n",
       "      <td>27.0</td>\n",
       "      <td>20-May-14</td>\n",
       "    </tr>\n",
       "    <tr>\n",
       "      <th>153</th>\n",
       "      <td>Ford</td>\n",
       "      <td>Taurus</td>\n",
       "      <td>245.815</td>\n",
       "      <td>10.055000</td>\n",
       "      <td>Passenger</td>\n",
       "      <td>17.885</td>\n",
       "      <td>3.0</td>\n",
       "      <td>155.0</td>\n",
       "      <td>108.5</td>\n",
       "      <td>73.0</td>\n",
       "      <td>197.6</td>\n",
       "      <td>3.368</td>\n",
       "      <td>16.0</td>\n",
       "      <td>24.0</td>\n",
       "      <td>20-Dec-15</td>\n",
       "    </tr>\n",
       "    <tr>\n",
       "      <th>154</th>\n",
       "      <td>Toyota</td>\n",
       "      <td>Camry</td>\n",
       "      <td>247.994</td>\n",
       "      <td>13.245000</td>\n",
       "      <td>Passenger</td>\n",
       "      <td>17.518</td>\n",
       "      <td>2.2</td>\n",
       "      <td>133.0</td>\n",
       "      <td>105.2</td>\n",
       "      <td>70.1</td>\n",
       "      <td>188.5</td>\n",
       "      <td>2.998</td>\n",
       "      <td>18.5</td>\n",
       "      <td>27.0</td>\n",
       "      <td>02-Oct-15</td>\n",
       "    </tr>\n",
       "    <tr>\n",
       "      <th>155</th>\n",
       "      <td>Ford</td>\n",
       "      <td>Explorer</td>\n",
       "      <td>276.747</td>\n",
       "      <td>16.640000</td>\n",
       "      <td>Car</td>\n",
       "      <td>31.930</td>\n",
       "      <td>4.0</td>\n",
       "      <td>210.0</td>\n",
       "      <td>111.6</td>\n",
       "      <td>70.2</td>\n",
       "      <td>190.7</td>\n",
       "      <td>3.876</td>\n",
       "      <td>21.0</td>\n",
       "      <td>19.0</td>\n",
       "      <td>25-Apr-14</td>\n",
       "    </tr>\n",
       "    <tr>\n",
       "      <th>156</th>\n",
       "      <td>Ford</td>\n",
       "      <td>F-Series</td>\n",
       "      <td>540.561</td>\n",
       "      <td>15.075000</td>\n",
       "      <td>Car</td>\n",
       "      <td>26.935</td>\n",
       "      <td>4.6</td>\n",
       "      <td>220.0</td>\n",
       "      <td>138.5</td>\n",
       "      <td>79.1</td>\n",
       "      <td>224.5</td>\n",
       "      <td>4.241</td>\n",
       "      <td>25.1</td>\n",
       "      <td>18.0</td>\n",
       "      <td>16-Aug-14</td>\n",
       "    </tr>\n",
       "  </tbody>\n",
       "</table>\n",
       "<p>157 rows × 15 columns</p>\n",
       "</div>"
      ],
      "text/plain": [
       "      Manufacturer              Model  Sales in thousands  \\\n",
       "0       Mitsubishi  3000GT                          0.110   \n",
       "1            Dodge  Viper                           0.916   \n",
       "2    Mercedes-Benz  CL500                           0.954   \n",
       "3       Oldsmobile  Cutlass                         1.112   \n",
       "4          Porsche  Carrera Coupe                   1.280   \n",
       "..             ...                ...                 ...   \n",
       "152          Honda  Accord                        230.902   \n",
       "153           Ford  Taurus                        245.815   \n",
       "154         Toyota  Camry                         247.994   \n",
       "155           Ford  Explorer                      276.747   \n",
       "156           Ford  F-Series                      540.561   \n",
       "\n",
       "     4-year resale value Vehicle type  Price in thousands  Engine size  \\\n",
       "0              20.940000    Passenger              25.450          3.0   \n",
       "1              58.470000    Passenger              69.725          8.0   \n",
       "2              18.072975    Passenger              85.500          5.0   \n",
       "3              11.240000    Passenger              18.145          3.1   \n",
       "4              60.625000    Passenger              71.020          3.4   \n",
       "..                   ...          ...                 ...          ...   \n",
       "152            13.210000    Passenger              15.350          2.3   \n",
       "153            10.055000    Passenger              17.885          3.0   \n",
       "154            13.245000    Passenger              17.518          2.2   \n",
       "155            16.640000          Car              31.930          4.0   \n",
       "156            15.075000          Car              26.935          4.6   \n",
       "\n",
       "     Horsepower  Wheelbase  Width  Length  Curb weight  Fuel capacity  \\\n",
       "0         161.0       97.2   72.4   180.3        3.131           19.8   \n",
       "1         450.0       96.2   75.7   176.7        3.375           19.0   \n",
       "2         302.0      113.6   73.1   196.6        4.115           23.2   \n",
       "3         150.0      107.0   69.4   192.0        3.102           15.2   \n",
       "4         300.0       92.6   69.5   174.5        3.032           17.0   \n",
       "..          ...        ...    ...     ...          ...            ...   \n",
       "152       135.0      106.9   70.3   188.8        2.932           17.1   \n",
       "153       155.0      108.5   73.0   197.6        3.368           16.0   \n",
       "154       133.0      105.2   70.1   188.5        2.998           18.5   \n",
       "155       210.0      111.6   70.2   190.7        3.876           21.0   \n",
       "156       220.0      138.5   79.1   224.5        4.241           25.1   \n",
       "\n",
       "     Fuel efficiency Latest Launch  \n",
       "0               21.0     29-Jun-14  \n",
       "1               16.0     08-Jul-15  \n",
       "2               20.0     04-Nov-15  \n",
       "3               25.0     31-May-15  \n",
       "4               21.0     21-Dec-14  \n",
       "..               ...           ...  \n",
       "152             27.0     20-May-14  \n",
       "153             24.0     20-Dec-15  \n",
       "154             27.0     02-Oct-15  \n",
       "155             19.0     25-Apr-14  \n",
       "156             18.0     16-Aug-14  \n",
       "\n",
       "[157 rows x 15 columns]"
      ]
     },
     "execution_count": 10,
     "metadata": {},
     "output_type": "execute_result"
    }
   ],
   "source": [
    "import matplotlib.pyplot as plt\n",
    "car = car.sort_values('Sales in thousands')\n",
    "car"
   ]
  },
  {
   "cell_type": "code",
   "execution_count": 11,
   "id": "aec7f5e8",
   "metadata": {},
   "outputs": [
    {
     "data": {
      "text/plain": [
       "[<matplotlib.lines.Line2D at 0x1eef299a0a0>]"
      ]
     },
     "execution_count": 11,
     "metadata": {},
     "output_type": "execute_result"
    },
    {
     "data": {
      "image/png": "[encoded data removed]",
      "text/plain": [
       "<Figure size 432x288 with 1 Axes>"
      ]
     },
     "metadata": {
      "needs_background": "light"
     },
     "output_type": "display_data"
    }
   ],
   "source": [
    "plt.plot(car['Sales in thousands'])"
   ]
  },
  {
   "cell_type": "markdown",
   "id": "e158d1d3",
   "metadata": {},
   "source": [
    "# 2. Barplot"
   ]
  },
  {
   "cell_type": "code",
   "execution_count": 13,
   "id": "a06da739",
   "metadata": {},
   "outputs": [
    {
     "data": {
      "image/png": "[encoded data removed]",
      "text/plain": [
       "<Figure size 864x720 with 1 Axes>"
      ]
     },
     "metadata": {
      "needs_background": "light"
     },
     "output_type": "display_data"
    }
   ],
   "source": [
    "plt.figure(figsize = (12,10))\n",
    "for group, data in car.groupby('Manufacturer'):\n",
    "    plt.barh(group, data['4-year resale value'].mean())"
   ]
  },
  {
   "cell_type": "code",
   "execution_count": 14,
   "id": "db79d4aa",
   "metadata": {},
   "outputs": [
    {
     "data": {
      "image/png": "[encoded data removed]",
      "text/plain": [
       "<Figure size 432x288 with 1 Axes>"
      ]
     },
     "metadata": {
      "needs_background": "light"
     },
     "output_type": "display_data"
    }
   ],
   "source": [
    "vt_dict=dict()\n",
    "for i in set(car['Vehicle type']):\n",
    "    vt_dict[i]=car[car['Vehicle type']==i].Manufacturer.count()\n",
    "plt.bar(vt_dict.keys(),vt_dict.values())\n",
    "plt.show()"
   ]
  },
  {
   "cell_type": "code",
   "execution_count": 18,
   "id": "cb72fde6",
   "metadata": {},
   "outputs": [
    {
     "data": {
      "image/png": "[encoded data removed]",
      "text/plain": [
       "<Figure size 720x576 with 1 Axes>"
      ]
     },
     "metadata": {
      "needs_background": "light"
     },
     "output_type": "display_data"
    }
   ],
   "source": [
    "plt.figure(figsize=(10,8))\n",
    "for group,data in car.groupby('Manufacturer'):\n",
    "    plt.barh(group,data['4-year resale value'].mean())\n",
    "    plt.barh(group,data['Price in thousands'].mean(),left=data['4-year resale value'].mean())\n",
    "    \n",
    "    "
   ]
  },
  {
   "cell_type": "code",
   "execution_count": 19,
   "id": "fe0a8666",
   "metadata": {},
   "outputs": [
    {
     "data": {
      "image/png": "[encoded data removed]",
      "text/plain": [
       "<Figure size 432x288 with 1 Axes>"
      ]
     },
     "metadata": {
      "needs_background": "light"
     },
     "output_type": "display_data"
    }
   ],
   "source": [
    "car.Horsepower=car.Horsepower.fillna(car.Horsepower.mean())\n",
    "plt.hist(car.Horsepower,bins=10)\n",
    "plt.show()"
   ]
  },
  {
   "cell_type": "code",
   "execution_count": 20,
   "id": "7f8fbf1a",
   "metadata": {},
   "outputs": [
    {
     "data": {
      "image/png": "[encoded data removed]",
      "text/plain": [
       "<Figure size 720x576 with 1 Axes>"
      ]
     },
     "metadata": {},
     "output_type": "display_data"
    }
   ],
   "source": [
    "m_dict=dict()\n",
    "plt.figure(figsize=(10,8))\n",
    "\n",
    "for manufacturer in set(car.Manufacturer):\n",
    "    m_dict[manufacturer]=car[car.Manufacturer==manufacturer].Manufacturer.count()\n",
    "plt.pie(m_dict.values(),labels=m_dict.keys())\n",
    "plt.show()"
   ]
  },
  {
   "cell_type": "code",
   "execution_count": 21,
   "id": "9de0cfeb",
   "metadata": {},
   "outputs": [
    {
     "data": {
      "text/plain": [
       "<matplotlib.collections.PathCollection at 0x1eef39ceb50>"
      ]
     },
     "execution_count": 21,
     "metadata": {},
     "output_type": "execute_result"
    },
    {
     "data": {
      "image/png": "[encoded data removed]",
      "text/plain": [
       "<Figure size 432x288 with 1 Axes>"
      ]
     },
     "metadata": {
      "needs_background": "light"
     },
     "output_type": "display_data"
    }
   ],
   "source": [
    "plt.scatter(car['Fuel capacity'],car['Fuel efficiency'])"
   ]
  },
  {
   "cell_type": "code",
   "execution_count": 22,
   "id": "635d4da1",
   "metadata": {},
   "outputs": [
    {
     "data": {
      "text/plain": [
       "True"
      ]
     },
     "execution_count": 22,
     "metadata": {},
     "output_type": "execute_result"
    }
   ],
   "source": [
    "car['Curb weight'].isna().any()"
   ]
  },
  {
   "cell_type": "code",
   "execution_count": 23,
   "id": "75722995",
   "metadata": {},
   "outputs": [
    {
     "data": {
      "image/png": "[encoded data removed]",
      "text/plain": [
       "<Figure size 432x288 with 1 Axes>"
      ]
     },
     "metadata": {
      "needs_background": "light"
     },
     "output_type": "display_data"
    }
   ],
   "source": [
    "car['Curb weight']=car['Curb weight'].fillna(car['Curb weight'].mean())\n",
    "plt.boxplot(car['Curb weight'])\n",
    "plt.show()"
   ]
  },
  {
   "cell_type": "code",
   "execution_count": 24,
   "id": "7eeeb758",
   "metadata": {},
   "outputs": [
    {
     "data": {
      "text/plain": [
       "True"
      ]
     },
     "execution_count": 24,
     "metadata": {},
     "output_type": "execute_result"
    }
   ],
   "source": [
    "car.Wheelbase.isna().any()"
   ]
  },
  {
   "cell_type": "code",
   "execution_count": 25,
   "id": "7f4c6a80",
   "metadata": {},
   "outputs": [
    {
     "data": {
      "image/png": "[encoded data removed]",
      "text/plain": [
       "<Figure size 432x288 with 1 Axes>"
      ]
     },
     "metadata": {
      "needs_background": "light"
     },
     "output_type": "display_data"
    }
   ],
   "source": [
    "car.Wheelbase=car.Wheelbase.fillna(car.Wheelbase.mean())\n",
    "plt.boxplot(car.Wheelbase)\n",
    "plt.show()"
   ]
  },
  {
   "cell_type": "code",
   "execution_count": null,
   "id": "e1209fc1",
   "metadata": {},
   "outputs": [],
   "source": []
  }
 ],
 "metadata": {
  "kernelspec": {
   "display_name": "Python 3 (ipykernel)",
   "language": "python",
   "name": "python3"
  },
  "language_info": {
   "codemirror_mode": {
    "name": "ipython",
    "version": 3
   },
   "file_extension": ".py",
   "mimetype": "text/x-python",
   "name": "python",
   "nbconvert_exporter": "python",
   "pygments_lexer": "ipython3",
   "version": "3.9.12"
  }
 },
 "nbformat": 4,
 "nbformat_minor": 5
}
