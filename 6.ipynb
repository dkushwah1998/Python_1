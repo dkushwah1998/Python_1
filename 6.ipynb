{
 "cells": [
  {
   "cell_type": "code",
   "execution_count": 1,
   "id": "914b7eb4",
   "metadata": {},
   "outputs": [],
   "source": [
    "import random\n",
    "number = random.randint(1,9)\n",
    "guess = 0\n",
    "count = 0"
   ]
  },
  {
   "cell_type": "code",
   "execution_count": 2,
   "id": "efb1b6eb",
   "metadata": {},
   "outputs": [
    {
     "name": "stdout",
     "output_type": "stream",
     "text": [
      "Welcome To The Guessing Game\n",
      "Guess the number between 1 to 9:4\n",
      "Too high!\n",
      "Guess the number between 1 to 9:3\n",
      "Too high!\n",
      "Guess the number between 1 to 9:2\n",
      "Too high!\n",
      "Guess the number between 1 to 9:1\n",
      "You got it!\n",
      "And it only took you 4 tries!\n"
     ]
    }
   ],
   "source": [
    "print(\"Welcome To The Guessing Game\")\n",
    "while count!=5:\n",
    "    guess = input(\"Guess the number between 1 to 9:\")    \n",
    "    guess = int(guess)\n",
    "    count += 1    \n",
    "    if guess < number:\n",
    "            print(\"Too low!\")\n",
    "    elif guess > number:\n",
    "            print(\"Too high!\")\n",
    "    else:\n",
    "            print(\"You got it!\")\n",
    "            print(\"And it only took you\",count,\"tries!\")\n",
    "            break"
   ]
  },
  {
   "cell_type": "code",
   "execution_count": 3,
   "id": "9c374b11",
   "metadata": {},
   "outputs": [
    {
     "name": "stdout",
     "output_type": "stream",
     "text": [
      "Enter a string: RadaR\n",
      "The string is a palindrome.\n"
     ]
    }
   ],
   "source": [
    "s = input(\"Enter a string: \")\n",
    "for i in range(0,len(s)//2):\n",
    "    if(s[i] != s[len(s)-i-1]):\n",
    "        found = False\n",
    "        break\n",
    "else:\n",
    "    found = True\n",
    "if found:\n",
    "    print(\"The string is a palindrome.\")\n",
    "else:\n",
    "    print(\"The string is not a palindrome.\")"
   ]
  },
  {
   "cell_type": "code",
   "execution_count": 9,
   "id": "3da1ba52",
   "metadata": {},
   "outputs": [
    {
     "name": "stdout",
     "output_type": "stream",
     "text": [
      "1\n",
      "2\n",
      "3\n",
      "5\n",
      "8\n",
      "13\n",
      "21\n",
      "34\n",
      "55\n",
      "89\n",
      "144\n",
      "233\n",
      "377\n"
     ]
    }
   ],
   "source": [
    "## fibonaccci series\n",
    "First_Value =0\n",
    "Second_Value = 1\n",
    "for Num in range(0, 15):\n",
    "   \n",
    "    if(Num <= 1):\n",
    "        Next = Num\n",
    "    \n",
    "    else:\n",
    "        Next = First_Value + Second_Value\n",
    "        First_Value = Second_Value\n",
    "        Second_Value = Next\n",
    "                \n",
    "        print(Next)"
   ]
  },
  {
   "cell_type": "code",
   "execution_count": 16,
   "id": "56e55b0b",
   "metadata": {},
   "outputs": [
    {
     "name": "stdout",
     "output_type": "stream",
     "text": [
      "Welcome to deposit and withrawl machine\n",
      "Enter amount for depositing: 15451.154\n",
      "Deposited amount:  15451.154\n",
      "Enter amount for withraw: 1542\n",
      "withdrew amount:  1542.0\n",
      "Net balance:  13909.15\n"
     ]
    }
   ],
   "source": [
    "class bank_account():\n",
    "    def _init_(self):\n",
    "        self.balance = 0\n",
    "        print(\"Welcome to deposit and withrawl machine\")\n",
    "    def deposit(self):\n",
    "        amount = float(input(\"Enter amount for depositing: \"))\n",
    "        self.balance += amount\n",
    "        print(\"Deposited amount: \", amount)\n",
    "    def withdraw(self, withdraw_amount):\n",
    "        if self.balance>= withdraw_amount:\n",
    "            self.balance -= withdraw_amount\n",
    "            print(\"withdrew amount: \", withdraw_amount)\n",
    "        else:\n",
    "            print(\"Insufficient balance\")\n",
    "    def display(self):\n",
    "        print(\"Net balance: \", round(self.balance,2))\n",
    "s = bank_account()\n",
    "s._init_()\n",
    "s.deposit()\n",
    "withdraw_amount = float(input(\"Enter amount for withraw: \"))\n",
    "s.withdraw(withdraw_amount)\n",
    "s.display()\n",
    "\n",
    "            \n",
    "    \n",
    "        "
   ]
  },
  {
   "cell_type": "code",
   "execution_count": null,
   "id": "4082d65d",
   "metadata": {},
   "outputs": [],
   "source": []
  }
 ],
 "metadata": {
  "kernelspec": {
   "display_name": "Python 3 (ipykernel)",
   "language": "python",
   "name": "python3"
  },
  "language_info": {
   "codemirror_mode": {
    "name": "ipython",
    "version": 3
   },
   "file_extension": ".py",
   "mimetype": "text/x-python",
   "name": "python",
   "nbconvert_exporter": "python",
   "pygments_lexer": "ipython3",
   "version": "3.9.7"
  }
 },
 "nbformat": 4,
 "nbformat_minor": 5
}
