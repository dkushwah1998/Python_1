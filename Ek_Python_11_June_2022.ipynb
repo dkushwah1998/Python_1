{
 "cells": [
  {
   "cell_type": "code",
   "execution_count": 3,
   "id": "825f6bd4",
   "metadata": {},
   "outputs": [
    {
     "name": "stdout",
     "output_type": "stream",
     "text": [
      "x is lesser than 150\n"
     ]
    }
   ],
   "source": [
    "#If, elif, else\n",
    "x = 144\n",
    "if x<= 100:\n",
    "    print(\"x is lesser thean 100\")\n",
    "elif x<=150:\n",
    "    print(\"x is lesser than 150\")\n",
    "else:\n",
    "    print(\"x is greater than 150\")"
   ]
  },
  {
   "cell_type": "code",
   "execution_count": 4,
   "id": "729c6461",
   "metadata": {},
   "outputs": [
    {
     "name": "stdout",
     "output_type": "stream",
     "text": [
      "1\n",
      "2\n",
      "3\n",
      "4\n",
      "5\n",
      "6\n",
      "7\n",
      "8\n"
     ]
    }
   ],
   "source": [
    "# For loo: It will iterate through a object\n",
    "x = (1,2,3,4,5,6,7,8)\n",
    "for i in x:\n",
    "    print(i)"
   ]
  },
  {
   "cell_type": "code",
   "execution_count": 18,
   "id": "d2654595",
   "metadata": {},
   "outputs": [
    {
     "name": "stdout",
     "output_type": "stream",
     "text": [
      "2\n",
      "4\n",
      "6\n",
      "8\n",
      "10\n",
      "12\n",
      "14\n",
      "16\n",
      "18\n",
      "20\n"
     ]
    }
   ],
   "source": [
    "x = (2,4,6,8,10,12,14,16,18,20)\n",
    "for i in x:\n",
    "    print(i)\n",
    "    \n"
   ]
  },
  {
   "cell_type": "code",
   "execution_count": 33,
   "id": "2392d944",
   "metadata": {},
   "outputs": [
    {
     "name": "stdout",
     "output_type": "stream",
     "text": [
      "1 x 2= 2\n",
      "2 x 2= 4\n",
      "3 x 2= 6\n",
      "4 x 2= 8\n",
      "5 x 2= 10\n",
      "6 x 2= 12\n",
      "7 x 2= 14\n",
      "8 x 2= 16\n",
      "9 x 2= 18\n",
      "10 x 2= 20\n"
     ]
    }
   ],
   "source": [
    "x = [1,2,3,4,5,6,7,8,9,10]\n",
    "for i in x:\n",
    "    print(i, 'x', '2=', i*2)"
   ]
  },
  {
   "cell_type": "code",
   "execution_count": 30,
   "id": "6d0f5c75",
   "metadata": {},
   "outputs": [
    {
     "name": "stdout",
     "output_type": "stream",
     "text": [
      "odd number is:  1\n",
      "odd number is:  3\n",
      "odd number is:  5\n",
      "odd number is:  7\n",
      "odd number is:  9\n",
      "odd number is:  11\n",
      "odd number is:  13\n",
      "odd number is:  15\n",
      "odd number is:  17\n",
      "odd number is:  19\n"
     ]
    }
   ],
   "source": [
    "for i in range(1,20,2):\n",
    "    print(\"odd number is: \", i)\n",
    "    \n",
    "    "
   ]
  },
  {
   "cell_type": "code",
   "execution_count": 35,
   "id": "dae84426",
   "metadata": {},
   "outputs": [
    {
     "name": "stdout",
     "output_type": "stream",
     "text": [
      "2\n",
      "4\n",
      "6\n",
      "8\n",
      "10\n",
      "12\n",
      "14\n",
      "16\n",
      "18\n"
     ]
    }
   ],
   "source": [
    "# print Even Number\n",
    "for i in range(2,20):\n",
    "    if i%2==0:\n",
    "        print(i)"
   ]
  },
  {
   "cell_type": "code",
   "execution_count": 38,
   "id": "458f6d8a",
   "metadata": {
    "scrolled": true
   },
   "outputs": [
    {
     "name": "stdout",
     "output_type": "stream",
     "text": [
      "0\n",
      "5\n",
      "10\n",
      "15\n",
      "20\n",
      "25\n",
      "30\n",
      "35\n",
      "40\n",
      "45\n",
      "50\n"
     ]
    }
   ],
   "source": [
    "# while loop: Run as long as the condition is true\n",
    "x = 0\n",
    "while x<= 50:\n",
    "    print(x)\n",
    "    x = x+5"
   ]
  },
  {
   "cell_type": "code",
   "execution_count": null,
   "id": "1b1ef671",
   "metadata": {},
   "outputs": [],
   "source": [
    "x=1\n",
    "while x<=20:\n",
    "    print(x)\n",
    "    x=x+2\n",
    "\n"
   ]
  },
  {
   "cell_type": "code",
   "execution_count": null,
   "id": "0c9b17c9",
   "metadata": {},
   "outputs": [],
   "source": [
    "i = 1\n",
    "while i<=20:\n",
    "    i = i+1\n",
    "    if i%2!=0:\n",
    "        print(i)"
   ]
  },
  {
   "cell_type": "code",
   "execution_count": null,
   "id": "5fd14e92",
   "metadata": {},
   "outputs": [],
   "source": [
    "# break\n",
    "x = (2,4,6,8,10,12,14,16,18,20)\n",
    "for i in x:\n",
    "    print(i)\n",
    "    if i == 5:\n",
    "        break"
   ]
  },
  {
   "cell_type": "code",
   "execution_count": 1,
   "id": "da15f36e",
   "metadata": {},
   "outputs": [
    {
     "name": "stdout",
     "output_type": "stream",
     "text": [
      "2\n",
      "4\n",
      "6\n",
      "8\n",
      "10\n",
      "12\n",
      "14\n",
      "16\n",
      "18\n",
      "20\n"
     ]
    }
   ],
   "source": [
    "# continue\n",
    "x = (2,4,6,8,10,12,14,16,18,20)\n",
    "for i in x:\n",
    "    print(i)\n",
    "    if i == 5:\n",
    "        continue"
   ]
  },
  {
   "cell_type": "code",
   "execution_count": null,
   "id": "73a62dc4",
   "metadata": {},
   "outputs": [],
   "source": []
  }
 ],
 "metadata": {
  "kernelspec": {
   "display_name": "Python 3 (ipykernel)",
   "language": "python",
   "name": "python3"
  },
  "language_info": {
   "codemirror_mode": {
    "name": "ipython",
    "version": 3
   },
   "file_extension": ".py",
   "mimetype": "text/x-python",
   "name": "python",
   "nbconvert_exporter": "python",
   "pygments_lexer": "ipython3",
   "version": "3.9.7"
  }
 },
 "nbformat": 4,
 "nbformat_minor": 5
}
