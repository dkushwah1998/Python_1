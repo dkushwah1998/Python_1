{
 "cells": [
  {
   "cell_type": "code",
   "execution_count": 1,
   "id": "3c89b991",
   "metadata": {},
   "outputs": [
    {
     "name": "stdout",
     "output_type": "stream",
     "text": [
      "Name: Dharmendra Kushwah\n",
      "Age: 24\n",
      "Address: thoraipakkam, chennai\n"
     ]
    }
   ],
   "source": [
    "def personal_detail():\n",
    "    name, age = \"Dharmendra Kushwah\", 24\n",
    "    address = \"thoraipakkam, chennai\"\n",
    "    print(\"Name: {}\\nAge: {}\\nAddress: {}\".format(name,age,address))\n",
    "personal_detail()"
   ]
  },
  {
   "cell_type": "code",
   "execution_count": 3,
   "id": "a5e69962",
   "metadata": {},
   "outputs": [
    {
     "name": "stdout",
     "output_type": "stream",
     "text": [
      "(4+5)^2 = 81\n"
     ]
    }
   ],
   "source": [
    "x = 4\n",
    "y = 5\n",
    "s = (x+y)*(x+y)\n",
    "print(\"({}+{})^2 =\".format(x,y),s)"
   ]
  },
  {
   "cell_type": "code",
   "execution_count": 5,
   "id": "60a936cf",
   "metadata": {},
   "outputs": [
    {
     "name": "stdout",
     "output_type": "stream",
     "text": [
      "(4+5)^2 = 81\n"
     ]
    }
   ],
   "source": [
    "print(\"({}+{})^2 = {}\".format(x,y,s))\n"
   ]
  },
  {
   "cell_type": "code",
   "execution_count": 7,
   "id": "fc7dec16",
   "metadata": {},
   "outputs": [
    {
     "name": "stdout",
     "output_type": "stream",
     "text": [
      "10000\n",
      "3.5\n",
      "7\n",
      "12722.792627665729\n"
     ]
    }
   ],
   "source": [
    "P = int(input())\n",
    "r = float(input())\n",
    "n = float(input())\n",
    "A = P*(1+r/100)**n\n",
    "print(A)"
   ]
  },
  {
   "cell_type": "code",
   "execution_count": 9,
   "id": "7198ced9",
   "metadata": {},
   "outputs": [
    {
     "name": "stdout",
     "output_type": "stream",
     "text": [
      "4.242640687119285\n"
     ]
    }
   ],
   "source": [
    "import math\n",
    "x1,y1 = 2,3\n",
    "x2,y2 = 5,6\n",
    "d = math.sqrt((x2-x1)**2+(y2-y1)**2)\n",
    "print(d)"
   ]
  },
  {
   "cell_type": "code",
   "execution_count": 10,
   "id": "65b0f8b5",
   "metadata": {},
   "outputs": [
    {
     "name": "stdout",
     "output_type": "stream",
     "text": [
      "True\n",
      "False\n"
     ]
    }
   ],
   "source": [
    "import os.path\n",
    "print(os.path.isfile('mtcars.csv'))\n",
    "print(os.path.isfile('dk.csv'))"
   ]
  },
  {
   "cell_type": "code",
   "execution_count": 11,
   "id": "a7988041",
   "metadata": {},
   "outputs": [
    {
     "name": "stdout",
     "output_type": "stream",
     "text": [
      "HP\n"
     ]
    }
   ],
   "source": [
    "import getpass\n",
    "print(getpass.getuser())"
   ]
  },
  {
   "cell_type": "code",
   "execution_count": 12,
   "id": "25f6570e",
   "metadata": {},
   "outputs": [
    {
     "name": "stdout",
     "output_type": "stream",
     "text": [
      "5\n",
      "15.0\n"
     ]
    }
   ],
   "source": [
    "n = int(input())\n",
    "s = n*(n+1)/2\n",
    "print(s)"
   ]
  },
  {
   "cell_type": "code",
   "execution_count": null,
   "id": "e0c6057a",
   "metadata": {},
   "outputs": [],
   "source": []
  }
 ],
 "metadata": {
  "kernelspec": {
   "display_name": "Python 3 (ipykernel)",
   "language": "python",
   "name": "python3"
  },
  "language_info": {
   "codemirror_mode": {
    "name": "ipython",
    "version": 3
   },
   "file_extension": ".py",
   "mimetype": "text/x-python",
   "name": "python",
   "nbconvert_exporter": "python",
   "pygments_lexer": "ipython3",
   "version": "3.9.12"
  }
 },
 "nbformat": 4,
 "nbformat_minor": 5
}
