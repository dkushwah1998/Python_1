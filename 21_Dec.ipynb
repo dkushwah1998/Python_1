{
 "cells": [
  {
   "cell_type": "code",
   "execution_count": 3,
   "id": "7bf3a464",
   "metadata": {},
   "outputs": [
    {
     "name": "stdout",
     "output_type": "stream",
     "text": [
      "374\n"
     ]
    }
   ],
   "source": [
    "from datetime import date\n",
    "f_date = date(2022,11,21)\n",
    "l_date = date(2023,11,30)\n",
    "def_date = l_date-f_date\n",
    "print(def_date.days)\n"
   ]
  },
  {
   "cell_type": "code",
   "execution_count": 5,
   "id": "83d1b768",
   "metadata": {},
   "outputs": [
    {
     "name": "stdout",
     "output_type": "stream",
     "text": [
      "Enter a no.: 58\n",
      "41\n"
     ]
    }
   ],
   "source": [
    "n = int(input(\"Enter a no.: \"))\n",
    "a = 17\n",
    "if n>=17:\n",
    "    print(n-17)\n",
    "else:\n",
    "    print(2*(17-n))\n",
    "    "
   ]
  },
  {
   "cell_type": "code",
   "execution_count": 7,
   "id": "2cbd00d9",
   "metadata": {},
   "outputs": [
    {
     "name": "stdout",
     "output_type": "stream",
     "text": [
      "11\n",
      "16\n",
      "18\n"
     ]
    }
   ],
   "source": [
    "def sum(n1,n2,n3):\n",
    "    if n1!=n2==n3 or n1==n2!=n3 or n1==n3!=n2 or n1!=n2!=n3:\n",
    "        return n1+n2+n3\n",
    "    else:\n",
    "        return 3*(n1+n2+n3)\n",
    "print(sum(2,4,5))\n",
    "print(sum(5,6,5))\n",
    "print(sum(2,2,2))"
   ]
  },
  {
   "cell_type": "code",
   "execution_count": 8,
   "id": "7ebfb314",
   "metadata": {},
   "outputs": [
    {
     "name": "stdout",
     "output_type": "stream",
     "text": [
      "Enter a number: 5\n",
      "Number is odd\n"
     ]
    }
   ],
   "source": [
    "#even or odd\n",
    "n = int(input('Enter a number: '))\n",
    "if n%2==0:\n",
    "    print(\"Number is Even\")\n",
    "else:\n",
    "    print(\"Number is odd\")"
   ]
  },
  {
   "cell_type": "code",
   "execution_count": 9,
   "id": "cd97bac5",
   "metadata": {},
   "outputs": [
    {
     "name": "stdout",
     "output_type": "stream",
     "text": [
      "Enter a number: 8\n",
      "Number is Even\n"
     ]
    }
   ],
   "source": [
    "#even or odd\n",
    "n = int(input('Enter a number: '))\n",
    "if n%2==0:\n",
    "    print(\"Number is Even\")\n",
    "else:\n",
    "    print(\"Number is odd\")"
   ]
  },
  {
   "cell_type": "code",
   "execution_count": 12,
   "id": "f0098f0f",
   "metadata": {},
   "outputs": [
    {
     "name": "stdout",
     "output_type": "stream",
     "text": [
      "4\n",
      "9\n"
     ]
    }
   ],
   "source": [
    "#count 5 in list\n",
    "def count_num(lst):\n",
    "    count = 0\n",
    "    for i in lst:\n",
    "        if i==5:\n",
    "            count = count+1\n",
    "    return count\n",
    "print(count_num([1,5,6,5,7,8,9,5,8,6,5,4]))\n",
    "print(count_num([4,5,6,8,7,5,4,5,6,78,4,5,48,54,5,4,6,5,8,5,2,5,87,5,2]))\n"
   ]
  },
  {
   "cell_type": "code",
   "execution_count": null,
   "id": "fcd28eed",
   "metadata": {},
   "outputs": [],
   "source": []
  }
 ],
 "metadata": {
  "kernelspec": {
   "display_name": "Python 3 (ipykernel)",
   "language": "python",
   "name": "python3"
  },
  "language_info": {
   "codemirror_mode": {
    "name": "ipython",
    "version": 3
   },
   "file_extension": ".py",
   "mimetype": "text/x-python",
   "name": "python",
   "nbconvert_exporter": "python",
   "pygments_lexer": "ipython3",
   "version": "3.9.12"
  }
 },
 "nbformat": 4,
 "nbformat_minor": 5
}
