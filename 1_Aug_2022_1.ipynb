{
 "cells": [
  {
   "cell_type": "code",
   "execution_count": 1,
   "id": "2778bb7e",
   "metadata": {},
   "outputs": [
    {
     "name": "stdout",
     "output_type": "stream",
     "text": [
      "{1, 2, 3, 4, 5, 6, 7, 8, 9}\n"
     ]
    }
   ],
   "source": [
    "event_a = {2,5,6,7,9,4}\n",
    "event_b = {1,3,5,6,8,7,8,9}\n",
    "print(event_a.union(event_b))"
   ]
  },
  {
   "cell_type": "code",
   "execution_count": 2,
   "id": "ec6e5ef0",
   "metadata": {},
   "outputs": [
    {
     "name": "stdout",
     "output_type": "stream",
     "text": [
      "{9, 5, 6, 7}\n"
     ]
    }
   ],
   "source": [
    "print(event_a.intersection(event_b))"
   ]
  },
  {
   "cell_type": "code",
   "execution_count": 11,
   "id": "b317d548",
   "metadata": {},
   "outputs": [
    {
     "name": "stdout",
     "output_type": "stream",
     "text": [
      "[26.   12.65 24.19 22.44 18.25]\n"
     ]
    }
   ],
   "source": [
    "import numpy as np\n",
    "import scipy.stats as stats\n",
    "y = stats.norm(20,5)\n",
    "x = np.round(y.rvs(5),2)\n",
    "print(x)"
   ]
  },
  {
   "cell_type": "code",
   "execution_count": 12,
   "id": "489c00cc",
   "metadata": {},
   "outputs": [
    {
     "name": "stdout",
     "output_type": "stream",
     "text": [
      "[21.47497194 23.78288958 15.21609319 10.50282892 24.49884187]\n"
     ]
    }
   ],
   "source": [
    "z = y.rvs(5)\n",
    "print(z)"
   ]
  },
  {
   "cell_type": "code",
   "execution_count": 13,
   "id": "efec5d9b",
   "metadata": {},
   "outputs": [],
   "source": [
    "import math\n",
    "from scipy import stats"
   ]
  },
  {
   "cell_type": "code",
   "execution_count": 14,
   "id": "28a1f68e",
   "metadata": {},
   "outputs": [
    {
     "name": "stdout",
     "output_type": "stream",
     "text": [
      "confindenc Interval:  (66.09860358931088, 82.34139641068911)\n"
     ]
    }
   ],
   "source": [
    "size = 32\n",
    "smean = 74.22\n",
    "s = 23.44\n",
    "margin = stats.norm.ppf(q=0.975)*(s/math.sqrt(size))\n",
    "CI = (smean-margin,smean+margin)\n",
    "print(\"confindenc Interval: \",CI)"
   ]
  },
  {
   "cell_type": "code",
   "execution_count": null,
   "id": "d7a23853",
   "metadata": {},
   "outputs": [],
   "source": []
  }
 ],
 "metadata": {
  "kernelspec": {
   "display_name": "Python 3 (ipykernel)",
   "language": "python",
   "name": "python3"
  },
  "language_info": {
   "codemirror_mode": {
    "name": "ipython",
    "version": 3
   },
   "file_extension": ".py",
   "mimetype": "text/x-python",
   "name": "python",
   "nbconvert_exporter": "python",
   "pygments_lexer": "ipython3",
   "version": "3.9.12"
  }
 },
 "nbformat": 4,
 "nbformat_minor": 5
}
