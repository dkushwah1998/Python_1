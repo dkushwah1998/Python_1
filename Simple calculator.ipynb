{
 "cells": [
  {
   "cell_type": "code",
   "execution_count": 1,
   "id": "0155754e",
   "metadata": {},
   "outputs": [
    {
     "name": "stdout",
     "output_type": "stream",
     "text": [
      "Enter first number: 57\n",
      "Enter second number: 40\n",
      "enter third number: 35\n",
      "Enter fourth number: 25\n"
     ]
    }
   ],
   "source": [
    "## Calculator\n",
    "n1 = int(input(\"Enter first number: \"))\n",
    "n2 = int(input(\"Enter second number: \"))\n",
    "n3 = int(input(\"enter third number: \"))\n",
    "n4 = int(input(\"Enter fourth number: \"))"
   ]
  },
  {
   "cell_type": "code",
   "execution_count": 2,
   "id": "ead759d0",
   "metadata": {},
   "outputs": [
    {
     "name": "stdout",
     "output_type": "stream",
     "text": [
      "Sum of n1 and n2:  97\n",
      "sum of n1 and n3:  92\n",
      "Sum of n1 and n4:  82\n",
      "Sum of n2 and n3:  75\n",
      "Sum of n3 and n4:  60\n",
      "Sum of n2 and n4:  65\n",
      "Sum of n1, n2, n3, and n4:  157\n"
     ]
    }
   ],
   "source": [
    "print(\"Sum of n1 and n2: \",n1+n2)\n",
    "print(\"sum of n1 and n3: \",n1+n3)\n",
    "print(\"Sum of n1 and n4: \",n1+n4)\n",
    "print(\"Sum of n2 and n3: \",n2+n3)\n",
    "print(\"Sum of n3 and n4: \",n3+n4)\n",
    "print(\"Sum of n2 and n4: \",n2+n4)\n",
    "print(\"Sum of n1, n2, n3, and n4: \",n1+n2+n3+n4)"
   ]
  },
  {
   "cell_type": "code",
   "execution_count": 3,
   "id": "495b5bb4",
   "metadata": {},
   "outputs": [
    {
     "name": "stdout",
     "output_type": "stream",
     "text": [
      "Subtaction of n1 and n2:  17\n",
      "Subtaction of n1 and n3:  22\n",
      "Subtaction of n1 and n4:  32\n",
      "Subtaction of n2 and n3:  5\n",
      "Subtaction of n3 and n4:  10\n",
      "Subtaction of n2 and n4:  15\n"
     ]
    }
   ],
   "source": [
    "print(\"Subtaction of n1 and n2: \",n1-n2)\n",
    "print(\"Subtaction of n1 and n3: \",n1-n3)\n",
    "print(\"Subtaction of n1 and n4: \",n1-n4)\n",
    "print(\"Subtaction of n2 and n3: \",n2-n3)\n",
    "print(\"Subtaction of n3 and n4: \",n3-n4)\n",
    "print(\"Subtaction of n2 and n4: \",n2-n4)"
   ]
  },
  {
   "cell_type": "code",
   "execution_count": 4,
   "id": "c62fd5b7",
   "metadata": {},
   "outputs": [
    {
     "name": "stdout",
     "output_type": "stream",
     "text": [
      "Product of n1 and n2:  2280\n",
      "Product of n1 and n3:  1995\n",
      "Product of n1 and n4:  1425\n",
      "Product of n2 and n3:  1400\n",
      "Product of n3 and n4:  875\n",
      "Product of n2 and n4:  1000\n",
      "Product of n1, n2, n3, and n4:  1995000\n"
     ]
    }
   ],
   "source": [
    "print(\"Product of n1 and n2: \",n1*n2)\n",
    "print(\"Product of n1 and n3: \",n1*n3)\n",
    "print(\"Product of n1 and n4: \",n1*n4)\n",
    "print(\"Product of n2 and n3: \",n2*n3)\n",
    "print(\"Product of n3 and n4: \",n3*n4)\n",
    "print(\"Product of n2 and n4: \",n2*n4)\n",
    "print(\"Product of n1, n2, n3, and n4: \",n1*n2*n3*n4)"
   ]
  },
  {
   "cell_type": "code",
   "execution_count": 5,
   "id": "f77557b0",
   "metadata": {},
   "outputs": [
    {
     "name": "stdout",
     "output_type": "stream",
     "text": [
      "Division of n1 and n2:  1.43\n",
      "Division of n1 and n3:  1.63\n",
      "Division of n1 and n4:  2.28\n",
      "Division of n2 and n3:  1.14\n",
      "Division of n3 and n4:  1.4\n",
      "Division of n2 and n4:  1.6\n"
     ]
    }
   ],
   "source": [
    "print(\"Division of n1 and n2: \",round((n1/n2),2))\n",
    "print(\"Division of n1 and n3: \",round((n1/n3),2))\n",
    "print(\"Division of n1 and n4: \",round((n1/n4),3))\n",
    "print(\"Division of n2 and n3: \",round((n2/n3),2))\n",
    "print(\"Division of n3 and n4: \",round((n3/n4),4))\n",
    "print(\"Division of n2 and n4: \",round((n2/n4),3))"
   ]
  },
  {
   "cell_type": "code",
   "execution_count": 6,
   "id": "10d782dc",
   "metadata": {},
   "outputs": [
    {
     "name": "stdout",
     "output_type": "stream",
     "text": [
      "Reminder of n1 and n2:  17\n",
      "Reminder of n1 and n3:  22\n",
      "Reminder of n1 and n4:  7\n",
      "Reminder of n2 and n3:  5\n",
      "Reminder of n3 and n4:  10\n",
      "Reminder of n2 and n4:  15\n"
     ]
    }
   ],
   "source": [
    "print(\"Reminder of n1 and n2: \",n1%n2)\n",
    "print(\"Reminder of n1 and n3: \",n1%n3)\n",
    "print(\"Reminder of n1 and n4: \",n1%n4)\n",
    "print(\"Reminder of n2 and n3: \",n2%n3)\n",
    "print(\"Reminder of n3 and n4: \",n3%n4)\n",
    "print(\"Reminder of n2 and n4: \",n2%n4)"
   ]
  },
  {
   "cell_type": "code",
   "execution_count": 7,
   "id": "f188a362",
   "metadata": {},
   "outputs": [
    {
     "name": "stdout",
     "output_type": "stream",
     "text": [
      "Average of n1, n2, n3 and n4:  39.25\n"
     ]
    }
   ],
   "source": [
    "print(\"Average of n1, n2, n3 and n4: \",(n1+n2+n3+n4)/4)"
   ]
  },
  {
   "cell_type": "code",
   "execution_count": 8,
   "id": "62b419c2",
   "metadata": {},
   "outputs": [
    {
     "name": "stdout",
     "output_type": "stream",
     "text": [
      "Percentage of n1, n2, n3 and n4:  39.25 %\n"
     ]
    }
   ],
   "source": [
    "print(\"Percentage of n1, n2, n3 and n4: \",(n1+n2+n3+n4)*100/400,'%')"
   ]
  },
  {
   "cell_type": "code",
   "execution_count": null,
   "id": "d5d35d9a",
   "metadata": {},
   "outputs": [],
   "source": []
  }
 ],
 "metadata": {
  "kernelspec": {
   "display_name": "Python 3 (ipykernel)",
   "language": "python",
   "name": "python3"
  },
  "language_info": {
   "codemirror_mode": {
    "name": "ipython",
    "version": 3
   },
   "file_extension": ".py",
   "mimetype": "text/x-python",
   "name": "python",
   "nbconvert_exporter": "python",
   "pygments_lexer": "ipython3",
   "version": "3.9.12"
  }
 },
 "nbformat": 4,
 "nbformat_minor": 5
}
