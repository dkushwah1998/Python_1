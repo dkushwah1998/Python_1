{
 "cells": [
  {
   "cell_type": "code",
   "execution_count": 6,
   "id": "a8624f07",
   "metadata": {},
   "outputs": [
    {
     "name": "stdout",
     "output_type": "stream",
     "text": [
      "False\n",
      "True\n"
     ]
    }
   ],
   "source": [
    "def vowel(char):\n",
    "    all_vowel = \"aeiou\"\n",
    "    return char in all_vowel\n",
    "print(vowel('c'))\n",
    "print(vowel('a'))\n"
   ]
  },
  {
   "cell_type": "code",
   "execution_count": 24,
   "id": "4256fa02",
   "metadata": {},
   "outputs": [
    {
     "name": "stdout",
     "output_type": "stream",
     "text": [
      "**\n",
      "***\n",
      "******\n",
      "*****\n"
     ]
    }
   ],
   "source": [
    "def histogram(items):\n",
    "    for n in items:\n",
    "        output = ''\n",
    "        times = n\n",
    "        while(times > 0):\n",
    "          output += '*'\n",
    "          times = times - 1\n",
    "        print(output)\n",
    "\n",
    "histogram([2, 3, 6, 5])"
   ]
  },
  {
   "cell_type": "code",
   "execution_count": 27,
   "id": "41de75d3",
   "metadata": {},
   "outputs": [
    {
     "name": "stdout",
     "output_type": "stream",
     "text": [
      "****\n",
      "******\n",
      "********\n",
      "*******\n",
      "**\n",
      "*****\n",
      "*********\n",
      "*******\n",
      "**************************************************************************************************\n",
      "******************************************************\n",
      "********\n",
      "****\n",
      "****\n"
     ]
    }
   ],
   "source": [
    "def histogram(items):\n",
    "    for n in items:\n",
    "        output = ''\n",
    "        times = n\n",
    "        while(times > 0):\n",
    "            output += '*'\n",
    "            times = times-1\n",
    "        print(output)\n",
    "        \n",
    "histogram([4,6,8,7,2,5,9,7,98,54,8,4,4])"
   ]
  },
  {
   "cell_type": "code",
   "execution_count": 38,
   "id": "43cd4a48",
   "metadata": {},
   "outputs": [
    {
     "name": "stdout",
     "output_type": "stream",
     "text": [
      "12\n",
      "14\n",
      "16\n",
      "18\n",
      "48\n",
      "54\n",
      "548\n",
      "15614\n",
      "4546\n",
      "414\n",
      "237\n"
     ]
    }
   ],
   "source": [
    "numbers = [12,14,15,16,18,25,27,48,25,49,54,87,548,15614,1,1,51,1,1,1,51,4546,414,5,65,5,237,41,4,145,14,124,3]\n",
    "for x in numbers:\n",
    "    if x == 237:\n",
    "        print(x)\n",
    "        break;\n",
    "    elif x%2 == 0:\n",
    "        print(x)\n",
    "\n",
    "    \n",
    "    \n"
   ]
  },
  {
   "cell_type": "code",
   "execution_count": 40,
   "id": "8759e6ef",
   "metadata": {},
   "outputs": [
    {
     "name": "stdout",
     "output_type": "stream",
     "text": [
      "Enter base of triangle: 10\n",
      "Enter height of tringle: 5\n",
      "Area of triagle is:  25.0\n"
     ]
    }
   ],
   "source": [
    "base = int(input(\"Enter base of triangle: \"))\n",
    "Height = int(input(\"Enter height of tringle: \"))\n",
    "area = base*Height/2\n",
    "print(\"Area of triagle is: \", area)"
   ]
  },
  {
   "cell_type": "code",
   "execution_count": null,
   "id": "c4c6eb93",
   "metadata": {},
   "outputs": [],
   "source": [
    "a = int(input(\"first number: \"))\n",
    "b = int(input(\"second number: \"))\n"
   ]
  }
 ],
 "metadata": {
  "kernelspec": {
   "display_name": "Python 3 (ipykernel)",
   "language": "python",
   "name": "python3"
  },
  "language_info": {
   "codemirror_mode": {
    "name": "ipython",
    "version": 3
   },
   "file_extension": ".py",
   "mimetype": "text/x-python",
   "name": "python",
   "nbconvert_exporter": "python",
   "pygments_lexer": "ipython3",
   "version": "3.9.7"
  }
 },
 "nbformat": 4,
 "nbformat_minor": 5
}
