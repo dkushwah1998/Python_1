{
 "cells": [
  {
   "cell_type": "code",
   "execution_count": 1,
   "id": "3a7b93e7",
   "metadata": {},
   "outputs": [
    {
     "name": "stdout",
     "output_type": "stream",
     "text": [
      "24\n",
      "24\n"
     ]
    }
   ],
   "source": [
    "tuple1 = (5,6,8,5)\n",
    "n1,n2,n3,n4 = tuple1\n",
    "print(n1+n2+n3+n4)\n",
    "print(sum(tuple1))\n"
   ]
  },
  {
   "cell_type": "code",
   "execution_count": 2,
   "id": "79927239",
   "metadata": {},
   "outputs": [
    {
     "data": {
      "text/plain": [
       "4"
      ]
     },
     "execution_count": 2,
     "metadata": {},
     "output_type": "execute_result"
    }
   ],
   "source": [
    "t = (1,4,5,7,5)\n",
    "t[1]"
   ]
  },
  {
   "cell_type": "code",
   "execution_count": 9,
   "id": "d84ddfe1",
   "metadata": {},
   "outputs": [
    {
     "name": "stdout",
     "output_type": "stream",
     "text": [
      "(1, 4, 5, 7, 5, 5, 5)\n",
      "(1, 4, 4, 6, 2, 0, 5, 7, 5, 5, 5)\n",
      "(1, 4, 4, 6, 2, 0, 5, 7, 5, 5, 5, 45)\n"
     ]
    }
   ],
   "source": [
    "t = t + (5,)\n",
    "print(t)\n",
    "t = t[:2] +(4,6,2,0,) +t[2:]\n",
    "print(t)\n",
    "l = list(t)\n",
    "l.append(45)\n",
    "t = tuple(l)\n",
    "print(t)"
   ]
  },
  {
   "cell_type": "code",
   "execution_count": 10,
   "id": "6ae3da08",
   "metadata": {},
   "outputs": [
    {
     "name": "stdout",
     "output_type": "stream",
     "text": [
      "(1, 4, 4, 6, 2, 0, 5, 7, 5, 5, 5, 45)\n"
     ]
    }
   ],
   "source": [
    "s = str(t)\n",
    "print(s)\n"
   ]
  },
  {
   "cell_type": "code",
   "execution_count": 11,
   "id": "481ee0fe",
   "metadata": {},
   "outputs": [
    {
     "data": {
      "text/plain": [
       "str"
      ]
     },
     "execution_count": 11,
     "metadata": {},
     "output_type": "execute_result"
    }
   ],
   "source": [
    "type(s)"
   ]
  },
  {
   "cell_type": "code",
   "execution_count": 18,
   "id": "3b7b16a9",
   "metadata": {},
   "outputs": [
    {
     "name": "stdout",
     "output_type": "stream",
     "text": [
      "('D', 'h', 'a', 'r', 'm', 'e', 'n', 'd', 'r', 'a')\n"
     ]
    }
   ],
   "source": [
    "t =  ('D','h','a','r','m','e','n','d','r','a')\n",
    "\n",
    "print(t)"
   ]
  },
  {
   "cell_type": "code",
   "execution_count": 20,
   "id": "0f281578",
   "metadata": {},
   "outputs": [
    {
     "name": "stdout",
     "output_type": "stream",
     "text": [
      "Dharmendra\n"
     ]
    }
   ],
   "source": [
    "s = ''.join(t)\n",
    "print(s)\n"
   ]
  },
  {
   "cell_type": "code",
   "execution_count": 21,
   "id": "600315f4",
   "metadata": {},
   "outputs": [
    {
     "name": "stdout",
     "output_type": "stream",
     "text": [
      "('D', 'h', 'a', 'r', 'e', 'n', 'd', 'r', 'a')\n"
     ]
    }
   ],
   "source": [
    "t = t[:4]+t[5:]\n",
    "print(t)"
   ]
  },
  {
   "cell_type": "code",
   "execution_count": 22,
   "id": "84a441fb",
   "metadata": {},
   "outputs": [
    {
     "name": "stdout",
     "output_type": "stream",
     "text": [
      "('D', 'h', 'a', 'r', 'n', 'd', 'r', 'a')\n"
     ]
    }
   ],
   "source": [
    "l = list(t)\n",
    "l.remove('e')\n",
    "t = tuple(l)\n",
    "print(t)"
   ]
  },
  {
   "cell_type": "code",
   "execution_count": 23,
   "id": "055cf859",
   "metadata": {},
   "outputs": [
    {
     "data": {
      "text/plain": [
       "8"
      ]
     },
     "execution_count": 23,
     "metadata": {},
     "output_type": "execute_result"
    }
   ],
   "source": [
    "len(t)"
   ]
  },
  {
   "cell_type": "code",
   "execution_count": null,
   "id": "e08fcf2f",
   "metadata": {},
   "outputs": [],
   "source": []
  }
 ],
 "metadata": {
  "kernelspec": {
   "display_name": "Python 3 (ipykernel)",
   "language": "python",
   "name": "python3"
  },
  "language_info": {
   "codemirror_mode": {
    "name": "ipython",
    "version": 3
   },
   "file_extension": ".py",
   "mimetype": "text/x-python",
   "name": "python",
   "nbconvert_exporter": "python",
   "pygments_lexer": "ipython3",
   "version": "3.9.12"
  }
 },
 "nbformat": 4,
 "nbformat_minor": 5
}
