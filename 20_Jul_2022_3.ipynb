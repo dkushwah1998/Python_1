{
 "cells": [
  {
   "cell_type": "markdown",
   "id": "938aca73",
   "metadata": {},
   "source": [
    "# Descriptive Statistics\n",
    "Case Study: Descriptive Analysis of Super Market Data \n",
    "In this case study, you will perform simple descriptive analysis on data."
   ]
  },
  {
   "cell_type": "code",
   "execution_count": 1,
   "id": "683ab2b5",
   "metadata": {},
   "outputs": [],
   "source": [
    "import numpy as np\n",
    "import pandas as pd\n",
    "import scipy.stats"
   ]
  },
  {
   "cell_type": "code",
   "execution_count": 3,
   "id": "c623d41b",
   "metadata": {},
   "outputs": [],
   "source": [
    "df = pd.read_csv(\"C:/Users/HP/Desktop/Demos Files/Day 9 - Demos/supermarket.csv\")"
   ]
  },
  {
   "cell_type": "code",
   "execution_count": 4,
   "id": "544159e9",
   "metadata": {},
   "outputs": [
    {
     "data": {
      "text/html": [
       "<div>\n",
       "<style scoped>\n",
       "    .dataframe tbody tr th:only-of-type {\n",
       "        vertical-align: middle;\n",
       "    }\n",
       "\n",
       "    .dataframe tbody tr th {\n",
       "        vertical-align: top;\n",
       "    }\n",
       "\n",
       "    .dataframe thead th {\n",
       "        text-align: right;\n",
       "    }\n",
       "</style>\n",
       "<table border=\"1\" class=\"dataframe\">\n",
       "  <thead>\n",
       "    <tr style=\"text-align: right;\">\n",
       "      <th></th>\n",
       "      <th>ProductCode</th>\n",
       "      <th>Date</th>\n",
       "      <th>Amount</th>\n",
       "      <th>Received Cash</th>\n",
       "      <th>CashierName</th>\n",
       "    </tr>\n",
       "  </thead>\n",
       "  <tbody>\n",
       "    <tr>\n",
       "      <th>0</th>\n",
       "      <td>LBVT18010004435</td>\n",
       "      <td>01-05-2018 12:36</td>\n",
       "      <td>1121.20</td>\n",
       "      <td>1121.20</td>\n",
       "      <td>MAYTE</td>\n",
       "    </tr>\n",
       "    <tr>\n",
       "      <th>1</th>\n",
       "      <td>LBVT18010004436</td>\n",
       "      <td>01-05-2018 12:37</td>\n",
       "      <td>18.50</td>\n",
       "      <td>20.00</td>\n",
       "      <td>MAYTE</td>\n",
       "    </tr>\n",
       "    <tr>\n",
       "      <th>2</th>\n",
       "      <td>LBVT18010004437</td>\n",
       "      <td>01-05-2018 12:38</td>\n",
       "      <td>160.00</td>\n",
       "      <td>200.00</td>\n",
       "      <td>MAYTE</td>\n",
       "    </tr>\n",
       "    <tr>\n",
       "      <th>3</th>\n",
       "      <td>LBVT18010004438</td>\n",
       "      <td>01-05-2018 12:47</td>\n",
       "      <td>397.50</td>\n",
       "      <td>397.50</td>\n",
       "      <td>MAYTE</td>\n",
       "    </tr>\n",
       "    <tr>\n",
       "      <th>4</th>\n",
       "      <td>LBVT18010004439</td>\n",
       "      <td>01-05-2018 12:48</td>\n",
       "      <td>22.00</td>\n",
       "      <td>50.00</td>\n",
       "      <td>MAYTE</td>\n",
       "    </tr>\n",
       "    <tr>\n",
       "      <th>...</th>\n",
       "      <td>...</td>\n",
       "      <td>...</td>\n",
       "      <td>...</td>\n",
       "      <td>...</td>\n",
       "      <td>...</td>\n",
       "    </tr>\n",
       "    <tr>\n",
       "      <th>84876</th>\n",
       "      <td>LBVT18070002269</td>\n",
       "      <td>31-08-2018 17:03</td>\n",
       "      <td>16.32</td>\n",
       "      <td>16.32</td>\n",
       "      <td>JAQUELINE</td>\n",
       "    </tr>\n",
       "    <tr>\n",
       "      <th>84877</th>\n",
       "      <td>LBVT18070002270</td>\n",
       "      <td>31-08-2018 17:04</td>\n",
       "      <td>28.32</td>\n",
       "      <td>28.32</td>\n",
       "      <td>JAQUELINE</td>\n",
       "    </tr>\n",
       "    <tr>\n",
       "      <th>84878</th>\n",
       "      <td>LBVT18070002271</td>\n",
       "      <td>31-08-2018 17:06</td>\n",
       "      <td>21.36</td>\n",
       "      <td>50.00</td>\n",
       "      <td>JAQUELINE</td>\n",
       "    </tr>\n",
       "    <tr>\n",
       "      <th>84879</th>\n",
       "      <td>LBVT18070002272</td>\n",
       "      <td>31-08-2018 17:27</td>\n",
       "      <td>50.00</td>\n",
       "      <td>50.00</td>\n",
       "      <td>JAQUELINE</td>\n",
       "    </tr>\n",
       "    <tr>\n",
       "      <th>84880</th>\n",
       "      <td>LBVT18070002273</td>\n",
       "      <td>31-08-2018 17:36</td>\n",
       "      <td>30.14</td>\n",
       "      <td>50.00</td>\n",
       "      <td>JAQUELINE</td>\n",
       "    </tr>\n",
       "  </tbody>\n",
       "</table>\n",
       "<p>84881 rows × 5 columns</p>\n",
       "</div>"
      ],
      "text/plain": [
       "           ProductCode              Date   Amount  Received Cash CashierName\n",
       "0      LBVT18010004435  01-05-2018 12:36  1121.20        1121.20       MAYTE\n",
       "1      LBVT18010004436  01-05-2018 12:37    18.50          20.00       MAYTE\n",
       "2      LBVT18010004437  01-05-2018 12:38   160.00         200.00       MAYTE\n",
       "3      LBVT18010004438  01-05-2018 12:47   397.50         397.50       MAYTE\n",
       "4      LBVT18010004439  01-05-2018 12:48    22.00          50.00       MAYTE\n",
       "...                ...               ...      ...            ...         ...\n",
       "84876  LBVT18070002269  31-08-2018 17:03    16.32          16.32   JAQUELINE\n",
       "84877  LBVT18070002270  31-08-2018 17:04    28.32          28.32   JAQUELINE\n",
       "84878  LBVT18070002271  31-08-2018 17:06    21.36          50.00   JAQUELINE\n",
       "84879  LBVT18070002272  31-08-2018 17:27    50.00          50.00   JAQUELINE\n",
       "84880  LBVT18070002273  31-08-2018 17:36    30.14          50.00   JAQUELINE\n",
       "\n",
       "[84881 rows x 5 columns]"
      ]
     },
     "execution_count": 4,
     "metadata": {},
     "output_type": "execute_result"
    }
   ],
   "source": [
    "df"
   ]
  },
  {
   "cell_type": "code",
   "execution_count": 5,
   "id": "3b34dff1",
   "metadata": {},
   "outputs": [
    {
     "name": "stdout",
     "output_type": "stream",
     "text": [
      "Mean od Amount:  189.78\n",
      "Median of Amount:  95.0\n"
     ]
    }
   ],
   "source": [
    "## Central tendancy\n",
    "print(\"Mean od Amount: \", round(df.Amount.mean(),2))\n",
    "print(\"Median of Amount: \", round(df.Amount.median(),2))"
   ]
  },
  {
   "cell_type": "code",
   "execution_count": 6,
   "id": "b3977e2d",
   "metadata": {},
   "outputs": [
    {
     "name": "stdout",
     "output_type": "stream",
     "text": [
      "Range of Amount:  15036.8\n",
      "IQR of Amount:  189.7\n",
      "Standard Deviation:  284\n",
      "Variance:  80674\n"
     ]
    }
   ],
   "source": [
    "## Measure of dispersion\n",
    "print(\"Range of Amount: \", np.ptp(df.Amount, axis = 0))\n",
    "from scipy.stats import iqr\n",
    "print(\"IQR of Amount: \", iqr(df.Amount, axis = 0))\n",
    "print(\"Standard Deviation: \",round(np.std(df.Amount, axis = 0)))\n",
    "print(\"Variance: \", round(np.var(df.Amount, axis = 0)))"
   ]
  },
  {
   "cell_type": "code",
   "execution_count": 11,
   "id": "31ba161c",
   "metadata": {},
   "outputs": [
    {
     "name": "stdout",
     "output_type": "stream",
     "text": [
      "20th percentile:  30.0\n",
      "3rd Quartile:  227.7\n",
      "zscore for all value in Amount 0        3.279287\n",
      "1       -0.603037\n",
      "2       -0.104852\n",
      "3        0.731325\n",
      "4       -0.590714\n",
      "           ...   \n",
      "84876   -0.610712\n",
      "84877   -0.568463\n",
      "84878   -0.592967\n",
      "84879   -0.492133\n",
      "84880   -0.562055\n",
      "Name: Amount, Length: 84881, dtype: float64\n"
     ]
    }
   ],
   "source": [
    "### Measure of position\n",
    "print(\"20th percentile: \",np.percentile(df.Amount, 20, axis = 0))\n",
    "print(\"3rd Quartile: \", df.Amount.quantile(0.75))\n",
    "from scipy.stats import zscore\n",
    "print(\"zscore for all value in Amount\", zscore(df.Amount))"
   ]
  },
  {
   "cell_type": "code",
   "execution_count": null,
   "id": "ecdb3763",
   "metadata": {},
   "outputs": [],
   "source": []
  }
 ],
 "metadata": {
  "kernelspec": {
   "display_name": "Python 3 (ipykernel)",
   "language": "python",
   "name": "python3"
  },
  "language_info": {
   "codemirror_mode": {
    "name": "ipython",
    "version": 3
   },
   "file_extension": ".py",
   "mimetype": "text/x-python",
   "name": "python",
   "nbconvert_exporter": "python",
   "pygments_lexer": "ipython3",
   "version": "3.9.12"
  }
 },
 "nbformat": 4,
 "nbformat_minor": 5
}
