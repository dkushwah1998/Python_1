{
 "cells": [
  {
   "cell_type": "code",
   "execution_count": 15,
   "id": "15452a86",
   "metadata": {},
   "outputs": [
    {
     "name": "stdout",
     "output_type": "stream",
     "text": [
      "6.082762530298219\n"
     ]
    }
   ],
   "source": [
    "import math\n",
    "p1 = [2,5]\n",
    "p2 = [8,4]\n",
    "distance = math.sqrt((p1[0]-p2[0])**2 + (p1[1]-p2[1])**2)\n",
    "print(distance)"
   ]
  },
  {
   "cell_type": "code",
   "execution_count": 18,
   "id": "f01eaa92",
   "metadata": {},
   "outputs": [
    {
     "name": "stdout",
     "output_type": "stream",
     "text": [
      "3.1622776601683795\n"
     ]
    }
   ],
   "source": [
    "p1 = [5,5]\n",
    "p2 = [8,4]\n",
    "distance = (((p1[0]-p2[0])**2 + (p1[1]-p2[1])**2))**(1/2)\n",
    "print(distance)\n"
   ]
  },
  {
   "cell_type": "code",
   "execution_count": 26,
   "id": "b43631c9",
   "metadata": {},
   "outputs": [
    {
     "name": "stdout",
     "output_type": "stream",
     "text": [
      "True\n",
      "False\n",
      "False\n"
     ]
    }
   ],
   "source": [
    "import os.path\n",
    "print(os.path.isfile('1.ipynb'))\n",
    "print(os.path.isfile('ebudhbuhf.pdf'))\n",
    "print(os.path.isfile('Dharmendra kushwah.pdf'))"
   ]
  },
  {
   "cell_type": "code",
   "execution_count": 27,
   "id": "2307602a",
   "metadata": {},
   "outputs": [
    {
     "name": "stdout",
     "output_type": "stream",
     "text": [
      "64\n"
     ]
    }
   ],
   "source": [
    "import struct\n",
    "print(struct.calcsize(\"P\") * 8)"
   ]
  },
  {
   "cell_type": "code",
   "execution_count": 28,
   "id": "11f02363",
   "metadata": {},
   "outputs": [
    {
     "name": "stdout",
     "output_type": "stream",
     "text": [
      "Name of the operating system: nt\n",
      "\n",
      "Name of the OS system: Windows\n",
      "\n",
      "Version of the operating system: 10\n"
     ]
    }
   ],
   "source": [
    "import platform\n",
    "import os\n",
    "print(\"Name of the operating system:\",os.name)\n",
    "print(\"\\nName of the OS system:\",platform.system())\n",
    "print(\"\\nVersion of the operating system:\",platform.release())"
   ]
  },
  {
   "cell_type": "code",
   "execution_count": 30,
   "id": "c2cec612",
   "metadata": {},
   "outputs": [
    {
     "name": "stdout",
     "output_type": "stream",
     "text": [
      "**********"
     ]
    }
   ],
   "source": [
    "for i in range(0, 10):\n",
    "    print('*', end=\"\")\n"
   ]
  },
  {
   "cell_type": "code",
   "execution_count": 31,
   "id": "068bd9db",
   "metadata": {},
   "outputs": [
    {
     "name": "stdout",
     "output_type": "stream",
     "text": [
      "enter your height in feet: 5\n",
      "Enter your height in inch: 4\n",
      "Height in cm:  162.56\n"
     ]
    }
   ],
   "source": [
    "h_ft = int(input(\"enter your height in feet: \"))\n",
    "h_in = int(input(\"Enter your height in inch: \"))\n",
    "h_in += h_ft*12\n",
    "h_cm = h_in*2.54\n",
    "print(\"Height in cm: \", h_cm)"
   ]
  },
  {
   "cell_type": "code",
   "execution_count": 33,
   "id": "831fee13",
   "metadata": {},
   "outputs": [
    {
     "name": "stdout",
     "output_type": "stream",
     "text": [
      "Enter time in seconds: 14215\n",
      "Day:Hours:Minutes:Seconds  0 : 3 : 56 : 55\n"
     ]
    }
   ],
   "source": [
    "time = int(input(\"Enter time in seconds: \"))\n",
    "day = time//(24*3600)\n",
    "time = time%(24*3600)\n",
    "hour = time//3600\n",
    "time = time%3600\n",
    "minute = time//60\n",
    "time = time%60\n",
    "seconds = time\n",
    "print(\"Day:Hours:Minutes:Seconds \",day, \":\",hour,\":\",minute,\":\",seconds)\n",
    "    "
   ]
  },
  {
   "cell_type": "code",
   "execution_count": 35,
   "id": "7542da09",
   "metadata": {},
   "outputs": [
    {
     "name": "stdout",
     "output_type": "stream",
     "text": [
      "Input your height in meter: 1.62\n",
      "Input your weight in Kilogram: 63\n",
      "Your body mass index is:  24.01\n"
     ]
    }
   ],
   "source": [
    "height = float(input(\"Input your height in meter: \"))\n",
    "weight = float(input(\"Input your weight in Kilogram: \"))\n",
    "print(\"Your body mass index is: \", round(weight / (height * height), 2))"
   ]
  },
  {
   "cell_type": "code",
   "execution_count": 53,
   "id": "5caae27d",
   "metadata": {},
   "outputs": [
    {
     "name": "stdout",
     "output_type": "stream",
     "text": [
      "0.0\n",
      "50.0\n",
      "100.0\n",
      "150.0\n",
      "200.0\n",
      "250.0\n"
     ]
    }
   ],
   "source": [
    "def fun_(r,n,p):\n",
    "    for n in range(0,n,1):\n",
    "        amount = p*n*r/100\n",
    "        print(amount)\n",
    "fun_(5,6,1000)"
   ]
  },
  {
   "cell_type": "code",
   "execution_count": 9,
   "id": "cbc27a75",
   "metadata": {},
   "outputs": [
    {
     "name": "stdout",
     "output_type": "stream",
     "text": [
      "Enter a number: 10000\n"
     ]
    },
    {
     "data": {
      "text/plain": [
       "50005000.0"
      ]
     },
     "execution_count": 9,
     "metadata": {},
     "output_type": "execute_result"
    }
   ],
   "source": [
    "\n",
    "def sum(n):\n",
    "    for i in range(1, n+1):\n",
    "        n = int(input(\"Enter a number: \"))\n",
    "        sum = n*(n+1)/2\n",
    "        return sum\n",
    "sum(n)\n"
   ]
  },
  {
   "cell_type": "code",
   "execution_count": 14,
   "id": "cec68ea6",
   "metadata": {},
   "outputs": [
    {
     "name": "stdout",
     "output_type": "stream",
     "text": [
      "[25, 150]\n",
      "25\n",
      "150\n"
     ]
    }
   ],
   "source": [
    "ad = lambda x,y: [(x+y), (x*y)]\n",
    "l = ad(15,10)\n",
    "print(l)\n",
    "for i in l:\n",
    "    print(i)"
   ]
  },
  {
   "cell_type": "code",
   "execution_count": 19,
   "id": "0ef9bcef",
   "metadata": {},
   "outputs": [
    {
     "name": "stdout",
     "output_type": "stream",
     "text": [
      "25\n",
      "48\n"
     ]
    }
   ],
   "source": [
    "add = lambda x: (x+15)\n",
    "print(add(10))\n",
    "prod = lambda a, b: (a*b)\n",
    "print(prod(6,8))"
   ]
  },
  {
   "cell_type": "code",
   "execution_count": 24,
   "id": "d78d5d4f",
   "metadata": {},
   "outputs": [
    {
     "name": "stdout",
     "output_type": "stream",
     "text": [
      "double of 15:  30\n",
      "tripple of 15:  45\n"
     ]
    }
   ],
   "source": [
    "def fun(n):\n",
    "    return lambda x: x*n\n",
    "result = fun(2)\n",
    "print(\"double of 15: \", result(15))\n",
    "result = fun(3)\n",
    "print(\"tripple of 15: \", result(15))"
   ]
  },
  {
   "cell_type": "code",
   "execution_count": 29,
   "id": "1120858a",
   "metadata": {},
   "outputs": [
    {
     "name": "stdout",
     "output_type": "stream",
     "text": [
      "Orginal list of tupple: \n",
      " [('English', 88), ('Science', 90), ('Maths', 97), ('Social sciences', 82)]\n",
      "\n",
      " [('Social sciences', 82), ('English', 88), ('Science', 90), ('Maths', 97)]\n"
     ]
    }
   ],
   "source": [
    "subject_marks = [('English', 88), ('Science', 90), ('Maths', 97), ('Social sciences', 82)]\n",
    "print(\"Orginal list of tupple: \\n\",subject_marks)\n",
    "subject_marks.sort(key = lambda x: x[1])\n",
    "print(\"\\n\", subject_marks)"
   ]
  },
  {
   "cell_type": "code",
   "execution_count": 35,
   "id": "ed271826",
   "metadata": {},
   "outputs": [
    {
     "name": "stdout",
     "output_type": "stream",
     "text": [
      "orginal list of dictionary: \n",
      " [{'make': 'Nokia', 'model': 216, 'color': 'Black'}, {'make': 'Mi Max', 'model': '2', 'color': 'Gold'}, {'make': 'Samsung', 'model': 7, 'color': 'Blue'}]\n",
      "[{'make': 'Nokia', 'model': 216, 'color': 'Black'}, {'make': 'Mi Max', 'model': '2', 'color': 'Gold'}, {'make': 'Samsung', 'model': 7, 'color': 'Blue'}]\n",
      "[{'make': 'Nokia', 'model': 216, 'color': 'Black'}, {'make': 'Mi Max', 'model': '2', 'color': 'Gold'}, {'make': 'Samsung', 'model': 7, 'color': 'Blue'}]\n"
     ]
    }
   ],
   "source": [
    "mobile_inf = [{'make': 'Nokia', 'model': 216, 'color': 'Black'}, {'make': 'Mi Max', 'model': '2', 'color': 'Gold'}, {'make': 'Samsung', 'model': 7, 'color': 'Blue'}]\n",
    "print(\"orginal list of dictionary: \\n\", mobile_inf)\n",
    "sorted(mobile_inf, key = lambda x: x['color'])\n",
    "print(mobile_inf)\n",
    "sorted(mobile_inf, key = lambda x: x['make'])\n",
    "print(mobile_inf)"
   ]
  },
  {
   "cell_type": "code",
   "execution_count": 42,
   "id": "c3a2f500",
   "metadata": {},
   "outputs": [
    {
     "name": "stdout",
     "output_type": "stream",
     "text": [
      "orginal list: \n",
      " [1, 2, 3, 4, 5, 6, 7, 8, 9, 10]\n",
      "Even numbers:\n",
      " [2, 4, 6, 8, 10]\n",
      "odd number:\n",
      " [1, 3, 5, 7, 9]\n"
     ]
    }
   ],
   "source": [
    "l = [1, 2, 3, 4, 5, 6, 7, 8, 9, 10]\n",
    "print('orginal list: \\n', l)\n",
    "even = list(filter(lambda x: x%2 == 0, l))\n",
    "print(\"Even numbers:\\n\", even)\n",
    "odd = list(filter(lambda x:x%2 != 0, l))\n",
    "print(\"odd number:\\n\", odd)"
   ]
  },
  {
   "cell_type": "code",
   "execution_count": 47,
   "id": "faa14a15",
   "metadata": {},
   "outputs": [
    {
     "name": "stdout",
     "output_type": "stream",
     "text": [
      "Orginal list:\n",
      " [1, 2, 3, 4, 5, 6, 7, 8, 9, 10]\n",
      "square of mumber in list:\n",
      " [1, 4, 9, 16, 25, 36, 49, 64, 81, 100]\n",
      "cube of number in list:\n",
      " [1, 8, 27, 64, 125, 216, 343, 512, 729, 1000]\n"
     ]
    }
   ],
   "source": [
    "l = [1, 2, 3, 4, 5, 6, 7, 8, 9, 10]\n",
    "print(\"Orginal list:\\n\", l)\n",
    "square = list(map(lambda x: x**2, l))\n",
    "print(\"square of mumber in list:\\n\", square)\n",
    "cube = list(map(lambda x: x**3, l))\n",
    "print(\"cube of number in list:\\n\", cube)"
   ]
  },
  {
   "cell_type": "code",
   "execution_count": 50,
   "id": "2f487f5f",
   "metadata": {},
   "outputs": [
    {
     "name": "stdout",
     "output_type": "stream",
     "text": [
      "True\n",
      "False\n"
     ]
    }
   ],
   "source": [
    "start_with = lambda x: True if x.startswith('p') else False\n",
    "print(start_with(\"python\"))\n",
    "start_with = lambda x: True if x.startswith('p') else False\n",
    "print(start_with(\"Dharmendra\"))"
   ]
  },
  {
   "cell_type": "code",
   "execution_count": 57,
   "id": "febdc010",
   "metadata": {},
   "outputs": [
    {
     "name": "stdout",
     "output_type": "stream",
     "text": [
      "\n",
      " 2022 \n",
      " 6 \n",
      " 15\n",
      "15:46:03.137337\n"
     ]
    }
   ],
   "source": [
    "\n",
    "from datetime import datetime\n",
    "now = datetime.now()\n",
    "year = lambda x: x.year\n",
    "month = lambda x: x.month\n",
    "day = lambda x: x.day\n",
    "time = lambda x: x.time()\n",
    "print(\"\\n\",year(now),\"\\n\",month(now),\"\\n\",day(now))\n",
    "print(time(now))"
   ]
  },
  {
   "cell_type": "code",
   "execution_count": null,
   "id": "0e1610a9",
   "metadata": {},
   "outputs": [],
   "source": []
  },
  {
   "cell_type": "code",
   "execution_count": null,
   "id": "00f96c11",
   "metadata": {},
   "outputs": [],
   "source": []
  }
 ],
 "metadata": {
  "kernelspec": {
   "display_name": "Python 3 (ipykernel)",
   "language": "python",
   "name": "python3"
  },
  "language_info": {
   "codemirror_mode": {
    "name": "ipython",
    "version": 3
   },
   "file_extension": ".py",
   "mimetype": "text/x-python",
   "name": "python",
   "nbconvert_exporter": "python",
   "pygments_lexer": "ipython3",
   "version": "3.9.7"
  }
 },
 "nbformat": 4,
 "nbformat_minor": 5
}
