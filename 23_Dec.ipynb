{
 "cells": [
  {
   "cell_type": "code",
   "execution_count": 3,
   "id": "37bf52f0",
   "metadata": {},
   "outputs": [
    {
     "name": "stdout",
     "output_type": "stream",
     "text": [
      "8\n",
      "1\n"
     ]
    }
   ],
   "source": [
    "#HCF\n",
    "def hcf(a,b):\n",
    "    hcf=1\n",
    "    if a%b==0:\n",
    "        return b\n",
    "    for k in range(b,0,-1):\n",
    "        if a%k==0 and b%k==0:\n",
    "            hcf = k\n",
    "            break\n",
    "    return hcf\n",
    "print(hcf(24,64))\n",
    "print(hcf(65,58))\n",
    "\n",
    "    "
   ]
  },
  {
   "cell_type": "code",
   "execution_count": 6,
   "id": "66dc979f",
   "metadata": {},
   "outputs": [
    {
     "name": "stdout",
     "output_type": "stream",
     "text": [
      "72\n",
      "200\n",
      "2340\n"
     ]
    }
   ],
   "source": [
    "def lcm(a,b):\n",
    "    lcm=1\n",
    "    if a>b:\n",
    "        c=a\n",
    "    else:\n",
    "        c=b\n",
    "    while(True):\n",
    "        if c%a==0 and c%b==0:\n",
    "            lcm=c\n",
    "            break\n",
    "        c+=1\n",
    "    return lcm\n",
    "print(lcm(24,36))\n",
    "print(lcm(25,40))\n",
    "print(lcm(65,36))"
   ]
  },
  {
   "cell_type": "code",
   "execution_count": 7,
   "id": "a4f10909",
   "metadata": {},
   "outputs": [
    {
     "name": "stdout",
     "output_type": "stream",
     "text": [
      "126\n",
      "0\n"
     ]
    }
   ],
   "source": [
    "def sum(x,y,z):\n",
    "    if x==y or y==z or x==z:\n",
    "        return 0\n",
    "    else:\n",
    "        return x+y+z\n",
    "print(sum(25,36,65))\n",
    "print(sum(2,5,2))\n"
   ]
  },
  {
   "cell_type": "code",
   "execution_count": 9,
   "id": "11a43f5e",
   "metadata": {},
   "outputs": [
    {
     "name": "stdout",
     "output_type": "stream",
     "text": [
      "90\n"
     ]
    }
   ],
   "source": [
    "def sum(a,b):\n",
    "    if 15<(a+b)<20:\n",
    "        return 20\n",
    "    else:\n",
    "        return a+b\n",
    "print(sum(25,65))"
   ]
  },
  {
   "cell_type": "code",
   "execution_count": 11,
   "id": "d4d03129",
   "metadata": {},
   "outputs": [
    {
     "name": "stdout",
     "output_type": "stream",
     "text": [
      "20\n"
     ]
    }
   ],
   "source": [
    "print(sum(8,9))"
   ]
  },
  {
   "cell_type": "code",
   "execution_count": 12,
   "id": "ed12f163",
   "metadata": {},
   "outputs": [
    {
     "name": "stdout",
     "output_type": "stream",
     "text": [
      "True\n",
      "True\n",
      "True\n",
      "False\n"
     ]
    }
   ],
   "source": [
    "def num(a,b):\n",
    "    if a==b or a+b==5 or a-b ==5 or b-a ==5:\n",
    "        return True\n",
    "    else:\n",
    "        return False\n",
    "print(num(2,3))\n",
    "print(num(8,8))\n",
    "print(num(2,7))\n",
    "print(num(56,85))"
   ]
  },
  {
   "cell_type": "code",
   "execution_count": 22,
   "id": "abc5390e",
   "metadata": {},
   "outputs": [
    {
     "name": "stdout",
     "output_type": "stream",
     "text": [
      "11\n",
      "Both numbers should be integer\n",
      "Both numbers should be integer\n"
     ]
    }
   ],
   "source": [
    "def sum(a,b):\n",
    "    if not(isinstance(a, int) and isinstance(b, int)):\n",
    "        return \"Both numbers should be integer\"\n",
    "    return a+b\n",
    "print(sum(5,6))\n",
    "print(sum(5.02,90))\n",
    "print(sum('abc',5))"
   ]
  },
  {
   "cell_type": "code",
   "execution_count": null,
   "id": "24402e98",
   "metadata": {},
   "outputs": [],
   "source": []
  },
  {
   "cell_type": "code",
   "execution_count": null,
   "id": "e3366ea0",
   "metadata": {},
   "outputs": [],
   "source": []
  }
 ],
 "metadata": {
  "kernelspec": {
   "display_name": "Python 3 (ipykernel)",
   "language": "python",
   "name": "python3"
  },
  "language_info": {
   "codemirror_mode": {
    "name": "ipython",
    "version": 3
   },
   "file_extension": ".py",
   "mimetype": "text/x-python",
   "name": "python",
   "nbconvert_exporter": "python",
   "pygments_lexer": "ipython3",
   "version": "3.9.12"
  }
 },
 "nbformat": 4,
 "nbformat_minor": 5
}
