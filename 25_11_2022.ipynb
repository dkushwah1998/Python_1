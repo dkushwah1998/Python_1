{
 "cells": [
  {
   "cell_type": "code",
   "execution_count": 4,
   "id": "d36e50c3",
   "metadata": {},
   "outputs": [
    {
     "name": "stdout",
     "output_type": "stream",
     "text": [
      "Enter height in feet: 4\n",
      "Enter height in inches: 5\n",
      "Height in cm:  10.16 152.39999999999998\n"
     ]
    }
   ],
   "source": [
    "##fEET TO CENTIMETER\n",
    "h1 = float(input(\"Enter height in feet: \"))\n",
    "h2 = float(input(\"Enter height in inches: \"))\n",
    "H1 = h1*2.54\n",
    "H2 = h2*2.54*12\n",
    "print('Height in cm: ',H1,H2)"
   ]
  },
  {
   "cell_type": "code",
   "execution_count": 6,
   "id": "fbab1f37",
   "metadata": {},
   "outputs": [
    {
     "name": "stdout",
     "output_type": "stream",
     "text": [
      "Enter perpendicular of triangle: 4\n",
      "Enter base of triangle: 3\n",
      "hypotaneous of triangle:  5.0\n"
     ]
    }
   ],
   "source": [
    "##Hypotaneous of right angle triangle\n",
    "p = int(input(\"Enter perpendicular of triangle: \"))\n",
    "b = int(input(\"Enter base of triangle: \"))\n",
    "\n",
    "import math\n",
    "\n",
    "h = math.sqrt(p**2+b**2)\n",
    "print(\"hypotaneous of triangle: \",h)"
   ]
  },
  {
   "cell_type": "code",
   "execution_count": 7,
   "id": "754b82a4",
   "metadata": {},
   "outputs": [
    {
     "name": "stdout",
     "output_type": "stream",
     "text": [
      "Enter time in hours: 5\n",
      "Enter time in minutes: 30\n",
      "Time in seconds:  19800\n"
     ]
    }
   ],
   "source": [
    "###Convert in seconds\n",
    "h = int(input(\"Enter time in hours: \"))\n",
    "m = int(input(\"Enter time in minutes: \"))\n",
    "s = h*3600+m*60\n",
    "print(\"Time in seconds: \",s)"
   ]
  },
  {
   "cell_type": "code",
   "execution_count": 12,
   "id": "22d21696",
   "metadata": {},
   "outputs": [
    {
     "name": "stdout",
     "output_type": "stream",
     "text": [
      "enter a four digit number: 4567\n",
      "sum of digits:  22\n"
     ]
    }
   ],
   "source": [
    "n = int(input(\"enter a four digit number: \"))\n",
    "x1 = n//1000\n",
    "x2 = (n-x1*1000)//100\n",
    "x3 = (n-x1*1000-x2*100)//10\n",
    "x4 = (n-x1*1000-x2*100-x3*10)\n",
    "print(\"sum of digits: \",x1+x2+x3+x4)"
   ]
  },
  {
   "cell_type": "code",
   "execution_count": 14,
   "id": "00d3eee1",
   "metadata": {},
   "outputs": [
    {
     "name": "stdout",
     "output_type": "stream",
     "text": [
      "44\n"
     ]
    }
   ],
   "source": [
    "s = [5,6,4,8,7,9,5]\n",
    "print(sum(s))"
   ]
  },
  {
   "cell_type": "code",
   "execution_count": 15,
   "id": "6f28c06f",
   "metadata": {},
   "outputs": [
    {
     "name": "stdout",
     "output_type": "stream",
     "text": [
      "20+30=50\n"
     ]
    }
   ],
   "source": [
    "x,y = 20,30\n",
    "s = x+y\n",
    "print(\"{}+{}={}\".format(x,y,s))"
   ]
  },
  {
   "cell_type": "code",
   "execution_count": 18,
   "id": "532f5dfd",
   "metadata": {},
   "outputs": [
    {
     "name": "stdout",
     "output_type": "stream",
     "text": [
      "Flase\n",
      "Flase\n",
      "Flase\n",
      "First month of year\n",
      "Flase\n",
      "Flase\n",
      "Flase\n",
      "Flase\n",
      "Flase\n",
      "Flase\n",
      "Flase\n",
      "First month of year\n",
      "Flase\n",
      "Flase\n",
      "First month of year\n"
     ]
    }
   ],
   "source": [
    "s = [2,5,4,1,6,7,8,6,12,4,5,1,5,4,1]\n",
    "for i in s:\n",
    "    if i == 1:\n",
    "        print(\"First month of year\")\n",
    "    else:\n",
    "        print(\"Flase\")"
   ]
  },
  {
   "cell_type": "code",
   "execution_count": null,
   "id": "389806bb",
   "metadata": {},
   "outputs": [],
   "source": []
  }
 ],
 "metadata": {
  "kernelspec": {
   "display_name": "Python 3 (ipykernel)",
   "language": "python",
   "name": "python3"
  },
  "language_info": {
   "codemirror_mode": {
    "name": "ipython",
    "version": 3
   },
   "file_extension": ".py",
   "mimetype": "text/x-python",
   "name": "python",
   "nbconvert_exporter": "python",
   "pygments_lexer": "ipython3",
   "version": "3.9.12"
  }
 },
 "nbformat": 4,
 "nbformat_minor": 5
}
