{
 "cells": [
  {
   "cell_type": "markdown",
   "id": "bd0e4378",
   "metadata": {},
   "source": [
    "# Problem Statement 1: Write a Python program to multiply a 𝑀 × 𝑁 matrix by 𝑁 × 𝐴 matrix and create a real matrix product."
   ]
  },
  {
   "cell_type": "code",
   "execution_count": 5,
   "id": "5852452c",
   "metadata": {},
   "outputs": [],
   "source": [
    "import numpy as np"
   ]
  },
  {
   "cell_type": "code",
   "execution_count": 6,
   "id": "aba726d3",
   "metadata": {},
   "outputs": [
    {
     "name": "stdout",
     "output_type": "stream",
     "text": [
      "First matrix:\n",
      " [[ 5. 10. 15.]\n",
      " [20. 25. 30.]\n",
      " [35. 40. 45.]\n",
      " [50. 55. 60.]]\n",
      "Second matrix:\n",
      " [[10. 16.]\n",
      " [22. 28.]\n",
      " [34. 40.]]\n"
     ]
    }
   ],
   "source": [
    "mat1 = np.linspace(5,60,12).reshape(4,3)\n",
    "print(\"First matrix:\\n\", mat1)\n",
    "mat2 = np.linspace(10,40,6).reshape(3,2)\n",
    "print(\"Second matrix:\\n\",mat2)"
   ]
  },
  {
   "cell_type": "code",
   "execution_count": 7,
   "id": "52b44c94",
   "metadata": {},
   "outputs": [
    {
     "name": "stdout",
     "output_type": "stream",
     "text": [
      "Dot Product of two Matrix:\n",
      " [[ 780.  960.]\n",
      " [1770. 2220.]\n",
      " [2760. 3480.]\n",
      " [3750. 4740.]]\n"
     ]
    }
   ],
   "source": [
    "mat3 = np.dot(mat1,mat2)\n",
    "print(\"Dot Product of two Matrix:\\n\",mat3)"
   ]
  },
  {
   "cell_type": "markdown",
   "id": "2e15ca52",
   "metadata": {},
   "source": [
    "# Problem Statement 2: Write a NumPy program to check if each element of an array of your choice is composed of digits, lower case letters, and upper case letters only.\n"
   ]
  },
  {
   "cell_type": "code",
   "execution_count": 8,
   "id": "43dbcaab",
   "metadata": {},
   "outputs": [
    {
     "name": "stdout",
     "output_type": "stream",
     "text": [
      "Orginal array:\n",
      " ['DHARMENDRA' 'PYTHON' 'edureka' '369' 'data science' '562' 'JAVA']\n"
     ]
    }
   ],
   "source": [
    "import numpy as np\n",
    "arr = np.array([\"DHARMENDRA\",\"PYTHON\",\"edureka\",\"369\",\"data science\",\"562\",\"JAVA\"])\n",
    "print(\"Orginal array:\\n\",arr)"
   ]
  },
  {
   "cell_type": "code",
   "execution_count": 9,
   "id": "f811e3ec",
   "metadata": {},
   "outputs": [
    {
     "name": "stdout",
     "output_type": "stream",
     "text": [
      "Digits Only = [False False False  True False  True False]\n",
      "Lower case only = [False False  True False  True False False]\n",
      "Upper ocase only = [ True  True False False False False  True]\n"
     ]
    }
   ],
   "source": [
    "digit_only = np.char.isdigit(arr)\n",
    "lower_only = np.char.islower(arr)\n",
    "upper_only = np.char.isupper(arr)\n",
    "print(\"Digits Only =\",digit_only)\n",
    "print(\"Lower case only =\",lower_only)\n",
    "print(\"Upper ocase only =\",upper_only)\n"
   ]
  },
  {
   "cell_type": "markdown",
   "id": "fc364520",
   "metadata": {},
   "source": [
    "# Problem Statement 3: Write a program that reads two space-separated positive integers 𝑋 and 𝑌 as input and perform the following tasks:"
   ]
  },
  {
   "cell_type": "code",
   "execution_count": 10,
   "id": "fb2b59b4",
   "metadata": {},
   "outputs": [],
   "source": [
    "import numpy as np"
   ]
  },
  {
   "cell_type": "code",
   "execution_count": 25,
   "id": "cf9fb8ad",
   "metadata": {},
   "outputs": [
    {
     "name": "stdout",
     "output_type": "stream",
     "text": [
      "7 9\n",
      "[7, 9]\n"
     ]
    }
   ],
   "source": [
    "lst = list(map(int,input().split()))\n",
    "print(lst)\n",
    "x = lst[0]\n",
    "y = lst[1]"
   ]
  },
  {
   "cell_type": "markdown",
   "id": "f20f58ef",
   "metadata": {},
   "source": [
    "# 1. Create a list (lst1) starting at one (1) with 16 elements at a step of x"
   ]
  },
  {
   "cell_type": "code",
   "execution_count": 26,
   "id": "61e15486",
   "metadata": {},
   "outputs": [
    {
     "name": "stdout",
     "output_type": "stream",
     "text": [
      "[7, 14, 21, 28, 35, 42, 49, 56, 63, 70, 77, 84, 91, 98, 105, 112]\n"
     ]
    }
   ],
   "source": [
    "def mul(a):\n",
    "    return(a*x)\n",
    "lst1 = map(mul,(1,2,3,4,5,6,7,8,9,10,11,12,13,14,15,16))\n",
    "lst1 = list(lst1)\n",
    "print(lst1)\n"
   ]
  },
  {
   "cell_type": "markdown",
   "id": "86975e7f",
   "metadata": {},
   "source": [
    "# 2. Create a list (lst2) starting at one (1) with 16 elements at a step of y"
   ]
  },
  {
   "cell_type": "code",
   "execution_count": 27,
   "id": "9c349fbd",
   "metadata": {},
   "outputs": [
    {
     "name": "stdout",
     "output_type": "stream",
     "text": [
      "[9, 18, 27, 36, 45, 54, 63, 72, 81, 90, 99, 108, 117, 126, 135, 144]\n"
     ]
    }
   ],
   "source": [
    "def mul(a):\n",
    "    return(a*y)\n",
    "lst2 = map(mul,(1,2,3,4,5,6,7,8,9,10,11,12,13,14,15,16))\n",
    "lst2 = list(lst2)\n",
    "print(lst2)"
   ]
  },
  {
   "cell_type": "markdown",
   "id": "77e55f48",
   "metadata": {},
   "source": [
    "# 3. Create two NumPy arrays np1 and np2 using lst1 and lst2 respectively"
   ]
  },
  {
   "cell_type": "code",
   "execution_count": 28,
   "id": "cc9ee0e8",
   "metadata": {},
   "outputs": [
    {
     "name": "stdout",
     "output_type": "stream",
     "text": [
      "np1= [  7  14  21  28  35  42  49  56  63  70  77  84  91  98 105 112]\n",
      "np2= [  9  18  27  36  45  54  63  72  81  90  99 108 117 126 135 144]\n"
     ]
    }
   ],
   "source": [
    "import numpy as np\n",
    "np1 = np.array(lst1)\n",
    "np2 = np.array(lst2)\n",
    "print(\"np1=\",np1)\n",
    "print(\"np2=\",np2)"
   ]
  },
  {
   "cell_type": "markdown",
   "id": "4fa25751",
   "metadata": {},
   "source": [
    "# 4. Reshape both the NumPy arrays to (4,4)"
   ]
  },
  {
   "cell_type": "code",
   "execution_count": 29,
   "id": "32c51c96",
   "metadata": {},
   "outputs": [
    {
     "name": "stdout",
     "output_type": "stream",
     "text": [
      "np1= [[  7  14  21  28]\n",
      " [ 35  42  49  56]\n",
      " [ 63  70  77  84]\n",
      " [ 91  98 105 112]]\n",
      "np2= [[  9  18  27  36]\n",
      " [ 45  54  63  72]\n",
      " [ 81  90  99 108]\n",
      " [117 126 135 144]]\n"
     ]
    }
   ],
   "source": [
    "np1 = np1.reshape(4,4)\n",
    "np2 = np2.reshape(4,4)\n",
    "print(\"np1=\",np1)\n",
    "print(\"np2=\",np2)"
   ]
  },
  {
   "cell_type": "markdown",
   "id": "d025b1cb",
   "metadata": {},
   "source": [
    "# 5. Create a new np array (np3) with values obtained by subtracting both the arrays (np1 -np2)"
   ]
  },
  {
   "cell_type": "code",
   "execution_count": 30,
   "id": "32580c3b",
   "metadata": {},
   "outputs": [],
   "source": [
    "np3 = np1-np2"
   ]
  },
  {
   "cell_type": "code",
   "execution_count": 31,
   "id": "fad02e78",
   "metadata": {},
   "outputs": [
    {
     "name": "stdout",
     "output_type": "stream",
     "text": [
      "[[ -2  -4  -6  -8]\n",
      " [-10 -12 -14 -16]\n",
      " [-18 -20 -22 -24]\n",
      " [-26 -28 -30 -32]]\n"
     ]
    }
   ],
   "source": [
    "print(np3)"
   ]
  },
  {
   "cell_type": "markdown",
   "id": "2a270752",
   "metadata": {},
   "source": [
    "# 6. Print all the elements of np3 in a single dimension list"
   ]
  },
  {
   "cell_type": "code",
   "execution_count": 32,
   "id": "47c0595c",
   "metadata": {},
   "outputs": [],
   "source": [
    "np3 = np3.ravel()"
   ]
  },
  {
   "cell_type": "code",
   "execution_count": 33,
   "id": "e3a3bd30",
   "metadata": {},
   "outputs": [
    {
     "name": "stdout",
     "output_type": "stream",
     "text": [
      "[ -2  -4  -6  -8 -10 -12 -14 -16 -18 -20 -22 -24 -26 -28 -30 -32]\n"
     ]
    }
   ],
   "source": [
    "print(np3)"
   ]
  },
  {
   "cell_type": "code",
   "execution_count": 34,
   "id": "e83587e8",
   "metadata": {},
   "outputs": [
    {
     "name": "stdout",
     "output_type": "stream",
     "text": [
      "[-2, -4, -6, -8, -10, -12, -14, -16, -18, -20, -22, -24, -26, -28, -30, -32]\n"
     ]
    }
   ],
   "source": [
    "lst_final = list(np3)\n",
    "print(lst_final)"
   ]
  },
  {
   "cell_type": "markdown",
   "id": "4eadb111",
   "metadata": {},
   "source": [
    "# Problem Statement 4: Write a Python program that takes two integer-NumPy arrays, 𝑃 and 𝑄 of shape [3 ∗ 3] "
   ]
  },
  {
   "cell_type": "code",
   "execution_count": 35,
   "id": "ed3a124b",
   "metadata": {},
   "outputs": [
    {
     "name": "stdout",
     "output_type": "stream",
     "text": [
      "P= [54 78 56 95 84 45 87 12 25]\n",
      "Q= [12 42 36 21 45 24 26 26 32]\n"
     ]
    }
   ],
   "source": [
    "P = np.array([54,78,56,95,84,45,87,12,25])\n",
    "Q = np.array([12,42,36,21,45,24,26,26,32])\n",
    "print(\"P=\",P)\n",
    "print(\"Q=\",Q)"
   ]
  },
  {
   "cell_type": "code",
   "execution_count": 36,
   "id": "abd9df6f",
   "metadata": {},
   "outputs": [
    {
     "name": "stdout",
     "output_type": "stream",
     "text": [
      "[[ 42  36  20]\n",
      " [ 74  39  21]\n",
      " [ 61 -14  -7]]\n"
     ]
    }
   ],
   "source": [
    "R = P-Q\n",
    "R = R.reshape(3,3)\n",
    "print(R)"
   ]
  },
  {
   "cell_type": "code",
   "execution_count": null,
   "id": "746c0c09",
   "metadata": {},
   "outputs": [],
   "source": []
  },
  {
   "cell_type": "code",
   "execution_count": null,
   "id": "812751de",
   "metadata": {},
   "outputs": [],
   "source": []
  },
  {
   "cell_type": "code",
   "execution_count": null,
   "id": "2a9da738",
   "metadata": {},
   "outputs": [],
   "source": []
  }
 ],
 "metadata": {
  "kernelspec": {
   "display_name": "Python 3 (ipykernel)",
   "language": "python",
   "name": "python3"
  },
  "language_info": {
   "codemirror_mode": {
    "name": "ipython",
    "version": 3
   },
   "file_extension": ".py",
   "mimetype": "text/x-python",
   "name": "python",
   "nbconvert_exporter": "python",
   "pygments_lexer": "ipython3",
   "version": "3.9.12"
  }
 },
 "nbformat": 4,
 "nbformat_minor": 5
}
