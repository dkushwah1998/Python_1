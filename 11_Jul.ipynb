{
 "cells": [
  {
   "cell_type": "code",
   "execution_count": 1,
   "id": "8ade176d",
   "metadata": {},
   "outputs": [],
   "source": [
    "import numpy as np\n",
    "import pandas as pd\n",
    "import matplotlib.pyplot as plt"
   ]
  },
  {
   "cell_type": "code",
   "execution_count": 3,
   "id": "adace295",
   "metadata": {},
   "outputs": [
    {
     "data": {
      "text/plain": [
       "['Solarize_Light2',\n",
       " '_classic_test_patch',\n",
       " '_mpl-gallery',\n",
       " '_mpl-gallery-nogrid',\n",
       " 'bmh',\n",
       " 'classic',\n",
       " 'dark_background',\n",
       " 'fast',\n",
       " 'fivethirtyeight',\n",
       " 'ggplot',\n",
       " 'grayscale',\n",
       " 'seaborn',\n",
       " 'seaborn-bright',\n",
       " 'seaborn-colorblind',\n",
       " 'seaborn-dark',\n",
       " 'seaborn-dark-palette',\n",
       " 'seaborn-darkgrid',\n",
       " 'seaborn-deep',\n",
       " 'seaborn-muted',\n",
       " 'seaborn-notebook',\n",
       " 'seaborn-paper',\n",
       " 'seaborn-pastel',\n",
       " 'seaborn-poster',\n",
       " 'seaborn-talk',\n",
       " 'seaborn-ticks',\n",
       " 'seaborn-white',\n",
       " 'seaborn-whitegrid',\n",
       " 'tableau-colorblind10']"
      ]
     },
     "execution_count": 3,
     "metadata": {},
     "output_type": "execute_result"
    }
   ],
   "source": [
    "plt.style.available"
   ]
  },
  {
   "cell_type": "code",
   "execution_count": 4,
   "id": "0dbff6da",
   "metadata": {
    "scrolled": true
   },
   "outputs": [
    {
     "name": "stdout",
     "output_type": "stream",
     "text": [
      "(157, 15)\n"
     ]
    },
    {
     "data": {
      "text/html": [
       "<div>\n",
       "<style scoped>\n",
       "    .dataframe tbody tr th:only-of-type {\n",
       "        vertical-align: middle;\n",
       "    }\n",
       "\n",
       "    .dataframe tbody tr th {\n",
       "        vertical-align: top;\n",
       "    }\n",
       "\n",
       "    .dataframe thead th {\n",
       "        text-align: right;\n",
       "    }\n",
       "</style>\n",
       "<table border=\"1\" class=\"dataframe\">\n",
       "  <thead>\n",
       "    <tr style=\"text-align: right;\">\n",
       "      <th></th>\n",
       "      <th>Manufacturer</th>\n",
       "      <th>Model</th>\n",
       "      <th>Sales in thousands</th>\n",
       "      <th>4-year resale value</th>\n",
       "      <th>Vehicle type</th>\n",
       "      <th>Price in thousands</th>\n",
       "      <th>Engine size</th>\n",
       "      <th>Horsepower</th>\n",
       "      <th>Wheelbase</th>\n",
       "      <th>Width</th>\n",
       "      <th>Length</th>\n",
       "      <th>Curb weight</th>\n",
       "      <th>Fuel capacity</th>\n",
       "      <th>Fuel efficiency</th>\n",
       "      <th>Latest Launch</th>\n",
       "    </tr>\n",
       "  </thead>\n",
       "  <tbody>\n",
       "    <tr>\n",
       "      <th>0</th>\n",
       "      <td>Mitsubishi</td>\n",
       "      <td>3000GT</td>\n",
       "      <td>0.110</td>\n",
       "      <td>20.940000</td>\n",
       "      <td>Passenger</td>\n",
       "      <td>25.450</td>\n",
       "      <td>3.0</td>\n",
       "      <td>161.0</td>\n",
       "      <td>97.2</td>\n",
       "      <td>72.4</td>\n",
       "      <td>180.3</td>\n",
       "      <td>3.131</td>\n",
       "      <td>19.8</td>\n",
       "      <td>21.0</td>\n",
       "      <td>29-Jun-14</td>\n",
       "    </tr>\n",
       "    <tr>\n",
       "      <th>1</th>\n",
       "      <td>Dodge</td>\n",
       "      <td>Viper</td>\n",
       "      <td>0.916</td>\n",
       "      <td>58.470000</td>\n",
       "      <td>Passenger</td>\n",
       "      <td>69.725</td>\n",
       "      <td>8.0</td>\n",
       "      <td>450.0</td>\n",
       "      <td>96.2</td>\n",
       "      <td>75.7</td>\n",
       "      <td>176.7</td>\n",
       "      <td>3.375</td>\n",
       "      <td>19.0</td>\n",
       "      <td>16.0</td>\n",
       "      <td>08-Jul-15</td>\n",
       "    </tr>\n",
       "    <tr>\n",
       "      <th>2</th>\n",
       "      <td>Mercedes-Benz</td>\n",
       "      <td>CL500</td>\n",
       "      <td>0.954</td>\n",
       "      <td>18.072975</td>\n",
       "      <td>Passenger</td>\n",
       "      <td>85.500</td>\n",
       "      <td>5.0</td>\n",
       "      <td>302.0</td>\n",
       "      <td>113.6</td>\n",
       "      <td>73.1</td>\n",
       "      <td>196.6</td>\n",
       "      <td>4.115</td>\n",
       "      <td>23.2</td>\n",
       "      <td>20.0</td>\n",
       "      <td>04-Nov-15</td>\n",
       "    </tr>\n",
       "    <tr>\n",
       "      <th>3</th>\n",
       "      <td>Oldsmobile</td>\n",
       "      <td>Cutlass</td>\n",
       "      <td>1.112</td>\n",
       "      <td>11.240000</td>\n",
       "      <td>Passenger</td>\n",
       "      <td>18.145</td>\n",
       "      <td>3.1</td>\n",
       "      <td>150.0</td>\n",
       "      <td>107.0</td>\n",
       "      <td>69.4</td>\n",
       "      <td>192.0</td>\n",
       "      <td>3.102</td>\n",
       "      <td>15.2</td>\n",
       "      <td>25.0</td>\n",
       "      <td>31-May-15</td>\n",
       "    </tr>\n",
       "    <tr>\n",
       "      <th>4</th>\n",
       "      <td>Porsche</td>\n",
       "      <td>Carrera Coupe</td>\n",
       "      <td>1.280</td>\n",
       "      <td>60.625000</td>\n",
       "      <td>Passenger</td>\n",
       "      <td>71.020</td>\n",
       "      <td>3.4</td>\n",
       "      <td>300.0</td>\n",
       "      <td>92.6</td>\n",
       "      <td>69.5</td>\n",
       "      <td>174.5</td>\n",
       "      <td>3.032</td>\n",
       "      <td>17.0</td>\n",
       "      <td>21.0</td>\n",
       "      <td>21-Dec-14</td>\n",
       "    </tr>\n",
       "    <tr>\n",
       "      <th>5</th>\n",
       "      <td>Audi</td>\n",
       "      <td>A8</td>\n",
       "      <td>1.380</td>\n",
       "      <td>39.000000</td>\n",
       "      <td>Passenger</td>\n",
       "      <td>62.000</td>\n",
       "      <td>4.2</td>\n",
       "      <td>310.0</td>\n",
       "      <td>113.0</td>\n",
       "      <td>74.0</td>\n",
       "      <td>198.2</td>\n",
       "      <td>3.902</td>\n",
       "      <td>23.7</td>\n",
       "      <td>21.0</td>\n",
       "      <td>27-Feb-14</td>\n",
       "    </tr>\n",
       "    <tr>\n",
       "      <th>6</th>\n",
       "      <td>Mercedes-Benz</td>\n",
       "      <td>SLK230</td>\n",
       "      <td>1.526</td>\n",
       "      <td>18.072975</td>\n",
       "      <td>Passenger</td>\n",
       "      <td>41.000</td>\n",
       "      <td>2.3</td>\n",
       "      <td>185.0</td>\n",
       "      <td>94.5</td>\n",
       "      <td>67.5</td>\n",
       "      <td>157.3</td>\n",
       "      <td>2.975</td>\n",
       "      <td>14.0</td>\n",
       "      <td>27.0</td>\n",
       "      <td>08-Jun-15</td>\n",
       "    </tr>\n",
       "    <tr>\n",
       "      <th>7</th>\n",
       "      <td>Porsche</td>\n",
       "      <td>Carrera Cabriolet</td>\n",
       "      <td>1.866</td>\n",
       "      <td>67.550000</td>\n",
       "      <td>Passenger</td>\n",
       "      <td>74.970</td>\n",
       "      <td>3.4</td>\n",
       "      <td>300.0</td>\n",
       "      <td>92.6</td>\n",
       "      <td>69.5</td>\n",
       "      <td>174.5</td>\n",
       "      <td>3.075</td>\n",
       "      <td>17.0</td>\n",
       "      <td>23.0</td>\n",
       "      <td>07-Nov-15</td>\n",
       "    </tr>\n",
       "    <tr>\n",
       "      <th>8</th>\n",
       "      <td>Plymouth</td>\n",
       "      <td>Prowler</td>\n",
       "      <td>1.872</td>\n",
       "      <td>18.072975</td>\n",
       "      <td>Passenger</td>\n",
       "      <td>43.000</td>\n",
       "      <td>3.5</td>\n",
       "      <td>253.0</td>\n",
       "      <td>113.3</td>\n",
       "      <td>76.3</td>\n",
       "      <td>165.4</td>\n",
       "      <td>2.850</td>\n",
       "      <td>12.0</td>\n",
       "      <td>21.0</td>\n",
       "      <td>27-Jun-14</td>\n",
       "    </tr>\n",
       "    <tr>\n",
       "      <th>9</th>\n",
       "      <td>Mercedes-Benz</td>\n",
       "      <td>SL-Class</td>\n",
       "      <td>3.311</td>\n",
       "      <td>58.600000</td>\n",
       "      <td>Passenger</td>\n",
       "      <td>82.600</td>\n",
       "      <td>5.0</td>\n",
       "      <td>302.0</td>\n",
       "      <td>99.0</td>\n",
       "      <td>71.3</td>\n",
       "      <td>177.1</td>\n",
       "      <td>4.125</td>\n",
       "      <td>21.1</td>\n",
       "      <td>20.0</td>\n",
       "      <td>17-Mar-15</td>\n",
       "    </tr>\n",
       "  </tbody>\n",
       "</table>\n",
       "</div>"
      ],
      "text/plain": [
       "    Manufacturer              Model  Sales in thousands  4-year resale value  \\\n",
       "0     Mitsubishi  3000GT                          0.110            20.940000   \n",
       "1          Dodge  Viper                           0.916            58.470000   \n",
       "2  Mercedes-Benz  CL500                           0.954            18.072975   \n",
       "3     Oldsmobile  Cutlass                         1.112            11.240000   \n",
       "4        Porsche  Carrera Coupe                   1.280            60.625000   \n",
       "5           Audi  A8                              1.380            39.000000   \n",
       "6  Mercedes-Benz  SLK230                          1.526            18.072975   \n",
       "7        Porsche  Carrera Cabriolet               1.866            67.550000   \n",
       "8       Plymouth  Prowler                         1.872            18.072975   \n",
       "9  Mercedes-Benz  SL-Class                        3.311            58.600000   \n",
       "\n",
       "  Vehicle type  Price in thousands  Engine size  Horsepower  Wheelbase  Width  \\\n",
       "0    Passenger              25.450          3.0       161.0       97.2   72.4   \n",
       "1    Passenger              69.725          8.0       450.0       96.2   75.7   \n",
       "2    Passenger              85.500          5.0       302.0      113.6   73.1   \n",
       "3    Passenger              18.145          3.1       150.0      107.0   69.4   \n",
       "4    Passenger              71.020          3.4       300.0       92.6   69.5   \n",
       "5    Passenger              62.000          4.2       310.0      113.0   74.0   \n",
       "6    Passenger              41.000          2.3       185.0       94.5   67.5   \n",
       "7    Passenger              74.970          3.4       300.0       92.6   69.5   \n",
       "8    Passenger              43.000          3.5       253.0      113.3   76.3   \n",
       "9    Passenger              82.600          5.0       302.0       99.0   71.3   \n",
       "\n",
       "   Length  Curb weight  Fuel capacity  Fuel efficiency Latest Launch  \n",
       "0   180.3        3.131           19.8             21.0     29-Jun-14  \n",
       "1   176.7        3.375           19.0             16.0     08-Jul-15  \n",
       "2   196.6        4.115           23.2             20.0     04-Nov-15  \n",
       "3   192.0        3.102           15.2             25.0     31-May-15  \n",
       "4   174.5        3.032           17.0             21.0     21-Dec-14  \n",
       "5   198.2        3.902           23.7             21.0     27-Feb-14  \n",
       "6   157.3        2.975           14.0             27.0     08-Jun-15  \n",
       "7   174.5        3.075           17.0             23.0     07-Nov-15  \n",
       "8   165.4        2.850           12.0             21.0     27-Jun-14  \n",
       "9   177.1        4.125           21.1             20.0     17-Mar-15  "
      ]
     },
     "execution_count": 4,
     "metadata": {},
     "output_type": "execute_result"
    }
   ],
   "source": [
    "car = pd.read_csv(\"C:/Users/HP/Desktop/Python 1/Day 7 - Demos/Car_sales.csv\")\n",
    "print(np.shape(car))\n",
    "\n",
    "car.head(10)"
   ]
  },
  {
   "cell_type": "code",
   "execution_count": 5,
   "id": "769d1fc6",
   "metadata": {},
   "outputs": [
    {
     "name": "stdout",
     "output_type": "stream",
     "text": [
      "{'Car', 'Passenger'}\n"
     ]
    }
   ],
   "source": [
    "print(set(car['Vehicle type']))"
   ]
  },
  {
   "cell_type": "code",
   "execution_count": 14,
   "id": "71a91ac1",
   "metadata": {},
   "outputs": [
    {
     "data": {
      "image/png": "[encoded data removed]",
      "text/plain": [
       "<Figure size 432x288 with 1 Axes>"
      ]
     },
     "metadata": {
      "needs_background": "light"
     },
     "output_type": "display_data"
    }
   ],
   "source": [
    "vt_car = car[car[\"Vehicle type\"]=='Car']['Sales in thousands']\n",
    "vt_passenger = car[car['Vehicle type']=='Passenger']['Sales in thousands']\n",
    "plt.plot(np.arange(len(vt_car)),vt_car,linestyle='--',label='Car')\n",
    "plt.plot(np.arange(len(vt_passenger)),vt_passenger,linestyle = '-.',label = 'Passenger')\n",
    "plt.ylabel('Sales')\n",
    "plt.xlabel('Model')\n",
    "\n",
    "plt.title(\"Sales in thousands for different vehicle types\")\n",
    "plt.xticks(np.arange(0,150,10))\n",
    "plt.yticks(np.arange(0,600,50))\n",
    "plt.legend()\n",
    "plt.savefig(\"Sales in thousands for different vehicle types.png\")\n",
    "plt.show()\n"
   ]
  },
  {
   "cell_type": "code",
   "execution_count": 1,
   "id": "52edc124",
   "metadata": {},
   "outputs": [],
   "source": [
    "import numpy as np\n",
    "import pandas as pd\n",
    "import matplotlib.pyplot as plt"
   ]
  },
  {
   "cell_type": "code",
   "execution_count": 6,
   "id": "ef28b9a5",
   "metadata": {},
   "outputs": [
    {
     "data": {
      "text/plain": [
       "(50, 13)"
      ]
     },
     "execution_count": 6,
     "metadata": {},
     "output_type": "execute_result"
    }
   ],
   "source": [
    "stats = pd.read_csv(\"C:/Users/HP/Desktop/Python 1/Day 7 - Demos/top50.csv\")\n",
    "np.shape(stats)"
   ]
  },
  {
   "cell_type": "code",
   "execution_count": 7,
   "id": "51558308",
   "metadata": {},
   "outputs": [
    {
     "data": {
      "text/html": [
       "<div>\n",
       "<style scoped>\n",
       "    .dataframe tbody tr th:only-of-type {\n",
       "        vertical-align: middle;\n",
       "    }\n",
       "\n",
       "    .dataframe tbody tr th {\n",
       "        vertical-align: top;\n",
       "    }\n",
       "\n",
       "    .dataframe thead th {\n",
       "        text-align: right;\n",
       "    }\n",
       "</style>\n",
       "<table border=\"1\" class=\"dataframe\">\n",
       "  <thead>\n",
       "    <tr style=\"text-align: right;\">\n",
       "      <th></th>\n",
       "      <th>Track.Name</th>\n",
       "      <th>Artist.Name</th>\n",
       "      <th>Genre</th>\n",
       "      <th>Beats.Per.Minute</th>\n",
       "      <th>Energy</th>\n",
       "      <th>Danceability</th>\n",
       "      <th>Loudness..dB..</th>\n",
       "      <th>Liveness</th>\n",
       "      <th>Valence.</th>\n",
       "      <th>Length.</th>\n",
       "      <th>Acousticness..</th>\n",
       "      <th>Speechiness.</th>\n",
       "      <th>Popularity</th>\n",
       "    </tr>\n",
       "  </thead>\n",
       "  <tbody>\n",
       "    <tr>\n",
       "      <th>0</th>\n",
       "      <td>Señorita</td>\n",
       "      <td>Shawn Mendes</td>\n",
       "      <td>canadian pop</td>\n",
       "      <td>117</td>\n",
       "      <td>55</td>\n",
       "      <td>76</td>\n",
       "      <td>-6</td>\n",
       "      <td>8</td>\n",
       "      <td>75</td>\n",
       "      <td>191</td>\n",
       "      <td>4</td>\n",
       "      <td>3</td>\n",
       "      <td>79</td>\n",
       "    </tr>\n",
       "    <tr>\n",
       "      <th>1</th>\n",
       "      <td>China</td>\n",
       "      <td>Anuel AA</td>\n",
       "      <td>reggaeton flow</td>\n",
       "      <td>105</td>\n",
       "      <td>81</td>\n",
       "      <td>79</td>\n",
       "      <td>-4</td>\n",
       "      <td>8</td>\n",
       "      <td>61</td>\n",
       "      <td>302</td>\n",
       "      <td>8</td>\n",
       "      <td>9</td>\n",
       "      <td>92</td>\n",
       "    </tr>\n",
       "    <tr>\n",
       "      <th>2</th>\n",
       "      <td>boyfriend (with Social House)</td>\n",
       "      <td>Ariana Grande</td>\n",
       "      <td>dance pop</td>\n",
       "      <td>190</td>\n",
       "      <td>80</td>\n",
       "      <td>40</td>\n",
       "      <td>-4</td>\n",
       "      <td>16</td>\n",
       "      <td>70</td>\n",
       "      <td>186</td>\n",
       "      <td>12</td>\n",
       "      <td>46</td>\n",
       "      <td>85</td>\n",
       "    </tr>\n",
       "    <tr>\n",
       "      <th>3</th>\n",
       "      <td>Beautiful People (feat. Khalid)</td>\n",
       "      <td>Ed Sheeran</td>\n",
       "      <td>pop</td>\n",
       "      <td>93</td>\n",
       "      <td>65</td>\n",
       "      <td>64</td>\n",
       "      <td>-8</td>\n",
       "      <td>8</td>\n",
       "      <td>55</td>\n",
       "      <td>198</td>\n",
       "      <td>12</td>\n",
       "      <td>19</td>\n",
       "      <td>86</td>\n",
       "    </tr>\n",
       "  </tbody>\n",
       "</table>\n",
       "</div>"
      ],
      "text/plain": [
       "                        Track.Name    Artist.Name           Genre  \\\n",
       "0                         Señorita   Shawn Mendes    canadian pop   \n",
       "1                            China       Anuel AA  reggaeton flow   \n",
       "2    boyfriend (with Social House)  Ariana Grande       dance pop   \n",
       "3  Beautiful People (feat. Khalid)     Ed Sheeran             pop   \n",
       "\n",
       "   Beats.Per.Minute  Energy  Danceability  Loudness..dB..  Liveness  Valence.  \\\n",
       "0               117      55            76              -6         8        75   \n",
       "1               105      81            79              -4         8        61   \n",
       "2               190      80            40              -4        16        70   \n",
       "3                93      65            64              -8         8        55   \n",
       "\n",
       "   Length.  Acousticness..  Speechiness.  Popularity  \n",
       "0      191               4             3          79  \n",
       "1      302               8             9          92  \n",
       "2      186              12            46          85  \n",
       "3      198              12            19          86  "
      ]
     },
     "execution_count": 7,
     "metadata": {},
     "output_type": "execute_result"
    }
   ],
   "source": [
    "stats.head(4)"
   ]
  },
  {
   "cell_type": "code",
   "execution_count": 18,
   "id": "a770cb83",
   "metadata": {},
   "outputs": [
    {
     "data": {
      "image/png": "[encoded data removed]",
      "text/plain": [
       "<Figure size 432x288 with 1 Axes>"
      ]
     },
     "metadata": {
      "needs_background": "light"
     },
     "output_type": "display_data"
    }
   ],
   "source": [
    "for group, data in stats.groupby('Genre'):\n",
    "    plt.barh(group, data['Energy'].mean(),color = 'b')\n",
    "    plt.barh(group, data['Danceability'].mean(), color='y', left = data['Energy'].mean())\n",
    "plt.xlabel('Value')\n",
    "plt.ylabel('Genre')\n",
    "plt.title('Energy and Danceability per Genre')\n",
    "plt.show()"
   ]
  },
  {
   "cell_type": "code",
   "execution_count": 20,
   "id": "9c0d7529",
   "metadata": {},
   "outputs": [
    {
     "data": {
      "text/plain": [
       "13"
      ]
     },
     "execution_count": 20,
     "metadata": {},
     "output_type": "execute_result"
    }
   ],
   "source": [
    "len(stats.columns)"
   ]
  },
  {
   "cell_type": "code",
   "execution_count": 21,
   "id": "c8d028f6",
   "metadata": {},
   "outputs": [
    {
     "data": {
      "text/html": [
       "<div>\n",
       "<style scoped>\n",
       "    .dataframe tbody tr th:only-of-type {\n",
       "        vertical-align: middle;\n",
       "    }\n",
       "\n",
       "    .dataframe tbody tr th {\n",
       "        vertical-align: top;\n",
       "    }\n",
       "\n",
       "    .dataframe thead th {\n",
       "        text-align: right;\n",
       "    }\n",
       "</style>\n",
       "<table border=\"1\" class=\"dataframe\">\n",
       "  <thead>\n",
       "    <tr style=\"text-align: right;\">\n",
       "      <th></th>\n",
       "      <th>Track.Name</th>\n",
       "      <th>Artist.Name</th>\n",
       "      <th>Genre</th>\n",
       "      <th>Beats.Per.Minute</th>\n",
       "      <th>Energy</th>\n",
       "      <th>Danceability</th>\n",
       "      <th>Loudness..dB..</th>\n",
       "      <th>Liveness</th>\n",
       "      <th>Valence.</th>\n",
       "      <th>Length.</th>\n",
       "      <th>Acousticness..</th>\n",
       "      <th>Speechiness.</th>\n",
       "      <th>Popularity</th>\n",
       "    </tr>\n",
       "  </thead>\n",
       "  <tbody>\n",
       "    <tr>\n",
       "      <th>0</th>\n",
       "      <td>Señorita</td>\n",
       "      <td>Shawn Mendes</td>\n",
       "      <td>canadian pop</td>\n",
       "      <td>117</td>\n",
       "      <td>55</td>\n",
       "      <td>76</td>\n",
       "      <td>-6</td>\n",
       "      <td>8</td>\n",
       "      <td>75</td>\n",
       "      <td>191</td>\n",
       "      <td>4</td>\n",
       "      <td>3</td>\n",
       "      <td>79</td>\n",
       "    </tr>\n",
       "    <tr>\n",
       "      <th>1</th>\n",
       "      <td>China</td>\n",
       "      <td>Anuel AA</td>\n",
       "      <td>reggaeton flow</td>\n",
       "      <td>105</td>\n",
       "      <td>81</td>\n",
       "      <td>79</td>\n",
       "      <td>-4</td>\n",
       "      <td>8</td>\n",
       "      <td>61</td>\n",
       "      <td>302</td>\n",
       "      <td>8</td>\n",
       "      <td>9</td>\n",
       "      <td>92</td>\n",
       "    </tr>\n",
       "  </tbody>\n",
       "</table>\n",
       "</div>"
      ],
      "text/plain": [
       "  Track.Name   Artist.Name           Genre  Beats.Per.Minute  Energy  \\\n",
       "0   Señorita  Shawn Mendes    canadian pop               117      55   \n",
       "1      China      Anuel AA  reggaeton flow               105      81   \n",
       "\n",
       "   Danceability  Loudness..dB..  Liveness  Valence.  Length.  Acousticness..  \\\n",
       "0            76              -6         8        75      191               4   \n",
       "1            79              -4         8        61      302               8   \n",
       "\n",
       "   Speechiness.  Popularity  \n",
       "0             3          79  \n",
       "1             9          92  "
      ]
     },
     "execution_count": 21,
     "metadata": {},
     "output_type": "execute_result"
    }
   ],
   "source": [
    "stats.head(2)"
   ]
  },
  {
   "cell_type": "code",
   "execution_count": 25,
   "id": "6d87fa7d",
   "metadata": {},
   "outputs": [
    {
     "data": {
      "image/png": "[encoded data removed]",
      "text/plain": [
       "<Figure size 1440x1296 with 10 Axes>"
      ]
     },
     "metadata": {
      "needs_background": "light"
     },
     "output_type": "display_data"
    }
   ],
   "source": [
    "indx = 1\n",
    "plt.figure(figsize = (20,18))\n",
    "for col in stats.columns[3:]:\n",
    "    plt.subplot(5,2,indx)\n",
    "    plt.hist(stats[col], color='m')\n",
    "    plt.title(col)\n",
    "    indx += 1\n",
    "plt.show()"
   ]
  },
  {
   "cell_type": "code",
   "execution_count": 26,
   "id": "da5232fe",
   "metadata": {},
   "outputs": [
    {
     "data": {
      "text/html": [
       "<div>\n",
       "<style scoped>\n",
       "    .dataframe tbody tr th:only-of-type {\n",
       "        vertical-align: middle;\n",
       "    }\n",
       "\n",
       "    .dataframe tbody tr th {\n",
       "        vertical-align: top;\n",
       "    }\n",
       "\n",
       "    .dataframe thead th {\n",
       "        text-align: right;\n",
       "    }\n",
       "</style>\n",
       "<table border=\"1\" class=\"dataframe\">\n",
       "  <thead>\n",
       "    <tr style=\"text-align: right;\">\n",
       "      <th></th>\n",
       "      <th>Track.Name</th>\n",
       "      <th>Artist.Name</th>\n",
       "      <th>Genre</th>\n",
       "      <th>Beats.Per.Minute</th>\n",
       "      <th>Energy</th>\n",
       "      <th>Danceability</th>\n",
       "      <th>Loudness..dB..</th>\n",
       "      <th>Liveness</th>\n",
       "      <th>Valence.</th>\n",
       "      <th>Length.</th>\n",
       "      <th>Acousticness..</th>\n",
       "      <th>Speechiness.</th>\n",
       "      <th>Popularity</th>\n",
       "    </tr>\n",
       "  </thead>\n",
       "  <tbody>\n",
       "    <tr>\n",
       "      <th>0</th>\n",
       "      <td>Señorita</td>\n",
       "      <td>Shawn Mendes</td>\n",
       "      <td>canadian pop</td>\n",
       "      <td>117</td>\n",
       "      <td>55</td>\n",
       "      <td>76</td>\n",
       "      <td>-6</td>\n",
       "      <td>8</td>\n",
       "      <td>75</td>\n",
       "      <td>191</td>\n",
       "      <td>4</td>\n",
       "      <td>3</td>\n",
       "      <td>79</td>\n",
       "    </tr>\n",
       "    <tr>\n",
       "      <th>1</th>\n",
       "      <td>China</td>\n",
       "      <td>Anuel AA</td>\n",
       "      <td>reggaeton flow</td>\n",
       "      <td>105</td>\n",
       "      <td>81</td>\n",
       "      <td>79</td>\n",
       "      <td>-4</td>\n",
       "      <td>8</td>\n",
       "      <td>61</td>\n",
       "      <td>302</td>\n",
       "      <td>8</td>\n",
       "      <td>9</td>\n",
       "      <td>92</td>\n",
       "    </tr>\n",
       "  </tbody>\n",
       "</table>\n",
       "</div>"
      ],
      "text/plain": [
       "  Track.Name   Artist.Name           Genre  Beats.Per.Minute  Energy  \\\n",
       "0   Señorita  Shawn Mendes    canadian pop               117      55   \n",
       "1      China      Anuel AA  reggaeton flow               105      81   \n",
       "\n",
       "   Danceability  Loudness..dB..  Liveness  Valence.  Length.  Acousticness..  \\\n",
       "0            76              -6         8        75      191               4   \n",
       "1            79              -4         8        61      302               8   \n",
       "\n",
       "   Speechiness.  Popularity  \n",
       "0             3          79  \n",
       "1             9          92  "
      ]
     },
     "execution_count": 26,
     "metadata": {},
     "output_type": "execute_result"
    }
   ],
   "source": [
    "stats.head(2)"
   ]
  },
  {
   "cell_type": "code",
   "execution_count": 27,
   "id": "92ac6dd2",
   "metadata": {},
   "outputs": [
    {
     "data": {
      "text/plain": [
       "{'whiskers': [<matplotlib.lines.Line2D at 0x214a664f4f0>,\n",
       "  <matplotlib.lines.Line2D at 0x214a664f7c0>],\n",
       " 'caps': [<matplotlib.lines.Line2D at 0x214a664fb50>,\n",
       "  <matplotlib.lines.Line2D at 0x214a664fd60>],\n",
       " 'boxes': [<matplotlib.lines.Line2D at 0x214a664f220>],\n",
       " 'medians': [<matplotlib.lines.Line2D at 0x214a667e070>],\n",
       " 'fliers': [<matplotlib.lines.Line2D at 0x214a667e340>],\n",
       " 'means': []}"
      ]
     },
     "execution_count": 27,
     "metadata": {},
     "output_type": "execute_result"
    },
    {
     "data": {
      "image/png": "[encoded data removed]",
      "text/plain": [
       "<Figure size 432x288 with 1 Axes>"
      ]
     },
     "metadata": {
      "needs_background": "light"
     },
     "output_type": "display_data"
    }
   ],
   "source": [
    "plt.boxplot(stats.Liveness)"
   ]
  },
  {
   "cell_type": "code",
   "execution_count": 28,
   "id": "ebd67ee3",
   "metadata": {},
   "outputs": [
    {
     "data": {
      "text/plain": [
       "False"
      ]
     },
     "execution_count": 28,
     "metadata": {},
     "output_type": "execute_result"
    }
   ],
   "source": [
    "stats['Danceability'].isna().any()"
   ]
  },
  {
   "cell_type": "code",
   "execution_count": 29,
   "id": "13ee2fbe",
   "metadata": {},
   "outputs": [
    {
     "data": {
      "text/plain": [
       "{'whiskers': [<matplotlib.lines.Line2D at 0x214a64351c0>,\n",
       "  <matplotlib.lines.Line2D at 0x214a6435430>],\n",
       " 'caps': [<matplotlib.lines.Line2D at 0x214a6435700>,\n",
       "  <matplotlib.lines.Line2D at 0x214a64359d0>],\n",
       " 'boxes': [<matplotlib.lines.Line2D at 0x214a6421fd0>],\n",
       " 'medians': [<matplotlib.lines.Line2D at 0x214a6435ca0>],\n",
       " 'fliers': [<matplotlib.lines.Line2D at 0x214a6435f70>],\n",
       " 'means': []}"
      ]
     },
     "execution_count": 29,
     "metadata": {},
     "output_type": "execute_result"
    },
    {
     "data": {
      "image/png": "[encoded data removed]",
      "text/plain": [
       "<Figure size 432x288 with 1 Axes>"
      ]
     },
     "metadata": {
      "needs_background": "light"
     },
     "output_type": "display_data"
    }
   ],
   "source": [
    "plt.boxplot(stats.Danceability)"
   ]
  },
  {
   "cell_type": "code",
   "execution_count": 30,
   "id": "70428576",
   "metadata": {},
   "outputs": [
    {
     "data": {
      "text/html": [
       "<div>\n",
       "<style scoped>\n",
       "    .dataframe tbody tr th:only-of-type {\n",
       "        vertical-align: middle;\n",
       "    }\n",
       "\n",
       "    .dataframe tbody tr th {\n",
       "        vertical-align: top;\n",
       "    }\n",
       "\n",
       "    .dataframe thead th {\n",
       "        text-align: right;\n",
       "    }\n",
       "</style>\n",
       "<table border=\"1\" class=\"dataframe\">\n",
       "  <thead>\n",
       "    <tr style=\"text-align: right;\">\n",
       "      <th></th>\n",
       "      <th>Track.Name</th>\n",
       "      <th>Artist.Name</th>\n",
       "      <th>Genre</th>\n",
       "      <th>Beats.Per.Minute</th>\n",
       "      <th>Energy</th>\n",
       "      <th>Danceability</th>\n",
       "      <th>Loudness..dB..</th>\n",
       "      <th>Liveness</th>\n",
       "      <th>Valence.</th>\n",
       "      <th>Length.</th>\n",
       "      <th>Acousticness..</th>\n",
       "      <th>Speechiness.</th>\n",
       "      <th>Popularity</th>\n",
       "    </tr>\n",
       "  </thead>\n",
       "  <tbody>\n",
       "    <tr>\n",
       "      <th>0</th>\n",
       "      <td>Señorita</td>\n",
       "      <td>Shawn Mendes</td>\n",
       "      <td>canadian pop</td>\n",
       "      <td>117</td>\n",
       "      <td>55</td>\n",
       "      <td>76</td>\n",
       "      <td>-6</td>\n",
       "      <td>8</td>\n",
       "      <td>75</td>\n",
       "      <td>191</td>\n",
       "      <td>4</td>\n",
       "      <td>3</td>\n",
       "      <td>79</td>\n",
       "    </tr>\n",
       "    <tr>\n",
       "      <th>1</th>\n",
       "      <td>China</td>\n",
       "      <td>Anuel AA</td>\n",
       "      <td>reggaeton flow</td>\n",
       "      <td>105</td>\n",
       "      <td>81</td>\n",
       "      <td>79</td>\n",
       "      <td>-4</td>\n",
       "      <td>8</td>\n",
       "      <td>61</td>\n",
       "      <td>302</td>\n",
       "      <td>8</td>\n",
       "      <td>9</td>\n",
       "      <td>92</td>\n",
       "    </tr>\n",
       "  </tbody>\n",
       "</table>\n",
       "</div>"
      ],
      "text/plain": [
       "  Track.Name   Artist.Name           Genre  Beats.Per.Minute  Energy  \\\n",
       "0   Señorita  Shawn Mendes    canadian pop               117      55   \n",
       "1      China      Anuel AA  reggaeton flow               105      81   \n",
       "\n",
       "   Danceability  Loudness..dB..  Liveness  Valence.  Length.  Acousticness..  \\\n",
       "0            76              -6         8        75      191               4   \n",
       "1            79              -4         8        61      302               8   \n",
       "\n",
       "   Speechiness.  Popularity  \n",
       "0             3          79  \n",
       "1             9          92  "
      ]
     },
     "execution_count": 30,
     "metadata": {},
     "output_type": "execute_result"
    }
   ],
   "source": [
    "stats.head(2)"
   ]
  },
  {
   "cell_type": "code",
   "execution_count": 39,
   "id": "f0e42202",
   "metadata": {},
   "outputs": [
    {
     "data": {
      "image/png": "[encoded data removed]",
      "text/plain": [
       "<Figure size 1080x864 with 3 Axes>"
      ]
     },
     "metadata": {},
     "output_type": "display_data"
    }
   ],
   "source": [
    "plt.style.use('ggplot')\n",
    "stats_grid = plt.GridSpec(4,5)\n",
    "stats_fig = plt.figure(figsize=(15,12))\n",
    "##1\n",
    "stats_fig.add_subplot(stats_grid[:2,:3])\n",
    "for group, data in stats.groupby('Genre'):\n",
    "    plt.barh(group,data.Energy.mean(),color = \"m\")\n",
    "    plt.barh(group, data.Danceability.mean(),color='b', left = data.Energy.mean())\n",
    "plt.title(\"Energy and Danceability per Genre\")\n",
    "plt.xlabel('Value')\n",
    "plt.ylabel('Genre')\n",
    "\n",
    "##2\n",
    "\n",
    "stats_fig.add_subplot(stats_grid[:2,3:])\n",
    "plt.boxplot(stats['Loudness..dB..'])\n",
    "plt.title(\"Boxplot\")\n",
    "\n",
    "##3\n",
    "\n",
    "stats_fig.add_subplot(stats_grid[2:,:])\n",
    "plt.hist(stats.Popularity, color ='y')\n",
    "plt.title(\"Histogram - Popularity\")\n",
    "plt.xlabel(\"Popularity\")\n",
    "plt.ylabel(\"Frequency\")\n",
    "plt.show()"
   ]
  },
  {
   "cell_type": "code",
   "execution_count": 40,
   "id": "6c447b96",
   "metadata": {},
   "outputs": [
    {
     "data": {
      "text/html": [
       "<div>\n",
       "<style scoped>\n",
       "    .dataframe tbody tr th:only-of-type {\n",
       "        vertical-align: middle;\n",
       "    }\n",
       "\n",
       "    .dataframe tbody tr th {\n",
       "        vertical-align: top;\n",
       "    }\n",
       "\n",
       "    .dataframe thead th {\n",
       "        text-align: right;\n",
       "    }\n",
       "</style>\n",
       "<table border=\"1\" class=\"dataframe\">\n",
       "  <thead>\n",
       "    <tr style=\"text-align: right;\">\n",
       "      <th></th>\n",
       "      <th>Track.Name</th>\n",
       "      <th>Artist.Name</th>\n",
       "      <th>Genre</th>\n",
       "      <th>Beats.Per.Minute</th>\n",
       "      <th>Energy</th>\n",
       "      <th>Danceability</th>\n",
       "      <th>Loudness..dB..</th>\n",
       "      <th>Liveness</th>\n",
       "      <th>Valence.</th>\n",
       "      <th>Length.</th>\n",
       "      <th>Acousticness..</th>\n",
       "      <th>Speechiness.</th>\n",
       "      <th>Popularity</th>\n",
       "    </tr>\n",
       "  </thead>\n",
       "  <tbody>\n",
       "    <tr>\n",
       "      <th>0</th>\n",
       "      <td>Señorita</td>\n",
       "      <td>Shawn Mendes</td>\n",
       "      <td>canadian pop</td>\n",
       "      <td>117</td>\n",
       "      <td>55</td>\n",
       "      <td>76</td>\n",
       "      <td>-6</td>\n",
       "      <td>8</td>\n",
       "      <td>75</td>\n",
       "      <td>191</td>\n",
       "      <td>4</td>\n",
       "      <td>3</td>\n",
       "      <td>79</td>\n",
       "    </tr>\n",
       "    <tr>\n",
       "      <th>1</th>\n",
       "      <td>China</td>\n",
       "      <td>Anuel AA</td>\n",
       "      <td>reggaeton flow</td>\n",
       "      <td>105</td>\n",
       "      <td>81</td>\n",
       "      <td>79</td>\n",
       "      <td>-4</td>\n",
       "      <td>8</td>\n",
       "      <td>61</td>\n",
       "      <td>302</td>\n",
       "      <td>8</td>\n",
       "      <td>9</td>\n",
       "      <td>92</td>\n",
       "    </tr>\n",
       "  </tbody>\n",
       "</table>\n",
       "</div>"
      ],
      "text/plain": [
       "  Track.Name   Artist.Name           Genre  Beats.Per.Minute  Energy  \\\n",
       "0   Señorita  Shawn Mendes    canadian pop               117      55   \n",
       "1      China      Anuel AA  reggaeton flow               105      81   \n",
       "\n",
       "   Danceability  Loudness..dB..  Liveness  Valence.  Length.  Acousticness..  \\\n",
       "0            76              -6         8        75      191               4   \n",
       "1            79              -4         8        61      302               8   \n",
       "\n",
       "   Speechiness.  Popularity  \n",
       "0             3          79  \n",
       "1             9          92  "
      ]
     },
     "execution_count": 40,
     "metadata": {},
     "output_type": "execute_result"
    }
   ],
   "source": [
    "stats.head(2)"
   ]
  },
  {
   "cell_type": "code",
   "execution_count": 62,
   "id": "e13adcd3",
   "metadata": {},
   "outputs": [
    {
     "data": {
      "image/png": "[encoded data removed]",
      "text/plain": [
       "<Figure size 1944x1440 with 1 Axes>"
      ]
     },
     "metadata": {},
     "output_type": "display_data"
    }
   ],
   "source": [
    "plt.figure(figsize =(27,20))\n",
    "grp_wdth = 0.3\n",
    "plt.bar(stats.index-grp_wdth, stats['Energy'], width = grp_wdth, color ='m')\n",
    "plt.bar(stats.index, stats.Danceability,tick_label = stats.index, width = grp_wdth, color = 'c')\n",
    "plt.bar(stats.index+grp_wdth, stats.Liveness, width=grp_wdth,color = 'g')\n",
    "plt.show()"
   ]
  },
  {
   "cell_type": "code",
   "execution_count": null,
   "id": "ad583dbf",
   "metadata": {},
   "outputs": [],
   "source": []
  }
 ],
 "metadata": {
  "kernelspec": {
   "display_name": "Python 3 (ipykernel)",
   "language": "python",
   "name": "python3"
  },
  "language_info": {
   "codemirror_mode": {
    "name": "ipython",
    "version": 3
   },
   "file_extension": ".py",
   "mimetype": "text/x-python",
   "name": "python",
   "nbconvert_exporter": "python",
   "pygments_lexer": "ipython3",
   "version": "3.9.12"
  }
 },
 "nbformat": 4,
 "nbformat_minor": 5
}
