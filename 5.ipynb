{
 "cells": [
  {
   "cell_type": "code",
   "execution_count": 4,
   "id": "fb7c7daf",
   "metadata": {},
   "outputs": [
    {
     "name": "stdout",
     "output_type": "stream",
     "text": [
      "{'white', 'black'}\n",
      "{'green'}\n"
     ]
    }
   ],
   "source": [
    "colour_list_1 = {\"white\",\"black\",\"red\"}\n",
    "colour_list_2 = {\"red\",\"green\"}\n",
    "print(colour_list_1.difference(colour_list_2))\n",
    "print(colour_list_2.difference(colour_list_1))"
   ]
  },
  {
   "cell_type": "code",
   "execution_count": 14,
   "id": "4231861c",
   "metadata": {},
   "outputs": [
    {
     "name": "stdout",
     "output_type": "stream",
     "text": [
      "3\n",
      "5\n"
     ]
    }
   ],
   "source": [
    "def gcd(x, y):\n",
    "    gcd = 1\n",
    "    if x%y == 0:\n",
    "        return y\n",
    "    for k in range(int(y), 0, -1):\n",
    "        if x%k == 0 and y%k == 0:\n",
    "            gcd = k\n",
    "            break\n",
    "          \n",
    "    return gcd\n",
    "print(gcd(15, 6))\n",
    "print(gcd(25, 5))\n",
    " "
   ]
  },
  {
   "cell_type": "code",
   "execution_count": 19,
   "id": "2330cd1e",
   "metadata": {
    "scrolled": true
   },
   "outputs": [
    {
     "name": "stdout",
     "output_type": "stream",
     "text": [
      "100\n",
      "180\n",
      "89\n"
     ]
    }
   ],
   "source": [
    "def lcm(x, y):\n",
    "    if x>y:\n",
    "        z = x\n",
    "    else:\n",
    "        z = y\n",
    "    while(True):\n",
    "        if z%x == 0 and z%y == 0:\n",
    "            lcm = z\n",
    "            break\n",
    "        z += 1\n",
    "    return lcm\n",
    "print(lcm(25, 20))\n",
    "print(lcm(36, 45))\n",
    "print(lcm(1, 89))"
   ]
  },
  {
   "cell_type": "code",
   "execution_count": 24,
   "id": "ac28ff4e",
   "metadata": {},
   "outputs": [
    {
     "name": "stdout",
     "output_type": "stream",
     "text": [
      "73\n",
      "0\n",
      "68\n"
     ]
    }
   ],
   "source": [
    "def sum(x, y, z):\n",
    "    if x == y or y == z or x == z:\n",
    "        sum = 0\n",
    "    else:\n",
    "        sum = x+y+z\n",
    "    return sum\n",
    "print(sum(25, 36, 12))\n",
    "print(sum(12,23,23))\n",
    "print(sum(26,24,18))\n",
    "    "
   ]
  },
  {
   "cell_type": "code",
   "execution_count": 31,
   "id": "f883cbde",
   "metadata": {},
   "outputs": [
    {
     "name": "stdout",
     "output_type": "stream",
     "text": [
      "70\n",
      "20\n"
     ]
    }
   ],
   "source": [
    "def sum_two(x, y):\n",
    "    sum_two = x+y\n",
    "    if sum_two in range(15, 20):\n",
    "        return 20\n",
    "    else:\n",
    "        return sum_two\n",
    "print(sum_two(25, 45))\n",
    "print(sum_two(10, 8))"
   ]
  },
  {
   "cell_type": "code",
   "execution_count": 45,
   "id": "89d3699b",
   "metadata": {},
   "outputs": [
    {
     "name": "stdout",
     "output_type": "stream",
     "text": [
      "True\n",
      "True\n",
      "True\n",
      "False\n"
     ]
    }
   ],
   "source": [
    "def two_number(x, y):\n",
    "    if x == y or x+y == 5 or abs(x-y) == 5:\n",
    "        return True\n",
    "    else:\n",
    "        return False\n",
    "print(two_number(2,3))\n",
    "print(two_number(10, 15))\n",
    "print(two_number(15, 15))\n",
    "print(two_number(15,24))"
   ]
  },
  {
   "cell_type": "code",
   "execution_count": 50,
   "id": "8373424c",
   "metadata": {},
   "outputs": [
    {
     "name": "stdout",
     "output_type": "stream",
     "text": [
      "11\n",
      "input must be integer\n"
     ]
    }
   ],
   "source": [
    "def sum_object(x, y):\n",
    "    if not (isinstance(x, int) and isinstance(y, int)):\n",
    "        return \"input must be integer\"\n",
    "    else:\n",
    "        return x+y\n",
    "print(sum_object(5,6))\n",
    "print(sum_object('z', 5))"
   ]
  },
  {
   "cell_type": "code",
   "execution_count": 58,
   "id": "ad97018b",
   "metadata": {},
   "outputs": [
    {
     "name": "stdout",
     "output_type": "stream",
     "text": [
      "Dharmendra Kushwah \n",
      "24 years \n",
      "Govt. hospital road sumaoli\n"
     ]
    }
   ],
   "source": [
    "name = \"Dharmendra Kushwah\"\n",
    "age = \"\\n24 years\"\n",
    "address = \"\\nGovt. hospital road sumaoli\"\n",
    "print(name,age,address)"
   ]
  },
  {
   "cell_type": "code",
   "execution_count": 70,
   "id": "7e607343",
   "metadata": {},
   "outputs": [
    {
     "name": "stdout",
     "output_type": "stream",
     "text": [
      "Name: Dharmendra Kushwah\n",
      "Age: 24\n",
      "Adress: Govt hospital road sumaoli, Morena, Madhya pradesh\n"
     ]
    }
   ],
   "source": [
    "def personal_detail():\n",
    "    name, age = \"Dharmendra Kushwah\", 24\n",
    "    adress = \"Govt hospital road sumaoli, Morena, Madhya pradesh\"\n",
    "    print(\"Name: {}\\nAge: {}\\nAdress: {}\".format(name,age,adress))\n",
    "\n",
    "personal_detail()"
   ]
  },
  {
   "cell_type": "code",
   "execution_count": 80,
   "id": "ce49ba32",
   "metadata": {},
   "outputs": [
    {
     "name": "stdout",
     "output_type": "stream",
     "text": [
      "(5 + 6)^2 = 121\n"
     ]
    }
   ],
   "source": [
    "x, y = 5, 6\n",
    "solution = x*x+y*y+2*x*y\n",
    "print(\"({} + {})^2 = {}\".format(x, y, solution))"
   ]
  },
  {
   "cell_type": "code",
   "execution_count": null,
   "id": "ec92e3c1",
   "metadata": {},
   "outputs": [],
   "source": []
  }
 ],
 "metadata": {
  "kernelspec": {
   "display_name": "Python 3 (ipykernel)",
   "language": "python",
   "name": "python3"
  },
  "language_info": {
   "codemirror_mode": {
    "name": "ipython",
    "version": 3
   },
   "file_extension": ".py",
   "mimetype": "text/x-python",
   "name": "python",
   "nbconvert_exporter": "python",
   "pygments_lexer": "ipython3",
   "version": "3.9.7"
  }
 },
 "nbformat": 4,
 "nbformat_minor": 5
}
