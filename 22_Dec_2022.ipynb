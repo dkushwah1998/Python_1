{
 "cells": [
  {
   "cell_type": "code",
   "execution_count": 2,
   "id": "c8c3cd5d",
   "metadata": {},
   "outputs": [
    {
     "name": "stdout",
     "output_type": "stream",
     "text": [
      "True\n",
      "False\n"
     ]
    }
   ],
   "source": [
    "def dinstict_num(num):\n",
    "    if len(num)==len(set(num)):\n",
    "        return True\n",
    "    else:\n",
    "        return False\n",
    "print(dinstict_num([1,5,4,6,8,7,2]))\n",
    "print(dinstict_num([1,2,5,4,2,5]))\n",
    "\n"
   ]
  },
  {
   "cell_type": "code",
   "execution_count": 5,
   "id": "fe68eab4",
   "metadata": {},
   "outputs": [
    {
     "name": "stdout",
     "output_type": "stream",
     "text": [
      "oaeiu\n"
     ]
    }
   ],
   "source": [
    "import random\n",
    "char = ['a','e','i','o','u']\n",
    "random.shuffle(char)\n",
    "print(''.join(char))"
   ]
  },
  {
   "cell_type": "code",
   "execution_count": 6,
   "id": "d131cc0a",
   "metadata": {},
   "outputs": [
    {
     "name": "stdout",
     "output_type": "stream",
     "text": [
      "36\n",
      "54\n",
      "658\n",
      "66\n",
      "22\n",
      "44\n",
      "88\n",
      "96\n",
      "36\n",
      "44\n",
      "48\n",
      "42\n",
      "26\n",
      "62\n",
      "64\n",
      "237\n"
     ]
    }
   ],
   "source": [
    "num = [25,36,54,15,265,658,66,33,22,55,44,77,88,25,45,65,96,35,36,44,48,42,26,62,64,237,58765,25,44,22,36,62,56,88,58,56,54]\n",
    "\n",
    "for i in num:\n",
    "    if i==237:\n",
    "        print(i)\n",
    "        break\n",
    "    elif i%2==0:\n",
    "        print(i)\n",
    "        "
   ]
  },
  {
   "cell_type": "code",
   "execution_count": 12,
   "id": "4efb4ccc",
   "metadata": {},
   "outputs": [
    {
     "name": "stdout",
     "output_type": "stream",
     "text": [
      "{'green', 'Black'}\n",
      "{'yellow'}\n"
     ]
    }
   ],
   "source": [
    "color_list1 = set(['Black','red','blue','green'])\n",
    "color_list2 = set(['yellow','blue','red'])\n",
    "print(color_list1.difference(color_list2))\n",
    "print(color_list2.difference(color_list1))\n",
    "\n"
   ]
  },
  {
   "cell_type": "code",
   "execution_count": 13,
   "id": "df885389",
   "metadata": {},
   "outputs": [
    {
     "name": "stdout",
     "output_type": "stream",
     "text": [
      "Enter base of triangle: 5\n",
      "Enter height of triangle: 6\n",
      "15.0\n"
     ]
    }
   ],
   "source": [
    "base = int(input(\"Enter base of triangle: \"))\n",
    "height = int(input(\"Enter height of triangle: \"))\n",
    "Area = 0.5*base*height\n",
    "print(Area)"
   ]
  },
  {
   "cell_type": "code",
   "execution_count": 14,
   "id": "0b004bd3",
   "metadata": {},
   "outputs": [
    {
     "name": "stdout",
     "output_type": "stream",
     "text": [
      "15\n"
     ]
    }
   ],
   "source": [
    "Area = int(Area)\n",
    "print(Area)"
   ]
  },
  {
   "cell_type": "code",
   "execution_count": null,
   "id": "350235c1",
   "metadata": {},
   "outputs": [],
   "source": []
  }
 ],
 "metadata": {
  "kernelspec": {
   "display_name": "Python 3 (ipykernel)",
   "language": "python",
   "name": "python3"
  },
  "language_info": {
   "codemirror_mode": {
    "name": "ipython",
    "version": 3
   },
   "file_extension": ".py",
   "mimetype": "text/x-python",
   "name": "python",
   "nbconvert_exporter": "python",
   "pygments_lexer": "ipython3",
   "version": "3.9.12"
  }
 },
 "nbformat": 4,
 "nbformat_minor": 5
}
