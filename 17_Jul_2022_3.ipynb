{
 "cells": [
  {
   "cell_type": "code",
   "execution_count": 1,
   "id": "7eb0c500",
   "metadata": {},
   "outputs": [],
   "source": [
    "import numpy as np\n",
    "import pandas as pd"
   ]
  },
  {
   "cell_type": "code",
   "execution_count": 2,
   "id": "d595f39c",
   "metadata": {},
   "outputs": [
    {
     "name": "stdout",
     "output_type": "stream",
     "text": [
      "Befrore:\n",
      "    one  two\n",
      "a  1.0  1.0\n",
      "b  2.0  2.0\n",
      "c  NaN  3.0\n",
      "d  NaN  4.0\n",
      "e  5.0  NaN\n",
      "After:\n",
      "         one  two\n",
      "0  1.000000  1.0\n",
      "1  2.000000  2.0\n",
      "2  2.666667  3.0\n",
      "3  2.666667  4.0\n",
      "4  5.000000  2.5\n"
     ]
    },
    {
     "name": "stderr",
     "output_type": "stream",
     "text": [
      "C:\\Users\\HP\\anaconda3\\lib\\site-packages\\sklearn\\base.py:450: UserWarning: X does not have valid feature names, but SimpleImputer was fitted with feature names\n",
      "  warnings.warn(\n"
     ]
    }
   ],
   "source": [
    "data = {'one': pd.Series([1,2,5], index = ['a','b','e']),\n",
    "       'two':pd.Series([1,2,3,4], index = ['a','b','c','d']),}\n",
    "table = pd.DataFrame(data)\n",
    "print('Befrore:\\n',table)\n",
    "\n",
    "from sklearn.impute import SimpleImputer\n",
    "imputer = SimpleImputer(missing_values = np.nan, strategy = 'mean')\n",
    "imputer.fit(table)\n",
    "imputed_data = imputer.transform(table.values)\n",
    "print('After:\\n',pd.DataFrame(imputed_data, columns = ['one','two']))"
   ]
  },
  {
   "cell_type": "code",
   "execution_count": 11,
   "id": "96c634cd",
   "metadata": {},
   "outputs": [
    {
     "name": "stdout",
     "output_type": "stream",
     "text": [
      "   customer-id         Loan_type Income\n",
      "0            1         Home Loan    30k\n",
      "1            2     Personal Loan    15k\n",
      "2            3  Educational Loan    25k\n",
      "3            4         Home Loan    40k\n",
      "4            5       Credit Loan    35k\n"
     ]
    }
   ],
   "source": [
    "data = {'customer-id':pd.Series([1,2,3,4,5]),'Loan_type':pd.Series(['Home Loan','Personal Loan',\n",
    "                                                                   'Educational Loan','Home Loan','Credit Loan']),\n",
    "       'Income': pd.Series(['30k','15k','25k','40k','35k'])}\n",
    "loan_info = pd.DataFrame(data)\n",
    "\n",
    "print(loan_info)"
   ]
  },
  {
   "cell_type": "code",
   "execution_count": 9,
   "id": "9dacb395",
   "metadata": {},
   "outputs": [
    {
     "name": "stdout",
     "output_type": "stream",
     "text": [
      "   customer-id  Loan_type_Educational Loan  Loan_type_Home Loan  \\\n",
      "0            1                           0                    1   \n",
      "1            2                           0                    0   \n",
      "2            3                           1                    0   \n",
      "3            4                           0                    1   \n",
      "4            5                           0                    0   \n",
      "\n",
      "   Loan_type_Personal Loan  Income_25k  Income_30k  Income_35k  Income_40k  \n",
      "0                        0           0           1           0           0  \n",
      "1                        1           0           0           0           0  \n",
      "2                        0           1           0           0           0  \n",
      "3                        0           0           0           0           1  \n",
      "4                        0           0           0           1           0  \n"
     ]
    }
   ],
   "source": [
    "loan_info = pd.get_dummies(loan_info, prefix_sep = '_',drop_first = True)\n",
    "print(loan_info)"
   ]
  },
  {
   "cell_type": "code",
   "execution_count": 12,
   "id": "9fd01b35",
   "metadata": {},
   "outputs": [
    {
     "name": "stdout",
     "output_type": "stream",
     "text": [
      "   customer-id  Loan_type  Income\n",
      "0            0          2       2\n",
      "1            1          3       0\n",
      "2            2          1       1\n",
      "3            3          2       4\n",
      "4            4          0       3\n"
     ]
    }
   ],
   "source": [
    "data = {'customer-id':pd.Series([1,2,3,4,5]),'Loan_type':pd.Series(['Home Loan','Personal Loan',\n",
    "                                                                   'Educational Loan','Home Loan','Credit Loan']),\n",
    "       'Income': pd.Series(['30k','15k','25k','40k','35k'])}\n",
    "loan_info = pd.DataFrame(data)\n",
    "from sklearn.preprocessing import LabelEncoder\n",
    "labelencoder = LabelEncoder()\n",
    "loan_info_upd = loan_info.apply(labelencoder.fit_transform)\n",
    "\n",
    "\n",
    "print(loan_info_upd)"
   ]
  },
  {
   "cell_type": "code",
   "execution_count": 17,
   "id": "e234335d",
   "metadata": {},
   "outputs": [
    {
     "name": "stdout",
     "output_type": "stream",
     "text": [
      "[[1. 0. 0. 0. 0. 0. 0. 1. 0. 0. 0. 1. 0. 0.]\n",
      " [0. 1. 0. 0. 0. 0. 0. 0. 1. 1. 0. 0. 0. 0.]\n",
      " [0. 0. 1. 0. 0. 0. 1. 0. 0. 0. 1. 0. 0. 0.]\n",
      " [0. 0. 0. 1. 0. 0. 0. 1. 0. 0. 0. 0. 0. 1.]\n",
      " [0. 0. 0. 0. 1. 1. 0. 0. 0. 0. 0. 0. 1. 0.]]\n"
     ]
    }
   ],
   "source": [
    "data = {'customer-id':pd.Series([1,2,3,4,5]),'Loan_type':pd.Series(['Home Loan','Personal Loan',\n",
    "                                                                   'Educational Loan','Home Loan','Credit Loan']),\n",
    "       'Income': pd.Series(['30k','15k','25k','40k','35k'])}\n",
    "loan_info = pd.DataFrame(data)\n",
    "from sklearn.preprocessing import OneHotEncoder\n",
    "onehotencoder = OneHotEncoder()\n",
    "x = onehotencoder.fit_transform(loan_info).toarray()\n",
    "print(x)"
   ]
  },
  {
   "cell_type": "code",
   "execution_count": null,
   "id": "5a09618b",
   "metadata": {},
   "outputs": [],
   "source": []
  }
 ],
 "metadata": {
  "kernelspec": {
   "display_name": "Python 3 (ipykernel)",
   "language": "python",
   "name": "python3"
  },
  "language_info": {
   "codemirror_mode": {
    "name": "ipython",
    "version": 3
   },
   "file_extension": ".py",
   "mimetype": "text/x-python",
   "name": "python",
   "nbconvert_exporter": "python",
   "pygments_lexer": "ipython3",
   "version": "3.9.12"
  }
 },
 "nbformat": 4,
 "nbformat_minor": 5
}
