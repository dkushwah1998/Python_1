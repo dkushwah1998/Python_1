{
 "cells": [
  {
   "cell_type": "code",
   "execution_count": 5,
   "id": "7b975052",
   "metadata": {},
   "outputs": [
    {
     "name": "stdout",
     "output_type": "stream",
     "text": [
      "Dharmendra\n"
     ]
    }
   ],
   "source": [
    "#keywords and identifiers\n",
    "name = \"Dharmendra\"\n",
    "print(name)\n"
   ]
  },
  {
   "cell_type": "code",
   "execution_count": null,
   "id": "aca10714",
   "metadata": {},
   "outputs": [],
   "source": [
    "#operators"
   ]
  },
  {
   "cell_type": "code",
   "execution_count": 9,
   "id": "d64d8ad3",
   "metadata": {},
   "outputs": [
    {
     "name": "stdout",
     "output_type": "stream",
     "text": [
      "30\n",
      "10\n",
      "2.0\n",
      "0\n",
      "200\n",
      "10240000000000\n"
     ]
    }
   ],
   "source": [
    "# airthmatic Operator\n",
    "\n",
    "print(10+20)\n",
    "print(20-10)\n",
    "print(20/10)\n",
    "print(20%10)\n",
    "print(20*10)\n",
    "print(20**10)"
   ]
  },
  {
   "cell_type": "code",
   "execution_count": 11,
   "id": "35a3e6e0",
   "metadata": {},
   "outputs": [
    {
     "name": "stdout",
     "output_type": "stream",
     "text": [
      "10\n",
      "20\n",
      "10\n",
      "100\n",
      "10.0\n",
      "2.0\n"
     ]
    }
   ],
   "source": [
    "# Assignment operator\n",
    "a = 10\n",
    "print(a)\n",
    "a += 10\n",
    "print(a)\n",
    "a -= 10\n",
    "print(a)\n",
    "a *= 10\n",
    "print(a)\n",
    "a /= 10\n",
    "print(a)\n",
    "a %= 4\n",
    "print(a)"
   ]
  },
  {
   "cell_type": "code",
   "execution_count": 12,
   "id": "eed0ddaa",
   "metadata": {},
   "outputs": [
    {
     "name": "stdout",
     "output_type": "stream",
     "text": [
      "False\n",
      "True\n",
      "True\n",
      "False\n",
      "True\n",
      "False\n"
     ]
    }
   ],
   "source": [
    "# Comparision operator\n",
    "print(10==20)\n",
    "print(10!=20)\n",
    "print(10<20)\n",
    "print(10>20)\n",
    "print(10<=20)\n",
    "print(10>=20)"
   ]
  },
  {
   "cell_type": "code",
   "execution_count": null,
   "id": "c825934f",
   "metadata": {},
   "outputs": [],
   "source": []
  }
 ],
 "metadata": {
  "kernelspec": {
   "display_name": "Python 3 (ipykernel)",
   "language": "python",
   "name": "python3"
  },
  "language_info": {
   "codemirror_mode": {
    "name": "ipython",
    "version": 3
   },
   "file_extension": ".py",
   "mimetype": "text/x-python",
   "name": "python",
   "nbconvert_exporter": "python",
   "pygments_lexer": "ipython3",
   "version": "3.9.7"
  }
 },
 "nbformat": 4,
 "nbformat_minor": 5
}
