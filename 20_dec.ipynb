{
 "cells": [
  {
   "cell_type": "code",
   "execution_count": 2,
   "id": "91296e24",
   "metadata": {},
   "outputs": [
    {
     "name": "stdout",
     "output_type": "stream",
     "text": [
      "dk.png\n",
      "png\n"
     ]
    }
   ],
   "source": [
    "fname = input()\n",
    "list = fname.split('.')\n",
    "print(list[-1])"
   ]
  },
  {
   "cell_type": "code",
   "execution_count": 6,
   "id": "623eb136",
   "metadata": {},
   "outputs": [
    {
     "name": "stdout",
     "output_type": "stream",
     "text": [
      "['red', 'black']\n",
      "red black\n"
     ]
    }
   ],
   "source": [
    "color = ['red','green','white','black']\n",
    "print(color[0::3])\n",
    "print(color[0],color[-1])"
   ]
  },
  {
   "cell_type": "code",
   "execution_count": 7,
   "id": "b68823a1",
   "metadata": {},
   "outputs": [
    {
     "name": "stdout",
     "output_type": "stream",
     "text": [
      "exam will start from: 25/11/2022\n"
     ]
    }
   ],
   "source": [
    "exam_date = (25,11,2022)\n",
    "print(\"exam will start from: %i/%i/%i\"%exam_date)"
   ]
  },
  {
   "cell_type": "code",
   "execution_count": 12,
   "id": "5b6293b5",
   "metadata": {},
   "outputs": [
    {
     "name": "stdout",
     "output_type": "stream",
     "text": [
      "Enter a number: 8\n",
      "984\n"
     ]
    }
   ],
   "source": [
    "n = int(input(\"Enter a number: \"))\n",
    "n1 = int(\"%i\"% n)\n",
    "n2 = int('%i%i'% (n,n))\n",
    "n3 = int('%i%i%i'% (n,n,n))\n",
    "print(n1+n2+n3)\n",
    "    "
   ]
  },
  {
   "cell_type": "code",
   "execution_count": 15,
   "id": "699c3dbd",
   "metadata": {},
   "outputs": [
    {
     "name": "stdout",
     "output_type": "stream",
     "text": [
      "Enter radius of sphere: 5\n",
      "523.8095238095239\n"
     ]
    }
   ],
   "source": [
    "r = int(input(\"Enter radius of sphere: \"))\n",
    "Volume = 4*22/(3*7)*r**3\n",
    "print(Volume)"
   ]
  },
  {
   "cell_type": "code",
   "execution_count": null,
   "id": "bbc36f88",
   "metadata": {},
   "outputs": [],
   "source": []
  }
 ],
 "metadata": {
  "kernelspec": {
   "display_name": "Python 3 (ipykernel)",
   "language": "python",
   "name": "python3"
  },
  "language_info": {
   "codemirror_mode": {
    "name": "ipython",
    "version": 3
   },
   "file_extension": ".py",
   "mimetype": "text/x-python",
   "name": "python",
   "nbconvert_exporter": "python",
   "pygments_lexer": "ipython3",
   "version": "3.9.12"
  }
 },
 "nbformat": 4,
 "nbformat_minor": 5
}
